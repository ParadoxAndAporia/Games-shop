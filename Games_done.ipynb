{
 "cells": [
  {
   "cell_type": "markdown",
   "metadata": {},
   "source": [
    "# Описание проекта"
   ]
  },
  {
   "cell_type": "markdown",
   "metadata": {},
   "source": [
    "Вы работаете в интернет-магазине «Стримчик», который продаёт по всему миру компьютерные игры. Из открытых источников доступны исторические данные о продажах игр, оценки пользователей и экспертов, жанры и платформы (например, Xbox или PlayStation). Вам нужно выявить определяющие успешность игры закономерности. Это позволит сделать ставку на потенциально популярный продукт и спланировать рекламные кампании."
   ]
  },
  {
   "cell_type": "markdown",
   "metadata": {},
   "source": [
    "## Описание данных"
   ]
  },
  {
   "cell_type": "markdown",
   "metadata": {},
   "source": [
    "* **Name** — название игры\n",
    "* **Platform** — платформа\n",
    "* **Year_of_Release** — год выпуска\n",
    "* **Genre** — жанр игры\n",
    "* **NA_sales** — продажи в Северной Америке (миллионы проданных копий)\n",
    "* **EU_sales** — продажи в Европе (миллионы проданных копий)\n",
    "* **JP_sales** — продажи в Японии (миллионы проданных копий)\n",
    "* **Other_sales** — продажи в других странах (миллионы проданных копий)\n",
    "* **Critic_Score** — оценка критиков (максимум 100)\n",
    "* **User_Score** — оценка пользователей (максимум 10)\n",
    "* **Rating** — рейтинг от организации ESRB (англ. Entertainment Software Rating Board). Эта ассоциация определяет рейтинг компьютерных игр и присваивает им подходящую возрастную категорию."
   ]
  },
  {
   "cell_type": "markdown",
   "metadata": {},
   "source": [
    "## Импортируем необходимые библиотеки"
   ]
  },
  {
   "cell_type": "code",
   "execution_count": 1,
   "metadata": {},
   "outputs": [],
   "source": [
    "import pandas as pd\n",
    "import numpy as np\n",
    "import matplotlib.pyplot as plt\n",
    "plt.style.use('seaborn-pastel')\n",
    "\n",
    "import seaborn as sns\n",
    "import scipy.stats as st"
   ]
  },
  {
   "cell_type": "markdown",
   "metadata": {},
   "source": [
    "## Откроем файл с данными и изучим общую информацию"
   ]
  },
  {
   "cell_type": "code",
   "execution_count": 2,
   "metadata": {},
   "outputs": [],
   "source": [
    "df = pd.read_csv('/datasets/games.csv')"
   ]
  },
  {
   "cell_type": "code",
   "execution_count": 3,
   "metadata": {
    "scrolled": true
   },
   "outputs": [
    {
     "data": {
      "text/html": [
       "<div>\n",
       "<style scoped>\n",
       "    .dataframe tbody tr th:only-of-type {\n",
       "        vertical-align: middle;\n",
       "    }\n",
       "\n",
       "    .dataframe tbody tr th {\n",
       "        vertical-align: top;\n",
       "    }\n",
       "\n",
       "    .dataframe thead th {\n",
       "        text-align: right;\n",
       "    }\n",
       "</style>\n",
       "<table border=\"1\" class=\"dataframe\">\n",
       "  <thead>\n",
       "    <tr style=\"text-align: right;\">\n",
       "      <th></th>\n",
       "      <th>Name</th>\n",
       "      <th>Platform</th>\n",
       "      <th>Year_of_Release</th>\n",
       "      <th>Genre</th>\n",
       "      <th>NA_sales</th>\n",
       "      <th>EU_sales</th>\n",
       "      <th>JP_sales</th>\n",
       "      <th>Other_sales</th>\n",
       "      <th>Critic_Score</th>\n",
       "      <th>User_Score</th>\n",
       "      <th>Rating</th>\n",
       "    </tr>\n",
       "  </thead>\n",
       "  <tbody>\n",
       "    <tr>\n",
       "      <th>0</th>\n",
       "      <td>Wii Sports</td>\n",
       "      <td>Wii</td>\n",
       "      <td>2006.0</td>\n",
       "      <td>Sports</td>\n",
       "      <td>41.36</td>\n",
       "      <td>28.96</td>\n",
       "      <td>3.77</td>\n",
       "      <td>8.45</td>\n",
       "      <td>76.0</td>\n",
       "      <td>8</td>\n",
       "      <td>E</td>\n",
       "    </tr>\n",
       "    <tr>\n",
       "      <th>1</th>\n",
       "      <td>Super Mario Bros.</td>\n",
       "      <td>NES</td>\n",
       "      <td>1985.0</td>\n",
       "      <td>Platform</td>\n",
       "      <td>29.08</td>\n",
       "      <td>3.58</td>\n",
       "      <td>6.81</td>\n",
       "      <td>0.77</td>\n",
       "      <td>NaN</td>\n",
       "      <td>NaN</td>\n",
       "      <td>NaN</td>\n",
       "    </tr>\n",
       "    <tr>\n",
       "      <th>2</th>\n",
       "      <td>Mario Kart Wii</td>\n",
       "      <td>Wii</td>\n",
       "      <td>2008.0</td>\n",
       "      <td>Racing</td>\n",
       "      <td>15.68</td>\n",
       "      <td>12.76</td>\n",
       "      <td>3.79</td>\n",
       "      <td>3.29</td>\n",
       "      <td>82.0</td>\n",
       "      <td>8.3</td>\n",
       "      <td>E</td>\n",
       "    </tr>\n",
       "    <tr>\n",
       "      <th>3</th>\n",
       "      <td>Wii Sports Resort</td>\n",
       "      <td>Wii</td>\n",
       "      <td>2009.0</td>\n",
       "      <td>Sports</td>\n",
       "      <td>15.61</td>\n",
       "      <td>10.93</td>\n",
       "      <td>3.28</td>\n",
       "      <td>2.95</td>\n",
       "      <td>80.0</td>\n",
       "      <td>8</td>\n",
       "      <td>E</td>\n",
       "    </tr>\n",
       "    <tr>\n",
       "      <th>4</th>\n",
       "      <td>Pokemon Red/Pokemon Blue</td>\n",
       "      <td>GB</td>\n",
       "      <td>1996.0</td>\n",
       "      <td>Role-Playing</td>\n",
       "      <td>11.27</td>\n",
       "      <td>8.89</td>\n",
       "      <td>10.22</td>\n",
       "      <td>1.00</td>\n",
       "      <td>NaN</td>\n",
       "      <td>NaN</td>\n",
       "      <td>NaN</td>\n",
       "    </tr>\n",
       "    <tr>\n",
       "      <th>5</th>\n",
       "      <td>Tetris</td>\n",
       "      <td>GB</td>\n",
       "      <td>1989.0</td>\n",
       "      <td>Puzzle</td>\n",
       "      <td>23.20</td>\n",
       "      <td>2.26</td>\n",
       "      <td>4.22</td>\n",
       "      <td>0.58</td>\n",
       "      <td>NaN</td>\n",
       "      <td>NaN</td>\n",
       "      <td>NaN</td>\n",
       "    </tr>\n",
       "    <tr>\n",
       "      <th>6</th>\n",
       "      <td>New Super Mario Bros.</td>\n",
       "      <td>DS</td>\n",
       "      <td>2006.0</td>\n",
       "      <td>Platform</td>\n",
       "      <td>11.28</td>\n",
       "      <td>9.14</td>\n",
       "      <td>6.50</td>\n",
       "      <td>2.88</td>\n",
       "      <td>89.0</td>\n",
       "      <td>8.5</td>\n",
       "      <td>E</td>\n",
       "    </tr>\n",
       "    <tr>\n",
       "      <th>7</th>\n",
       "      <td>Wii Play</td>\n",
       "      <td>Wii</td>\n",
       "      <td>2006.0</td>\n",
       "      <td>Misc</td>\n",
       "      <td>13.96</td>\n",
       "      <td>9.18</td>\n",
       "      <td>2.93</td>\n",
       "      <td>2.84</td>\n",
       "      <td>58.0</td>\n",
       "      <td>6.6</td>\n",
       "      <td>E</td>\n",
       "    </tr>\n",
       "    <tr>\n",
       "      <th>8</th>\n",
       "      <td>New Super Mario Bros. Wii</td>\n",
       "      <td>Wii</td>\n",
       "      <td>2009.0</td>\n",
       "      <td>Platform</td>\n",
       "      <td>14.44</td>\n",
       "      <td>6.94</td>\n",
       "      <td>4.70</td>\n",
       "      <td>2.24</td>\n",
       "      <td>87.0</td>\n",
       "      <td>8.4</td>\n",
       "      <td>E</td>\n",
       "    </tr>\n",
       "    <tr>\n",
       "      <th>9</th>\n",
       "      <td>Duck Hunt</td>\n",
       "      <td>NES</td>\n",
       "      <td>1984.0</td>\n",
       "      <td>Shooter</td>\n",
       "      <td>26.93</td>\n",
       "      <td>0.63</td>\n",
       "      <td>0.28</td>\n",
       "      <td>0.47</td>\n",
       "      <td>NaN</td>\n",
       "      <td>NaN</td>\n",
       "      <td>NaN</td>\n",
       "    </tr>\n",
       "    <tr>\n",
       "      <th>10</th>\n",
       "      <td>Nintendogs</td>\n",
       "      <td>DS</td>\n",
       "      <td>2005.0</td>\n",
       "      <td>Simulation</td>\n",
       "      <td>9.05</td>\n",
       "      <td>10.95</td>\n",
       "      <td>1.93</td>\n",
       "      <td>2.74</td>\n",
       "      <td>NaN</td>\n",
       "      <td>NaN</td>\n",
       "      <td>NaN</td>\n",
       "    </tr>\n",
       "    <tr>\n",
       "      <th>11</th>\n",
       "      <td>Mario Kart DS</td>\n",
       "      <td>DS</td>\n",
       "      <td>2005.0</td>\n",
       "      <td>Racing</td>\n",
       "      <td>9.71</td>\n",
       "      <td>7.47</td>\n",
       "      <td>4.13</td>\n",
       "      <td>1.90</td>\n",
       "      <td>91.0</td>\n",
       "      <td>8.6</td>\n",
       "      <td>E</td>\n",
       "    </tr>\n",
       "    <tr>\n",
       "      <th>12</th>\n",
       "      <td>Pokemon Gold/Pokemon Silver</td>\n",
       "      <td>GB</td>\n",
       "      <td>1999.0</td>\n",
       "      <td>Role-Playing</td>\n",
       "      <td>9.00</td>\n",
       "      <td>6.18</td>\n",
       "      <td>7.20</td>\n",
       "      <td>0.71</td>\n",
       "      <td>NaN</td>\n",
       "      <td>NaN</td>\n",
       "      <td>NaN</td>\n",
       "    </tr>\n",
       "    <tr>\n",
       "      <th>13</th>\n",
       "      <td>Wii Fit</td>\n",
       "      <td>Wii</td>\n",
       "      <td>2007.0</td>\n",
       "      <td>Sports</td>\n",
       "      <td>8.92</td>\n",
       "      <td>8.03</td>\n",
       "      <td>3.60</td>\n",
       "      <td>2.15</td>\n",
       "      <td>80.0</td>\n",
       "      <td>7.7</td>\n",
       "      <td>E</td>\n",
       "    </tr>\n",
       "    <tr>\n",
       "      <th>14</th>\n",
       "      <td>Kinect Adventures!</td>\n",
       "      <td>X360</td>\n",
       "      <td>2010.0</td>\n",
       "      <td>Misc</td>\n",
       "      <td>15.00</td>\n",
       "      <td>4.89</td>\n",
       "      <td>0.24</td>\n",
       "      <td>1.69</td>\n",
       "      <td>61.0</td>\n",
       "      <td>6.3</td>\n",
       "      <td>E</td>\n",
       "    </tr>\n",
       "    <tr>\n",
       "      <th>15</th>\n",
       "      <td>Wii Fit Plus</td>\n",
       "      <td>Wii</td>\n",
       "      <td>2009.0</td>\n",
       "      <td>Sports</td>\n",
       "      <td>9.01</td>\n",
       "      <td>8.49</td>\n",
       "      <td>2.53</td>\n",
       "      <td>1.77</td>\n",
       "      <td>80.0</td>\n",
       "      <td>7.4</td>\n",
       "      <td>E</td>\n",
       "    </tr>\n",
       "    <tr>\n",
       "      <th>16</th>\n",
       "      <td>Grand Theft Auto V</td>\n",
       "      <td>PS3</td>\n",
       "      <td>2013.0</td>\n",
       "      <td>Action</td>\n",
       "      <td>7.02</td>\n",
       "      <td>9.09</td>\n",
       "      <td>0.98</td>\n",
       "      <td>3.96</td>\n",
       "      <td>97.0</td>\n",
       "      <td>8.2</td>\n",
       "      <td>M</td>\n",
       "    </tr>\n",
       "    <tr>\n",
       "      <th>17</th>\n",
       "      <td>Grand Theft Auto: San Andreas</td>\n",
       "      <td>PS2</td>\n",
       "      <td>2004.0</td>\n",
       "      <td>Action</td>\n",
       "      <td>9.43</td>\n",
       "      <td>0.40</td>\n",
       "      <td>0.41</td>\n",
       "      <td>10.57</td>\n",
       "      <td>95.0</td>\n",
       "      <td>9</td>\n",
       "      <td>M</td>\n",
       "    </tr>\n",
       "    <tr>\n",
       "      <th>18</th>\n",
       "      <td>Super Mario World</td>\n",
       "      <td>SNES</td>\n",
       "      <td>1990.0</td>\n",
       "      <td>Platform</td>\n",
       "      <td>12.78</td>\n",
       "      <td>3.75</td>\n",
       "      <td>3.54</td>\n",
       "      <td>0.55</td>\n",
       "      <td>NaN</td>\n",
       "      <td>NaN</td>\n",
       "      <td>NaN</td>\n",
       "    </tr>\n",
       "    <tr>\n",
       "      <th>19</th>\n",
       "      <td>Brain Age: Train Your Brain in Minutes a Day</td>\n",
       "      <td>DS</td>\n",
       "      <td>2005.0</td>\n",
       "      <td>Misc</td>\n",
       "      <td>4.74</td>\n",
       "      <td>9.20</td>\n",
       "      <td>4.16</td>\n",
       "      <td>2.04</td>\n",
       "      <td>77.0</td>\n",
       "      <td>7.9</td>\n",
       "      <td>E</td>\n",
       "    </tr>\n",
       "    <tr>\n",
       "      <th>20</th>\n",
       "      <td>Pokemon Diamond/Pokemon Pearl</td>\n",
       "      <td>DS</td>\n",
       "      <td>2006.0</td>\n",
       "      <td>Role-Playing</td>\n",
       "      <td>6.38</td>\n",
       "      <td>4.46</td>\n",
       "      <td>6.04</td>\n",
       "      <td>1.36</td>\n",
       "      <td>NaN</td>\n",
       "      <td>NaN</td>\n",
       "      <td>NaN</td>\n",
       "    </tr>\n",
       "    <tr>\n",
       "      <th>21</th>\n",
       "      <td>Super Mario Land</td>\n",
       "      <td>GB</td>\n",
       "      <td>1989.0</td>\n",
       "      <td>Platform</td>\n",
       "      <td>10.83</td>\n",
       "      <td>2.71</td>\n",
       "      <td>4.18</td>\n",
       "      <td>0.42</td>\n",
       "      <td>NaN</td>\n",
       "      <td>NaN</td>\n",
       "      <td>NaN</td>\n",
       "    </tr>\n",
       "    <tr>\n",
       "      <th>22</th>\n",
       "      <td>Super Mario Bros. 3</td>\n",
       "      <td>NES</td>\n",
       "      <td>1988.0</td>\n",
       "      <td>Platform</td>\n",
       "      <td>9.54</td>\n",
       "      <td>3.44</td>\n",
       "      <td>3.84</td>\n",
       "      <td>0.46</td>\n",
       "      <td>NaN</td>\n",
       "      <td>NaN</td>\n",
       "      <td>NaN</td>\n",
       "    </tr>\n",
       "    <tr>\n",
       "      <th>23</th>\n",
       "      <td>Grand Theft Auto V</td>\n",
       "      <td>X360</td>\n",
       "      <td>2013.0</td>\n",
       "      <td>Action</td>\n",
       "      <td>9.66</td>\n",
       "      <td>5.14</td>\n",
       "      <td>0.06</td>\n",
       "      <td>1.41</td>\n",
       "      <td>97.0</td>\n",
       "      <td>8.1</td>\n",
       "      <td>M</td>\n",
       "    </tr>\n",
       "    <tr>\n",
       "      <th>24</th>\n",
       "      <td>Grand Theft Auto: Vice City</td>\n",
       "      <td>PS2</td>\n",
       "      <td>2002.0</td>\n",
       "      <td>Action</td>\n",
       "      <td>8.41</td>\n",
       "      <td>5.49</td>\n",
       "      <td>0.47</td>\n",
       "      <td>1.78</td>\n",
       "      <td>95.0</td>\n",
       "      <td>8.7</td>\n",
       "      <td>M</td>\n",
       "    </tr>\n",
       "    <tr>\n",
       "      <th>25</th>\n",
       "      <td>Pokemon Ruby/Pokemon Sapphire</td>\n",
       "      <td>GBA</td>\n",
       "      <td>2002.0</td>\n",
       "      <td>Role-Playing</td>\n",
       "      <td>6.06</td>\n",
       "      <td>3.90</td>\n",
       "      <td>5.38</td>\n",
       "      <td>0.50</td>\n",
       "      <td>NaN</td>\n",
       "      <td>NaN</td>\n",
       "      <td>NaN</td>\n",
       "    </tr>\n",
       "    <tr>\n",
       "      <th>26</th>\n",
       "      <td>Brain Age 2: More Training in Minutes a Day</td>\n",
       "      <td>DS</td>\n",
       "      <td>2005.0</td>\n",
       "      <td>Puzzle</td>\n",
       "      <td>3.43</td>\n",
       "      <td>5.35</td>\n",
       "      <td>5.32</td>\n",
       "      <td>1.18</td>\n",
       "      <td>77.0</td>\n",
       "      <td>7.1</td>\n",
       "      <td>E</td>\n",
       "    </tr>\n",
       "    <tr>\n",
       "      <th>27</th>\n",
       "      <td>Pokemon Black/Pokemon White</td>\n",
       "      <td>DS</td>\n",
       "      <td>2010.0</td>\n",
       "      <td>Role-Playing</td>\n",
       "      <td>5.51</td>\n",
       "      <td>3.17</td>\n",
       "      <td>5.65</td>\n",
       "      <td>0.80</td>\n",
       "      <td>NaN</td>\n",
       "      <td>NaN</td>\n",
       "      <td>NaN</td>\n",
       "    </tr>\n",
       "    <tr>\n",
       "      <th>28</th>\n",
       "      <td>Gran Turismo 3: A-Spec</td>\n",
       "      <td>PS2</td>\n",
       "      <td>2001.0</td>\n",
       "      <td>Racing</td>\n",
       "      <td>6.85</td>\n",
       "      <td>5.09</td>\n",
       "      <td>1.87</td>\n",
       "      <td>1.16</td>\n",
       "      <td>95.0</td>\n",
       "      <td>8.4</td>\n",
       "      <td>E</td>\n",
       "    </tr>\n",
       "    <tr>\n",
       "      <th>29</th>\n",
       "      <td>Call of Duty: Modern Warfare 3</td>\n",
       "      <td>X360</td>\n",
       "      <td>2011.0</td>\n",
       "      <td>Shooter</td>\n",
       "      <td>9.04</td>\n",
       "      <td>4.24</td>\n",
       "      <td>0.13</td>\n",
       "      <td>1.32</td>\n",
       "      <td>88.0</td>\n",
       "      <td>3.4</td>\n",
       "      <td>M</td>\n",
       "    </tr>\n",
       "    <tr>\n",
       "      <th>30</th>\n",
       "      <td>Pokémon Yellow: Special Pikachu Edition</td>\n",
       "      <td>GB</td>\n",
       "      <td>1998.0</td>\n",
       "      <td>Role-Playing</td>\n",
       "      <td>5.89</td>\n",
       "      <td>5.04</td>\n",
       "      <td>3.12</td>\n",
       "      <td>0.59</td>\n",
       "      <td>NaN</td>\n",
       "      <td>NaN</td>\n",
       "      <td>NaN</td>\n",
       "    </tr>\n",
       "    <tr>\n",
       "      <th>31</th>\n",
       "      <td>Call of Duty: Black Ops 3</td>\n",
       "      <td>PS4</td>\n",
       "      <td>2015.0</td>\n",
       "      <td>Shooter</td>\n",
       "      <td>6.03</td>\n",
       "      <td>5.86</td>\n",
       "      <td>0.36</td>\n",
       "      <td>2.38</td>\n",
       "      <td>NaN</td>\n",
       "      <td>NaN</td>\n",
       "      <td>NaN</td>\n",
       "    </tr>\n",
       "    <tr>\n",
       "      <th>32</th>\n",
       "      <td>Call of Duty: Black Ops</td>\n",
       "      <td>X360</td>\n",
       "      <td>2010.0</td>\n",
       "      <td>Shooter</td>\n",
       "      <td>9.70</td>\n",
       "      <td>3.68</td>\n",
       "      <td>0.11</td>\n",
       "      <td>1.13</td>\n",
       "      <td>87.0</td>\n",
       "      <td>6.3</td>\n",
       "      <td>M</td>\n",
       "    </tr>\n",
       "    <tr>\n",
       "      <th>33</th>\n",
       "      <td>Pokemon X/Pokemon Y</td>\n",
       "      <td>3DS</td>\n",
       "      <td>2013.0</td>\n",
       "      <td>Role-Playing</td>\n",
       "      <td>5.28</td>\n",
       "      <td>4.19</td>\n",
       "      <td>4.35</td>\n",
       "      <td>0.78</td>\n",
       "      <td>NaN</td>\n",
       "      <td>NaN</td>\n",
       "      <td>NaN</td>\n",
       "    </tr>\n",
       "    <tr>\n",
       "      <th>34</th>\n",
       "      <td>Call of Duty: Black Ops II</td>\n",
       "      <td>PS3</td>\n",
       "      <td>2012.0</td>\n",
       "      <td>Shooter</td>\n",
       "      <td>4.99</td>\n",
       "      <td>5.73</td>\n",
       "      <td>0.65</td>\n",
       "      <td>2.42</td>\n",
       "      <td>83.0</td>\n",
       "      <td>5.3</td>\n",
       "      <td>M</td>\n",
       "    </tr>\n",
       "    <tr>\n",
       "      <th>35</th>\n",
       "      <td>Call of Duty: Black Ops II</td>\n",
       "      <td>X360</td>\n",
       "      <td>2012.0</td>\n",
       "      <td>Shooter</td>\n",
       "      <td>8.25</td>\n",
       "      <td>4.24</td>\n",
       "      <td>0.07</td>\n",
       "      <td>1.12</td>\n",
       "      <td>83.0</td>\n",
       "      <td>4.8</td>\n",
       "      <td>M</td>\n",
       "    </tr>\n",
       "    <tr>\n",
       "      <th>36</th>\n",
       "      <td>Call of Duty: Modern Warfare 2</td>\n",
       "      <td>X360</td>\n",
       "      <td>2009.0</td>\n",
       "      <td>Shooter</td>\n",
       "      <td>8.52</td>\n",
       "      <td>3.59</td>\n",
       "      <td>0.08</td>\n",
       "      <td>1.28</td>\n",
       "      <td>94.0</td>\n",
       "      <td>6.3</td>\n",
       "      <td>M</td>\n",
       "    </tr>\n",
       "    <tr>\n",
       "      <th>37</th>\n",
       "      <td>Call of Duty: Modern Warfare 3</td>\n",
       "      <td>PS3</td>\n",
       "      <td>2011.0</td>\n",
       "      <td>Shooter</td>\n",
       "      <td>5.54</td>\n",
       "      <td>5.73</td>\n",
       "      <td>0.49</td>\n",
       "      <td>1.57</td>\n",
       "      <td>88.0</td>\n",
       "      <td>3.2</td>\n",
       "      <td>M</td>\n",
       "    </tr>\n",
       "    <tr>\n",
       "      <th>38</th>\n",
       "      <td>Grand Theft Auto III</td>\n",
       "      <td>PS2</td>\n",
       "      <td>2001.0</td>\n",
       "      <td>Action</td>\n",
       "      <td>6.99</td>\n",
       "      <td>4.51</td>\n",
       "      <td>0.30</td>\n",
       "      <td>1.30</td>\n",
       "      <td>97.0</td>\n",
       "      <td>8.5</td>\n",
       "      <td>M</td>\n",
       "    </tr>\n",
       "    <tr>\n",
       "      <th>39</th>\n",
       "      <td>Super Smash Bros. Brawl</td>\n",
       "      <td>Wii</td>\n",
       "      <td>2008.0</td>\n",
       "      <td>Fighting</td>\n",
       "      <td>6.62</td>\n",
       "      <td>2.55</td>\n",
       "      <td>2.66</td>\n",
       "      <td>1.01</td>\n",
       "      <td>93.0</td>\n",
       "      <td>8.9</td>\n",
       "      <td>T</td>\n",
       "    </tr>\n",
       "  </tbody>\n",
       "</table>\n",
       "</div>"
      ],
      "text/plain": [
       "                                            Name Platform  Year_of_Release  \\\n",
       "0                                     Wii Sports      Wii           2006.0   \n",
       "1                              Super Mario Bros.      NES           1985.0   \n",
       "2                                 Mario Kart Wii      Wii           2008.0   \n",
       "3                              Wii Sports Resort      Wii           2009.0   \n",
       "4                       Pokemon Red/Pokemon Blue       GB           1996.0   \n",
       "5                                         Tetris       GB           1989.0   \n",
       "6                          New Super Mario Bros.       DS           2006.0   \n",
       "7                                       Wii Play      Wii           2006.0   \n",
       "8                      New Super Mario Bros. Wii      Wii           2009.0   \n",
       "9                                      Duck Hunt      NES           1984.0   \n",
       "10                                    Nintendogs       DS           2005.0   \n",
       "11                                 Mario Kart DS       DS           2005.0   \n",
       "12                   Pokemon Gold/Pokemon Silver       GB           1999.0   \n",
       "13                                       Wii Fit      Wii           2007.0   \n",
       "14                            Kinect Adventures!     X360           2010.0   \n",
       "15                                  Wii Fit Plus      Wii           2009.0   \n",
       "16                            Grand Theft Auto V      PS3           2013.0   \n",
       "17                 Grand Theft Auto: San Andreas      PS2           2004.0   \n",
       "18                             Super Mario World     SNES           1990.0   \n",
       "19  Brain Age: Train Your Brain in Minutes a Day       DS           2005.0   \n",
       "20                 Pokemon Diamond/Pokemon Pearl       DS           2006.0   \n",
       "21                              Super Mario Land       GB           1989.0   \n",
       "22                           Super Mario Bros. 3      NES           1988.0   \n",
       "23                            Grand Theft Auto V     X360           2013.0   \n",
       "24                   Grand Theft Auto: Vice City      PS2           2002.0   \n",
       "25                 Pokemon Ruby/Pokemon Sapphire      GBA           2002.0   \n",
       "26   Brain Age 2: More Training in Minutes a Day       DS           2005.0   \n",
       "27                   Pokemon Black/Pokemon White       DS           2010.0   \n",
       "28                        Gran Turismo 3: A-Spec      PS2           2001.0   \n",
       "29                Call of Duty: Modern Warfare 3     X360           2011.0   \n",
       "30       Pokémon Yellow: Special Pikachu Edition       GB           1998.0   \n",
       "31                     Call of Duty: Black Ops 3      PS4           2015.0   \n",
       "32                       Call of Duty: Black Ops     X360           2010.0   \n",
       "33                           Pokemon X/Pokemon Y      3DS           2013.0   \n",
       "34                    Call of Duty: Black Ops II      PS3           2012.0   \n",
       "35                    Call of Duty: Black Ops II     X360           2012.0   \n",
       "36                Call of Duty: Modern Warfare 2     X360           2009.0   \n",
       "37                Call of Duty: Modern Warfare 3      PS3           2011.0   \n",
       "38                          Grand Theft Auto III      PS2           2001.0   \n",
       "39                       Super Smash Bros. Brawl      Wii           2008.0   \n",
       "\n",
       "           Genre  NA_sales  EU_sales  JP_sales  Other_sales  Critic_Score  \\\n",
       "0         Sports     41.36     28.96      3.77         8.45          76.0   \n",
       "1       Platform     29.08      3.58      6.81         0.77           NaN   \n",
       "2         Racing     15.68     12.76      3.79         3.29          82.0   \n",
       "3         Sports     15.61     10.93      3.28         2.95          80.0   \n",
       "4   Role-Playing     11.27      8.89     10.22         1.00           NaN   \n",
       "5         Puzzle     23.20      2.26      4.22         0.58           NaN   \n",
       "6       Platform     11.28      9.14      6.50         2.88          89.0   \n",
       "7           Misc     13.96      9.18      2.93         2.84          58.0   \n",
       "8       Platform     14.44      6.94      4.70         2.24          87.0   \n",
       "9        Shooter     26.93      0.63      0.28         0.47           NaN   \n",
       "10    Simulation      9.05     10.95      1.93         2.74           NaN   \n",
       "11        Racing      9.71      7.47      4.13         1.90          91.0   \n",
       "12  Role-Playing      9.00      6.18      7.20         0.71           NaN   \n",
       "13        Sports      8.92      8.03      3.60         2.15          80.0   \n",
       "14          Misc     15.00      4.89      0.24         1.69          61.0   \n",
       "15        Sports      9.01      8.49      2.53         1.77          80.0   \n",
       "16        Action      7.02      9.09      0.98         3.96          97.0   \n",
       "17        Action      9.43      0.40      0.41        10.57          95.0   \n",
       "18      Platform     12.78      3.75      3.54         0.55           NaN   \n",
       "19          Misc      4.74      9.20      4.16         2.04          77.0   \n",
       "20  Role-Playing      6.38      4.46      6.04         1.36           NaN   \n",
       "21      Platform     10.83      2.71      4.18         0.42           NaN   \n",
       "22      Platform      9.54      3.44      3.84         0.46           NaN   \n",
       "23        Action      9.66      5.14      0.06         1.41          97.0   \n",
       "24        Action      8.41      5.49      0.47         1.78          95.0   \n",
       "25  Role-Playing      6.06      3.90      5.38         0.50           NaN   \n",
       "26        Puzzle      3.43      5.35      5.32         1.18          77.0   \n",
       "27  Role-Playing      5.51      3.17      5.65         0.80           NaN   \n",
       "28        Racing      6.85      5.09      1.87         1.16          95.0   \n",
       "29       Shooter      9.04      4.24      0.13         1.32          88.0   \n",
       "30  Role-Playing      5.89      5.04      3.12         0.59           NaN   \n",
       "31       Shooter      6.03      5.86      0.36         2.38           NaN   \n",
       "32       Shooter      9.70      3.68      0.11         1.13          87.0   \n",
       "33  Role-Playing      5.28      4.19      4.35         0.78           NaN   \n",
       "34       Shooter      4.99      5.73      0.65         2.42          83.0   \n",
       "35       Shooter      8.25      4.24      0.07         1.12          83.0   \n",
       "36       Shooter      8.52      3.59      0.08         1.28          94.0   \n",
       "37       Shooter      5.54      5.73      0.49         1.57          88.0   \n",
       "38        Action      6.99      4.51      0.30         1.30          97.0   \n",
       "39      Fighting      6.62      2.55      2.66         1.01          93.0   \n",
       "\n",
       "   User_Score Rating  \n",
       "0           8      E  \n",
       "1         NaN    NaN  \n",
       "2         8.3      E  \n",
       "3           8      E  \n",
       "4         NaN    NaN  \n",
       "5         NaN    NaN  \n",
       "6         8.5      E  \n",
       "7         6.6      E  \n",
       "8         8.4      E  \n",
       "9         NaN    NaN  \n",
       "10        NaN    NaN  \n",
       "11        8.6      E  \n",
       "12        NaN    NaN  \n",
       "13        7.7      E  \n",
       "14        6.3      E  \n",
       "15        7.4      E  \n",
       "16        8.2      M  \n",
       "17          9      M  \n",
       "18        NaN    NaN  \n",
       "19        7.9      E  \n",
       "20        NaN    NaN  \n",
       "21        NaN    NaN  \n",
       "22        NaN    NaN  \n",
       "23        8.1      M  \n",
       "24        8.7      M  \n",
       "25        NaN    NaN  \n",
       "26        7.1      E  \n",
       "27        NaN    NaN  \n",
       "28        8.4      E  \n",
       "29        3.4      M  \n",
       "30        NaN    NaN  \n",
       "31        NaN    NaN  \n",
       "32        6.3      M  \n",
       "33        NaN    NaN  \n",
       "34        5.3      M  \n",
       "35        4.8      M  \n",
       "36        6.3      M  \n",
       "37        3.2      M  \n",
       "38        8.5      M  \n",
       "39        8.9      T  "
      ]
     },
     "execution_count": 3,
     "metadata": {},
     "output_type": "execute_result"
    }
   ],
   "source": [
    "df.head(40)"
   ]
  },
  {
   "cell_type": "code",
   "execution_count": 4,
   "metadata": {},
   "outputs": [
    {
     "name": "stdout",
     "output_type": "stream",
     "text": [
      "<class 'pandas.core.frame.DataFrame'>\n",
      "RangeIndex: 16715 entries, 0 to 16714\n",
      "Data columns (total 11 columns):\n",
      " #   Column           Non-Null Count  Dtype  \n",
      "---  ------           --------------  -----  \n",
      " 0   Name             16713 non-null  object \n",
      " 1   Platform         16715 non-null  object \n",
      " 2   Year_of_Release  16446 non-null  float64\n",
      " 3   Genre            16713 non-null  object \n",
      " 4   NA_sales         16715 non-null  float64\n",
      " 5   EU_sales         16715 non-null  float64\n",
      " 6   JP_sales         16715 non-null  float64\n",
      " 7   Other_sales      16715 non-null  float64\n",
      " 8   Critic_Score     8137 non-null   float64\n",
      " 9   User_Score       10014 non-null  object \n",
      " 10  Rating           9949 non-null   object \n",
      "dtypes: float64(6), object(5)\n",
      "memory usage: 1.4+ MB\n"
     ]
    }
   ],
   "source": [
    "df.info()"
   ]
  },
  {
   "cell_type": "markdown",
   "metadata": {},
   "source": [
    "Унифицируем написание названий столбцов - приводим все к нижнему регистру."
   ]
  },
  {
   "cell_type": "code",
   "execution_count": 5,
   "metadata": {},
   "outputs": [],
   "source": [
    "df.columns = df.columns.str.lower()"
   ]
  },
  {
   "cell_type": "markdown",
   "metadata": {},
   "source": [
    "Сразу же приведем к нижнему регистру содержимое в столбцах с текстом"
   ]
  },
  {
   "cell_type": "code",
   "execution_count": 6,
   "metadata": {},
   "outputs": [],
   "source": [
    "list_to_lower = ['name', 'platform', 'genre', 'rating']\n",
    "for column in list_to_lower:\n",
    "    df[column] = df[column].str.lower()"
   ]
  },
  {
   "cell_type": "markdown",
   "metadata": {},
   "source": [
    "Посмотрим на результат:"
   ]
  },
  {
   "cell_type": "code",
   "execution_count": 7,
   "metadata": {},
   "outputs": [
    {
     "name": "stdout",
     "output_type": "stream",
     "text": [
      "<class 'pandas.core.frame.DataFrame'>\n",
      "RangeIndex: 16715 entries, 0 to 16714\n",
      "Data columns (total 11 columns):\n",
      " #   Column           Non-Null Count  Dtype  \n",
      "---  ------           --------------  -----  \n",
      " 0   name             16713 non-null  object \n",
      " 1   platform         16715 non-null  object \n",
      " 2   year_of_release  16446 non-null  float64\n",
      " 3   genre            16713 non-null  object \n",
      " 4   na_sales         16715 non-null  float64\n",
      " 5   eu_sales         16715 non-null  float64\n",
      " 6   jp_sales         16715 non-null  float64\n",
      " 7   other_sales      16715 non-null  float64\n",
      " 8   critic_score     8137 non-null   float64\n",
      " 9   user_score       10014 non-null  object \n",
      " 10  rating           9949 non-null   object \n",
      "dtypes: float64(6), object(5)\n",
      "memory usage: 1.4+ MB\n"
     ]
    }
   ],
   "source": [
    "df.info()"
   ]
  },
  {
   "cell_type": "code",
   "execution_count": 8,
   "metadata": {
    "scrolled": false
   },
   "outputs": [
    {
     "data": {
      "text/html": [
       "<div>\n",
       "<style scoped>\n",
       "    .dataframe tbody tr th:only-of-type {\n",
       "        vertical-align: middle;\n",
       "    }\n",
       "\n",
       "    .dataframe tbody tr th {\n",
       "        vertical-align: top;\n",
       "    }\n",
       "\n",
       "    .dataframe thead th {\n",
       "        text-align: right;\n",
       "    }\n",
       "</style>\n",
       "<table border=\"1\" class=\"dataframe\">\n",
       "  <thead>\n",
       "    <tr style=\"text-align: right;\">\n",
       "      <th></th>\n",
       "      <th>name</th>\n",
       "      <th>platform</th>\n",
       "      <th>year_of_release</th>\n",
       "      <th>genre</th>\n",
       "      <th>na_sales</th>\n",
       "      <th>eu_sales</th>\n",
       "      <th>jp_sales</th>\n",
       "      <th>other_sales</th>\n",
       "      <th>critic_score</th>\n",
       "      <th>user_score</th>\n",
       "      <th>rating</th>\n",
       "    </tr>\n",
       "  </thead>\n",
       "  <tbody>\n",
       "    <tr>\n",
       "      <th>0</th>\n",
       "      <td>wii sports</td>\n",
       "      <td>wii</td>\n",
       "      <td>2006.0</td>\n",
       "      <td>sports</td>\n",
       "      <td>41.36</td>\n",
       "      <td>28.96</td>\n",
       "      <td>3.77</td>\n",
       "      <td>8.45</td>\n",
       "      <td>76.0</td>\n",
       "      <td>8</td>\n",
       "      <td>e</td>\n",
       "    </tr>\n",
       "    <tr>\n",
       "      <th>1</th>\n",
       "      <td>super mario bros.</td>\n",
       "      <td>nes</td>\n",
       "      <td>1985.0</td>\n",
       "      <td>platform</td>\n",
       "      <td>29.08</td>\n",
       "      <td>3.58</td>\n",
       "      <td>6.81</td>\n",
       "      <td>0.77</td>\n",
       "      <td>NaN</td>\n",
       "      <td>NaN</td>\n",
       "      <td>NaN</td>\n",
       "    </tr>\n",
       "    <tr>\n",
       "      <th>2</th>\n",
       "      <td>mario kart wii</td>\n",
       "      <td>wii</td>\n",
       "      <td>2008.0</td>\n",
       "      <td>racing</td>\n",
       "      <td>15.68</td>\n",
       "      <td>12.76</td>\n",
       "      <td>3.79</td>\n",
       "      <td>3.29</td>\n",
       "      <td>82.0</td>\n",
       "      <td>8.3</td>\n",
       "      <td>e</td>\n",
       "    </tr>\n",
       "    <tr>\n",
       "      <th>3</th>\n",
       "      <td>wii sports resort</td>\n",
       "      <td>wii</td>\n",
       "      <td>2009.0</td>\n",
       "      <td>sports</td>\n",
       "      <td>15.61</td>\n",
       "      <td>10.93</td>\n",
       "      <td>3.28</td>\n",
       "      <td>2.95</td>\n",
       "      <td>80.0</td>\n",
       "      <td>8</td>\n",
       "      <td>e</td>\n",
       "    </tr>\n",
       "    <tr>\n",
       "      <th>4</th>\n",
       "      <td>pokemon red/pokemon blue</td>\n",
       "      <td>gb</td>\n",
       "      <td>1996.0</td>\n",
       "      <td>role-playing</td>\n",
       "      <td>11.27</td>\n",
       "      <td>8.89</td>\n",
       "      <td>10.22</td>\n",
       "      <td>1.00</td>\n",
       "      <td>NaN</td>\n",
       "      <td>NaN</td>\n",
       "      <td>NaN</td>\n",
       "    </tr>\n",
       "  </tbody>\n",
       "</table>\n",
       "</div>"
      ],
      "text/plain": [
       "                       name platform  year_of_release         genre  na_sales  \\\n",
       "0                wii sports      wii           2006.0        sports     41.36   \n",
       "1         super mario bros.      nes           1985.0      platform     29.08   \n",
       "2            mario kart wii      wii           2008.0        racing     15.68   \n",
       "3         wii sports resort      wii           2009.0        sports     15.61   \n",
       "4  pokemon red/pokemon blue       gb           1996.0  role-playing     11.27   \n",
       "\n",
       "   eu_sales  jp_sales  other_sales  critic_score user_score rating  \n",
       "0     28.96      3.77         8.45          76.0          8      e  \n",
       "1      3.58      6.81         0.77           NaN        NaN    NaN  \n",
       "2     12.76      3.79         3.29          82.0        8.3      e  \n",
       "3     10.93      3.28         2.95          80.0          8      e  \n",
       "4      8.89     10.22         1.00           NaN        NaN    NaN  "
      ]
     },
     "execution_count": 8,
     "metadata": {},
     "output_type": "execute_result"
    }
   ],
   "source": [
    "df.head()"
   ]
  },
  {
   "cell_type": "markdown",
   "metadata": {},
   "source": [
    "Согласно вводным данным, в столбце 'user_score' также содержится абревиатура \"tbd\"  - To be declared, что означает \"Будет объявлено позже\". Для нас это тоже самое, что и NaN. Убедимся в наличии tbd и заменим tbd на NaN. "
   ]
  },
  {
   "cell_type": "code",
   "execution_count": 9,
   "metadata": {},
   "outputs": [
    {
     "data": {
      "text/plain": [
       "array(['8', nan, '8.3', '8.5', '6.6', '8.4', '8.6', '7.7', '6.3', '7.4',\n",
       "       '8.2', '9', '7.9', '8.1', '8.7', '7.1', '3.4', '5.3', '4.8', '3.2',\n",
       "       '8.9', '6.4', '7.8', '7.5', '2.6', '7.2', '9.2', '7', '7.3', '4.3',\n",
       "       '7.6', '5.7', '5', '9.1', '6.5', 'tbd', '8.8', '6.9', '9.4', '6.8',\n",
       "       '6.1', '6.7', '5.4', '4', '4.9', '4.5', '9.3', '6.2', '4.2', '6',\n",
       "       '3.7', '4.1', '5.8', '5.6', '5.5', '4.4', '4.6', '5.9', '3.9',\n",
       "       '3.1', '2.9', '5.2', '3.3', '4.7', '5.1', '3.5', '2.5', '1.9', '3',\n",
       "       '2.7', '2.2', '2', '9.5', '2.1', '3.6', '2.8', '1.8', '3.8', '0',\n",
       "       '1.6', '9.6', '2.4', '1.7', '1.1', '0.3', '1.5', '0.7', '1.2',\n",
       "       '2.3', '0.5', '1.3', '0.2', '0.6', '1.4', '0.9', '1', '9.7'],\n",
       "      dtype=object)"
      ]
     },
     "execution_count": 9,
     "metadata": {},
     "output_type": "execute_result"
    }
   ],
   "source": [
    "df['user_score'].unique()"
   ]
  },
  {
   "cell_type": "code",
   "execution_count": 10,
   "metadata": {},
   "outputs": [],
   "source": [
    "df.loc[df['user_score'] == 'tbd', 'user_score'] = np.nan"
   ]
  },
  {
   "cell_type": "markdown",
   "metadata": {},
   "source": [
    "Сразу же приобразуем данные в этом столбце к нужному типу:\n",
    "    "
   ]
  },
  {
   "cell_type": "code",
   "execution_count": 11,
   "metadata": {},
   "outputs": [],
   "source": [
    "df['user_score'] = df['user_score'].astype('float')"
   ]
  },
  {
   "cell_type": "code",
   "execution_count": 12,
   "metadata": {
    "scrolled": true
   },
   "outputs": [
    {
     "name": "stdout",
     "output_type": "stream",
     "text": [
      "<class 'pandas.core.frame.DataFrame'>\n",
      "RangeIndex: 16715 entries, 0 to 16714\n",
      "Data columns (total 11 columns):\n",
      " #   Column           Non-Null Count  Dtype  \n",
      "---  ------           --------------  -----  \n",
      " 0   name             16713 non-null  object \n",
      " 1   platform         16715 non-null  object \n",
      " 2   year_of_release  16446 non-null  float64\n",
      " 3   genre            16713 non-null  object \n",
      " 4   na_sales         16715 non-null  float64\n",
      " 5   eu_sales         16715 non-null  float64\n",
      " 6   jp_sales         16715 non-null  float64\n",
      " 7   other_sales      16715 non-null  float64\n",
      " 8   critic_score     8137 non-null   float64\n",
      " 9   user_score       7590 non-null   float64\n",
      " 10  rating           9949 non-null   object \n",
      "dtypes: float64(7), object(4)\n",
      "memory usage: 1.4+ MB\n"
     ]
    }
   ],
   "source": [
    "df.info()"
   ]
  },
  {
   "cell_type": "markdown",
   "metadata": {},
   "source": [
    "Проверим столбец 'name' на пропуски:"
   ]
  },
  {
   "cell_type": "code",
   "execution_count": 13,
   "metadata": {},
   "outputs": [
    {
     "data": {
      "text/html": [
       "<div>\n",
       "<style scoped>\n",
       "    .dataframe tbody tr th:only-of-type {\n",
       "        vertical-align: middle;\n",
       "    }\n",
       "\n",
       "    .dataframe tbody tr th {\n",
       "        vertical-align: top;\n",
       "    }\n",
       "\n",
       "    .dataframe thead th {\n",
       "        text-align: right;\n",
       "    }\n",
       "</style>\n",
       "<table border=\"1\" class=\"dataframe\">\n",
       "  <thead>\n",
       "    <tr style=\"text-align: right;\">\n",
       "      <th></th>\n",
       "      <th>name</th>\n",
       "      <th>platform</th>\n",
       "      <th>year_of_release</th>\n",
       "      <th>genre</th>\n",
       "      <th>na_sales</th>\n",
       "      <th>eu_sales</th>\n",
       "      <th>jp_sales</th>\n",
       "      <th>other_sales</th>\n",
       "      <th>critic_score</th>\n",
       "      <th>user_score</th>\n",
       "      <th>rating</th>\n",
       "    </tr>\n",
       "  </thead>\n",
       "  <tbody>\n",
       "    <tr>\n",
       "      <th>659</th>\n",
       "      <td>NaN</td>\n",
       "      <td>gen</td>\n",
       "      <td>1993.0</td>\n",
       "      <td>NaN</td>\n",
       "      <td>1.78</td>\n",
       "      <td>0.53</td>\n",
       "      <td>0.00</td>\n",
       "      <td>0.08</td>\n",
       "      <td>NaN</td>\n",
       "      <td>NaN</td>\n",
       "      <td>NaN</td>\n",
       "    </tr>\n",
       "    <tr>\n",
       "      <th>14244</th>\n",
       "      <td>NaN</td>\n",
       "      <td>gen</td>\n",
       "      <td>1993.0</td>\n",
       "      <td>NaN</td>\n",
       "      <td>0.00</td>\n",
       "      <td>0.00</td>\n",
       "      <td>0.03</td>\n",
       "      <td>0.00</td>\n",
       "      <td>NaN</td>\n",
       "      <td>NaN</td>\n",
       "      <td>NaN</td>\n",
       "    </tr>\n",
       "  </tbody>\n",
       "</table>\n",
       "</div>"
      ],
      "text/plain": [
       "      name platform  year_of_release genre  na_sales  eu_sales  jp_sales  \\\n",
       "659    NaN      gen           1993.0   NaN      1.78      0.53      0.00   \n",
       "14244  NaN      gen           1993.0   NaN      0.00      0.00      0.03   \n",
       "\n",
       "       other_sales  critic_score  user_score rating  \n",
       "659           0.08           NaN         NaN    NaN  \n",
       "14244         0.00           NaN         NaN    NaN  "
      ]
     },
     "execution_count": 13,
     "metadata": {},
     "output_type": "execute_result"
    }
   ],
   "source": [
    "df[df['name'].isnull()]"
   ]
  },
  {
   "cell_type": "markdown",
   "metadata": {},
   "source": [
    "Приведенные строки практически не содержат данных и для нас бесполезны. Удалим их."
   ]
  },
  {
   "cell_type": "code",
   "execution_count": 14,
   "metadata": {},
   "outputs": [],
   "source": [
    "df = df.dropna(subset = ['name'])"
   ]
  },
  {
   "cell_type": "markdown",
   "metadata": {},
   "source": [
    "В столбце 'platform' пропусков нет, что видно из данных df.info(). В столбце 'year_of_release' пропусков мало - избавимся от их, поскольку заменить их синтетическими данными мы не можем.\n"
   ]
  },
  {
   "cell_type": "code",
   "execution_count": 15,
   "metadata": {},
   "outputs": [],
   "source": [
    "df = df.dropna(subset = ['year_of_release'])"
   ]
  },
  {
   "cell_type": "markdown",
   "metadata": {},
   "source": [
    "Сразу приведем его к нужному типу:"
   ]
  },
  {
   "cell_type": "code",
   "execution_count": 16,
   "metadata": {},
   "outputs": [],
   "source": [
    "df['year_of_release'] = df['year_of_release'].astype('int')\n"
   ]
  },
  {
   "cell_type": "markdown",
   "metadata": {},
   "source": [
    "Посмотрим на пропуски в 'critic_score':"
   ]
  },
  {
   "cell_type": "code",
   "execution_count": 17,
   "metadata": {
    "scrolled": true
   },
   "outputs": [
    {
     "data": {
      "text/html": [
       "<div>\n",
       "<style scoped>\n",
       "    .dataframe tbody tr th:only-of-type {\n",
       "        vertical-align: middle;\n",
       "    }\n",
       "\n",
       "    .dataframe tbody tr th {\n",
       "        vertical-align: top;\n",
       "    }\n",
       "\n",
       "    .dataframe thead th {\n",
       "        text-align: right;\n",
       "    }\n",
       "</style>\n",
       "<table border=\"1\" class=\"dataframe\">\n",
       "  <thead>\n",
       "    <tr style=\"text-align: right;\">\n",
       "      <th></th>\n",
       "      <th>name</th>\n",
       "      <th>platform</th>\n",
       "      <th>year_of_release</th>\n",
       "      <th>genre</th>\n",
       "      <th>na_sales</th>\n",
       "      <th>eu_sales</th>\n",
       "      <th>jp_sales</th>\n",
       "      <th>other_sales</th>\n",
       "      <th>critic_score</th>\n",
       "      <th>user_score</th>\n",
       "      <th>rating</th>\n",
       "    </tr>\n",
       "  </thead>\n",
       "  <tbody>\n",
       "    <tr>\n",
       "      <th>1</th>\n",
       "      <td>super mario bros.</td>\n",
       "      <td>nes</td>\n",
       "      <td>1985</td>\n",
       "      <td>platform</td>\n",
       "      <td>29.08</td>\n",
       "      <td>3.58</td>\n",
       "      <td>6.81</td>\n",
       "      <td>0.77</td>\n",
       "      <td>NaN</td>\n",
       "      <td>NaN</td>\n",
       "      <td>NaN</td>\n",
       "    </tr>\n",
       "    <tr>\n",
       "      <th>4</th>\n",
       "      <td>pokemon red/pokemon blue</td>\n",
       "      <td>gb</td>\n",
       "      <td>1996</td>\n",
       "      <td>role-playing</td>\n",
       "      <td>11.27</td>\n",
       "      <td>8.89</td>\n",
       "      <td>10.22</td>\n",
       "      <td>1.00</td>\n",
       "      <td>NaN</td>\n",
       "      <td>NaN</td>\n",
       "      <td>NaN</td>\n",
       "    </tr>\n",
       "    <tr>\n",
       "      <th>5</th>\n",
       "      <td>tetris</td>\n",
       "      <td>gb</td>\n",
       "      <td>1989</td>\n",
       "      <td>puzzle</td>\n",
       "      <td>23.20</td>\n",
       "      <td>2.26</td>\n",
       "      <td>4.22</td>\n",
       "      <td>0.58</td>\n",
       "      <td>NaN</td>\n",
       "      <td>NaN</td>\n",
       "      <td>NaN</td>\n",
       "    </tr>\n",
       "    <tr>\n",
       "      <th>9</th>\n",
       "      <td>duck hunt</td>\n",
       "      <td>nes</td>\n",
       "      <td>1984</td>\n",
       "      <td>shooter</td>\n",
       "      <td>26.93</td>\n",
       "      <td>0.63</td>\n",
       "      <td>0.28</td>\n",
       "      <td>0.47</td>\n",
       "      <td>NaN</td>\n",
       "      <td>NaN</td>\n",
       "      <td>NaN</td>\n",
       "    </tr>\n",
       "    <tr>\n",
       "      <th>10</th>\n",
       "      <td>nintendogs</td>\n",
       "      <td>ds</td>\n",
       "      <td>2005</td>\n",
       "      <td>simulation</td>\n",
       "      <td>9.05</td>\n",
       "      <td>10.95</td>\n",
       "      <td>1.93</td>\n",
       "      <td>2.74</td>\n",
       "      <td>NaN</td>\n",
       "      <td>NaN</td>\n",
       "      <td>NaN</td>\n",
       "    </tr>\n",
       "    <tr>\n",
       "      <th>12</th>\n",
       "      <td>pokemon gold/pokemon silver</td>\n",
       "      <td>gb</td>\n",
       "      <td>1999</td>\n",
       "      <td>role-playing</td>\n",
       "      <td>9.00</td>\n",
       "      <td>6.18</td>\n",
       "      <td>7.20</td>\n",
       "      <td>0.71</td>\n",
       "      <td>NaN</td>\n",
       "      <td>NaN</td>\n",
       "      <td>NaN</td>\n",
       "    </tr>\n",
       "    <tr>\n",
       "      <th>18</th>\n",
       "      <td>super mario world</td>\n",
       "      <td>snes</td>\n",
       "      <td>1990</td>\n",
       "      <td>platform</td>\n",
       "      <td>12.78</td>\n",
       "      <td>3.75</td>\n",
       "      <td>3.54</td>\n",
       "      <td>0.55</td>\n",
       "      <td>NaN</td>\n",
       "      <td>NaN</td>\n",
       "      <td>NaN</td>\n",
       "    </tr>\n",
       "    <tr>\n",
       "      <th>20</th>\n",
       "      <td>pokemon diamond/pokemon pearl</td>\n",
       "      <td>ds</td>\n",
       "      <td>2006</td>\n",
       "      <td>role-playing</td>\n",
       "      <td>6.38</td>\n",
       "      <td>4.46</td>\n",
       "      <td>6.04</td>\n",
       "      <td>1.36</td>\n",
       "      <td>NaN</td>\n",
       "      <td>NaN</td>\n",
       "      <td>NaN</td>\n",
       "    </tr>\n",
       "    <tr>\n",
       "      <th>21</th>\n",
       "      <td>super mario land</td>\n",
       "      <td>gb</td>\n",
       "      <td>1989</td>\n",
       "      <td>platform</td>\n",
       "      <td>10.83</td>\n",
       "      <td>2.71</td>\n",
       "      <td>4.18</td>\n",
       "      <td>0.42</td>\n",
       "      <td>NaN</td>\n",
       "      <td>NaN</td>\n",
       "      <td>NaN</td>\n",
       "    </tr>\n",
       "    <tr>\n",
       "      <th>22</th>\n",
       "      <td>super mario bros. 3</td>\n",
       "      <td>nes</td>\n",
       "      <td>1988</td>\n",
       "      <td>platform</td>\n",
       "      <td>9.54</td>\n",
       "      <td>3.44</td>\n",
       "      <td>3.84</td>\n",
       "      <td>0.46</td>\n",
       "      <td>NaN</td>\n",
       "      <td>NaN</td>\n",
       "      <td>NaN</td>\n",
       "    </tr>\n",
       "    <tr>\n",
       "      <th>25</th>\n",
       "      <td>pokemon ruby/pokemon sapphire</td>\n",
       "      <td>gba</td>\n",
       "      <td>2002</td>\n",
       "      <td>role-playing</td>\n",
       "      <td>6.06</td>\n",
       "      <td>3.90</td>\n",
       "      <td>5.38</td>\n",
       "      <td>0.50</td>\n",
       "      <td>NaN</td>\n",
       "      <td>NaN</td>\n",
       "      <td>NaN</td>\n",
       "    </tr>\n",
       "    <tr>\n",
       "      <th>27</th>\n",
       "      <td>pokemon black/pokemon white</td>\n",
       "      <td>ds</td>\n",
       "      <td>2010</td>\n",
       "      <td>role-playing</td>\n",
       "      <td>5.51</td>\n",
       "      <td>3.17</td>\n",
       "      <td>5.65</td>\n",
       "      <td>0.80</td>\n",
       "      <td>NaN</td>\n",
       "      <td>NaN</td>\n",
       "      <td>NaN</td>\n",
       "    </tr>\n",
       "    <tr>\n",
       "      <th>30</th>\n",
       "      <td>pokémon yellow: special pikachu edition</td>\n",
       "      <td>gb</td>\n",
       "      <td>1998</td>\n",
       "      <td>role-playing</td>\n",
       "      <td>5.89</td>\n",
       "      <td>5.04</td>\n",
       "      <td>3.12</td>\n",
       "      <td>0.59</td>\n",
       "      <td>NaN</td>\n",
       "      <td>NaN</td>\n",
       "      <td>NaN</td>\n",
       "    </tr>\n",
       "    <tr>\n",
       "      <th>31</th>\n",
       "      <td>call of duty: black ops 3</td>\n",
       "      <td>ps4</td>\n",
       "      <td>2015</td>\n",
       "      <td>shooter</td>\n",
       "      <td>6.03</td>\n",
       "      <td>5.86</td>\n",
       "      <td>0.36</td>\n",
       "      <td>2.38</td>\n",
       "      <td>NaN</td>\n",
       "      <td>NaN</td>\n",
       "      <td>NaN</td>\n",
       "    </tr>\n",
       "    <tr>\n",
       "      <th>33</th>\n",
       "      <td>pokemon x/pokemon y</td>\n",
       "      <td>3ds</td>\n",
       "      <td>2013</td>\n",
       "      <td>role-playing</td>\n",
       "      <td>5.28</td>\n",
       "      <td>4.19</td>\n",
       "      <td>4.35</td>\n",
       "      <td>0.78</td>\n",
       "      <td>NaN</td>\n",
       "      <td>NaN</td>\n",
       "      <td>NaN</td>\n",
       "    </tr>\n",
       "    <tr>\n",
       "      <th>45</th>\n",
       "      <td>super mario 64</td>\n",
       "      <td>n64</td>\n",
       "      <td>1996</td>\n",
       "      <td>platform</td>\n",
       "      <td>6.91</td>\n",
       "      <td>2.85</td>\n",
       "      <td>1.91</td>\n",
       "      <td>0.23</td>\n",
       "      <td>NaN</td>\n",
       "      <td>NaN</td>\n",
       "      <td>NaN</td>\n",
       "    </tr>\n",
       "    <tr>\n",
       "      <th>46</th>\n",
       "      <td>pokemon heartgold/pokemon soulsilver</td>\n",
       "      <td>ds</td>\n",
       "      <td>2009</td>\n",
       "      <td>action</td>\n",
       "      <td>4.34</td>\n",
       "      <td>2.71</td>\n",
       "      <td>3.96</td>\n",
       "      <td>0.76</td>\n",
       "      <td>NaN</td>\n",
       "      <td>NaN</td>\n",
       "      <td>NaN</td>\n",
       "    </tr>\n",
       "    <tr>\n",
       "      <th>47</th>\n",
       "      <td>pokemon omega ruby/pokemon alpha sapphire</td>\n",
       "      <td>3ds</td>\n",
       "      <td>2014</td>\n",
       "      <td>role-playing</td>\n",
       "      <td>4.35</td>\n",
       "      <td>3.49</td>\n",
       "      <td>3.10</td>\n",
       "      <td>0.74</td>\n",
       "      <td>NaN</td>\n",
       "      <td>NaN</td>\n",
       "      <td>NaN</td>\n",
       "    </tr>\n",
       "    <tr>\n",
       "      <th>50</th>\n",
       "      <td>super mario land 2: 6 golden coins</td>\n",
       "      <td>gb</td>\n",
       "      <td>1992</td>\n",
       "      <td>adventure</td>\n",
       "      <td>6.16</td>\n",
       "      <td>2.04</td>\n",
       "      <td>2.69</td>\n",
       "      <td>0.29</td>\n",
       "      <td>NaN</td>\n",
       "      <td>NaN</td>\n",
       "      <td>NaN</td>\n",
       "    </tr>\n",
       "    <tr>\n",
       "      <th>56</th>\n",
       "      <td>super mario all-stars</td>\n",
       "      <td>snes</td>\n",
       "      <td>1993</td>\n",
       "      <td>platform</td>\n",
       "      <td>5.99</td>\n",
       "      <td>2.15</td>\n",
       "      <td>2.12</td>\n",
       "      <td>0.29</td>\n",
       "      <td>NaN</td>\n",
       "      <td>NaN</td>\n",
       "      <td>NaN</td>\n",
       "    </tr>\n",
       "    <tr>\n",
       "      <th>58</th>\n",
       "      <td>pokemon firered/pokemon leafgreen</td>\n",
       "      <td>gba</td>\n",
       "      <td>2004</td>\n",
       "      <td>role-playing</td>\n",
       "      <td>4.34</td>\n",
       "      <td>2.65</td>\n",
       "      <td>3.15</td>\n",
       "      <td>0.35</td>\n",
       "      <td>NaN</td>\n",
       "      <td>NaN</td>\n",
       "      <td>NaN</td>\n",
       "    </tr>\n",
       "    <tr>\n",
       "      <th>59</th>\n",
       "      <td>super mario 64</td>\n",
       "      <td>ds</td>\n",
       "      <td>2004</td>\n",
       "      <td>platform</td>\n",
       "      <td>5.01</td>\n",
       "      <td>3.07</td>\n",
       "      <td>1.25</td>\n",
       "      <td>0.97</td>\n",
       "      <td>NaN</td>\n",
       "      <td>NaN</td>\n",
       "      <td>NaN</td>\n",
       "    </tr>\n",
       "    <tr>\n",
       "      <th>63</th>\n",
       "      <td>mario kart 64</td>\n",
       "      <td>n64</td>\n",
       "      <td>1996</td>\n",
       "      <td>racing</td>\n",
       "      <td>5.55</td>\n",
       "      <td>1.94</td>\n",
       "      <td>2.23</td>\n",
       "      <td>0.15</td>\n",
       "      <td>NaN</td>\n",
       "      <td>NaN</td>\n",
       "      <td>NaN</td>\n",
       "    </tr>\n",
       "    <tr>\n",
       "      <th>71</th>\n",
       "      <td>donkey kong country</td>\n",
       "      <td>snes</td>\n",
       "      <td>1994</td>\n",
       "      <td>platform</td>\n",
       "      <td>4.36</td>\n",
       "      <td>1.71</td>\n",
       "      <td>3.00</td>\n",
       "      <td>0.23</td>\n",
       "      <td>NaN</td>\n",
       "      <td>NaN</td>\n",
       "      <td>NaN</td>\n",
       "    </tr>\n",
       "    <tr>\n",
       "      <th>72</th>\n",
       "      <td>minecraft</td>\n",
       "      <td>x360</td>\n",
       "      <td>2013</td>\n",
       "      <td>misc</td>\n",
       "      <td>5.70</td>\n",
       "      <td>2.65</td>\n",
       "      <td>0.02</td>\n",
       "      <td>0.81</td>\n",
       "      <td>NaN</td>\n",
       "      <td>NaN</td>\n",
       "      <td>NaN</td>\n",
       "    </tr>\n",
       "    <tr>\n",
       "      <th>76</th>\n",
       "      <td>super mario kart</td>\n",
       "      <td>snes</td>\n",
       "      <td>1992</td>\n",
       "      <td>racing</td>\n",
       "      <td>3.54</td>\n",
       "      <td>1.24</td>\n",
       "      <td>3.81</td>\n",
       "      <td>0.18</td>\n",
       "      <td>NaN</td>\n",
       "      <td>NaN</td>\n",
       "      <td>NaN</td>\n",
       "    </tr>\n",
       "    <tr>\n",
       "      <th>82</th>\n",
       "      <td>goldeneye 007</td>\n",
       "      <td>n64</td>\n",
       "      <td>1997</td>\n",
       "      <td>shooter</td>\n",
       "      <td>5.80</td>\n",
       "      <td>2.01</td>\n",
       "      <td>0.13</td>\n",
       "      <td>0.15</td>\n",
       "      <td>NaN</td>\n",
       "      <td>NaN</td>\n",
       "      <td>NaN</td>\n",
       "    </tr>\n",
       "    <tr>\n",
       "      <th>83</th>\n",
       "      <td>pokemon black 2/pokemon white 2</td>\n",
       "      <td>ds</td>\n",
       "      <td>2012</td>\n",
       "      <td>role-playing</td>\n",
       "      <td>2.79</td>\n",
       "      <td>1.72</td>\n",
       "      <td>3.14</td>\n",
       "      <td>0.41</td>\n",
       "      <td>NaN</td>\n",
       "      <td>NaN</td>\n",
       "      <td>NaN</td>\n",
       "    </tr>\n",
       "    <tr>\n",
       "      <th>86</th>\n",
       "      <td>mario &amp; sonic at the olympic games</td>\n",
       "      <td>wii</td>\n",
       "      <td>2007</td>\n",
       "      <td>sports</td>\n",
       "      <td>2.57</td>\n",
       "      <td>3.86</td>\n",
       "      <td>0.66</td>\n",
       "      <td>0.91</td>\n",
       "      <td>NaN</td>\n",
       "      <td>NaN</td>\n",
       "      <td>NaN</td>\n",
       "    </tr>\n",
       "    <tr>\n",
       "      <th>87</th>\n",
       "      <td>star wars battlefront (2015)</td>\n",
       "      <td>ps4</td>\n",
       "      <td>2015</td>\n",
       "      <td>shooter</td>\n",
       "      <td>2.99</td>\n",
       "      <td>3.49</td>\n",
       "      <td>0.22</td>\n",
       "      <td>1.28</td>\n",
       "      <td>NaN</td>\n",
       "      <td>NaN</td>\n",
       "      <td>NaN</td>\n",
       "    </tr>\n",
       "  </tbody>\n",
       "</table>\n",
       "</div>"
      ],
      "text/plain": [
       "                                         name platform  year_of_release  \\\n",
       "1                           super mario bros.      nes             1985   \n",
       "4                    pokemon red/pokemon blue       gb             1996   \n",
       "5                                      tetris       gb             1989   \n",
       "9                                   duck hunt      nes             1984   \n",
       "10                                 nintendogs       ds             2005   \n",
       "12                pokemon gold/pokemon silver       gb             1999   \n",
       "18                          super mario world     snes             1990   \n",
       "20              pokemon diamond/pokemon pearl       ds             2006   \n",
       "21                           super mario land       gb             1989   \n",
       "22                        super mario bros. 3      nes             1988   \n",
       "25              pokemon ruby/pokemon sapphire      gba             2002   \n",
       "27                pokemon black/pokemon white       ds             2010   \n",
       "30    pokémon yellow: special pikachu edition       gb             1998   \n",
       "31                  call of duty: black ops 3      ps4             2015   \n",
       "33                        pokemon x/pokemon y      3ds             2013   \n",
       "45                             super mario 64      n64             1996   \n",
       "46       pokemon heartgold/pokemon soulsilver       ds             2009   \n",
       "47  pokemon omega ruby/pokemon alpha sapphire      3ds             2014   \n",
       "50         super mario land 2: 6 golden coins       gb             1992   \n",
       "56                      super mario all-stars     snes             1993   \n",
       "58          pokemon firered/pokemon leafgreen      gba             2004   \n",
       "59                             super mario 64       ds             2004   \n",
       "63                              mario kart 64      n64             1996   \n",
       "71                        donkey kong country     snes             1994   \n",
       "72                                  minecraft     x360             2013   \n",
       "76                           super mario kart     snes             1992   \n",
       "82                              goldeneye 007      n64             1997   \n",
       "83            pokemon black 2/pokemon white 2       ds             2012   \n",
       "86         mario & sonic at the olympic games      wii             2007   \n",
       "87               star wars battlefront (2015)      ps4             2015   \n",
       "\n",
       "           genre  na_sales  eu_sales  jp_sales  other_sales  critic_score  \\\n",
       "1       platform     29.08      3.58      6.81         0.77           NaN   \n",
       "4   role-playing     11.27      8.89     10.22         1.00           NaN   \n",
       "5         puzzle     23.20      2.26      4.22         0.58           NaN   \n",
       "9        shooter     26.93      0.63      0.28         0.47           NaN   \n",
       "10    simulation      9.05     10.95      1.93         2.74           NaN   \n",
       "12  role-playing      9.00      6.18      7.20         0.71           NaN   \n",
       "18      platform     12.78      3.75      3.54         0.55           NaN   \n",
       "20  role-playing      6.38      4.46      6.04         1.36           NaN   \n",
       "21      platform     10.83      2.71      4.18         0.42           NaN   \n",
       "22      platform      9.54      3.44      3.84         0.46           NaN   \n",
       "25  role-playing      6.06      3.90      5.38         0.50           NaN   \n",
       "27  role-playing      5.51      3.17      5.65         0.80           NaN   \n",
       "30  role-playing      5.89      5.04      3.12         0.59           NaN   \n",
       "31       shooter      6.03      5.86      0.36         2.38           NaN   \n",
       "33  role-playing      5.28      4.19      4.35         0.78           NaN   \n",
       "45      platform      6.91      2.85      1.91         0.23           NaN   \n",
       "46        action      4.34      2.71      3.96         0.76           NaN   \n",
       "47  role-playing      4.35      3.49      3.10         0.74           NaN   \n",
       "50     adventure      6.16      2.04      2.69         0.29           NaN   \n",
       "56      platform      5.99      2.15      2.12         0.29           NaN   \n",
       "58  role-playing      4.34      2.65      3.15         0.35           NaN   \n",
       "59      platform      5.01      3.07      1.25         0.97           NaN   \n",
       "63        racing      5.55      1.94      2.23         0.15           NaN   \n",
       "71      platform      4.36      1.71      3.00         0.23           NaN   \n",
       "72          misc      5.70      2.65      0.02         0.81           NaN   \n",
       "76        racing      3.54      1.24      3.81         0.18           NaN   \n",
       "82       shooter      5.80      2.01      0.13         0.15           NaN   \n",
       "83  role-playing      2.79      1.72      3.14         0.41           NaN   \n",
       "86        sports      2.57      3.86      0.66         0.91           NaN   \n",
       "87       shooter      2.99      3.49      0.22         1.28           NaN   \n",
       "\n",
       "    user_score rating  \n",
       "1          NaN    NaN  \n",
       "4          NaN    NaN  \n",
       "5          NaN    NaN  \n",
       "9          NaN    NaN  \n",
       "10         NaN    NaN  \n",
       "12         NaN    NaN  \n",
       "18         NaN    NaN  \n",
       "20         NaN    NaN  \n",
       "21         NaN    NaN  \n",
       "22         NaN    NaN  \n",
       "25         NaN    NaN  \n",
       "27         NaN    NaN  \n",
       "30         NaN    NaN  \n",
       "31         NaN    NaN  \n",
       "33         NaN    NaN  \n",
       "45         NaN    NaN  \n",
       "46         NaN    NaN  \n",
       "47         NaN    NaN  \n",
       "50         NaN    NaN  \n",
       "56         NaN    NaN  \n",
       "58         NaN    NaN  \n",
       "59         NaN    NaN  \n",
       "63         NaN    NaN  \n",
       "71         NaN    NaN  \n",
       "72         NaN    NaN  \n",
       "76         NaN    NaN  \n",
       "82         NaN    NaN  \n",
       "83         NaN    NaN  \n",
       "86         NaN    NaN  \n",
       "87         NaN    NaN  "
      ]
     },
     "execution_count": 17,
     "metadata": {},
     "output_type": "execute_result"
    }
   ],
   "source": [
    "df[df['critic_score'].isnull()].head(30)"
   ]
  },
  {
   "cell_type": "markdown",
   "metadata": {},
   "source": [
    "Видим, что в столбцах с рейтингом сплошные пропущенные значения, ведь заполнены они примерно лишь на половину:\n",
    "* 8  столбец  critic_score     8137 - записей\n",
    "* 9  столбец  user_score       7590 - записей\n",
    "* 10 столбец  rating           9949 - записей\n",
    "<br>\n",
    "\n",
    "* Причиной отсутствия рейтинга может быть малопопулярность игры (в т.ч. в силу того, что игра очень старая), т.к. для того, чтобы получить рейтинг - игра должна заинтересовать игровые издания / рейтинговые организации / игровую общественность. Часто - материально, что, например, инди студии сделать не могут. \n",
    "* Также, отсутствие рейтинга может быть обусловлено тем, что игра представляет из себя сервис. Такие игры оценивать <a href=\"https://www.ixbt.com/live/games/pochemu-igrovye-zhurnalisty-perestali-vystavlyat-ocenki-igram.html\">затруднительно</a>, поскольку они постоянно меняются и рейтинг актуален лишь на короткий период действия того или иного обновления.\n",
    "\n"
   ]
  },
  {
   "cell_type": "markdown",
   "metadata": {},
   "source": [
    "Заполним пропуски в critic_score и user_score медианными значениями. Т.к. если мы оставим пропуски - в дальнейшем они будут мешать нам проверять наши гипотезы."
   ]
  },
  {
   "cell_type": "code",
   "execution_count": 18,
   "metadata": {},
   "outputs": [],
   "source": [
    "df['critic_score'].fillna(df['critic_score'].median(), inplace=True)\n",
    "df['user_score'].fillna(df['user_score'].median(), inplace=True)"
   ]
  },
  {
   "cell_type": "markdown",
   "metadata": {},
   "source": [
    "Посмотрим на уникальные значения столбца 'rating':"
   ]
  },
  {
   "cell_type": "code",
   "execution_count": 19,
   "metadata": {},
   "outputs": [
    {
     "data": {
      "text/plain": [
       "array(['e', nan, 'm', 't', 'e10+', 'k-a', 'ao', 'ec', 'rp'], dtype=object)"
      ]
     },
     "execution_count": 19,
     "metadata": {},
     "output_type": "execute_result"
    }
   ],
   "source": [
    "df['rating'].unique()"
   ]
  },
  {
   "cell_type": "markdown",
   "metadata": {},
   "source": [
    "* В столбце 'rating' значения **'K-A'** и **'E'** — тождественны, поскольку рейтинг **«K-A»** («Kids to Adults») затем был <a href=\"https://en.wikipedia.org/wiki/Entertainment_Software_Rating_Board\">заменен</a> рейтингом **'E'** - Everyone (E) - Игры, которые годны для всех возрастов. Поэтому, во избежание неявного дублирования, заменим все **'K-A'** на **'E'**.\n",
    "* Также, рейтинг **'EC'**  - Early Childhood - игры для дошкольников - больше не используется. Заменим и **'EC'** на **'E'**"
   ]
  },
  {
   "cell_type": "code",
   "execution_count": 20,
   "metadata": {},
   "outputs": [],
   "source": [
    "df.loc[df['rating'] =='k-a','rating'] = 'e'\n",
    "df.loc[df['rating'] =='ec','rating'] = 'e'"
   ]
  },
  {
   "cell_type": "markdown",
   "metadata": {},
   "source": [
    "Рейтинг 'rp' - Rating Pending - применяется тогда, когда игре еще не присвоен окончательный рейтинг от ESRB. Заменим NaN в столбце 'rating' на 'rp'"
   ]
  },
  {
   "cell_type": "code",
   "execution_count": 21,
   "metadata": {},
   "outputs": [],
   "source": [
    "df.loc[df.loc[:,'rating'].isnull(),'rating'] = 'rp'"
   ]
  },
  {
   "cell_type": "code",
   "execution_count": 22,
   "metadata": {},
   "outputs": [
    {
     "data": {
      "text/plain": [
       "rp      6677\n",
       "e       3932\n",
       "t       2905\n",
       "m       1536\n",
       "e10+    1393\n",
       "ao         1\n",
       "Name: rating, dtype: int64"
      ]
     },
     "execution_count": 22,
     "metadata": {},
     "output_type": "execute_result"
    }
   ],
   "source": [
    "df['rating'].value_counts()"
   ]
  },
  {
   "cell_type": "markdown",
   "metadata": {},
   "source": [
    "Проверим наличие дубликатов:\n"
   ]
  },
  {
   "cell_type": "code",
   "execution_count": 23,
   "metadata": {},
   "outputs": [
    {
     "data": {
      "text/plain": [
       "0"
      ]
     },
     "execution_count": 23,
     "metadata": {},
     "output_type": "execute_result"
    }
   ],
   "source": [
    "df.duplicated().sum()\n"
   ]
  },
  {
   "cell_type": "markdown",
   "metadata": {},
   "source": [
    "Создадим столбец, отвечающий за продажи во всех регионах:"
   ]
  },
  {
   "cell_type": "code",
   "execution_count": 24,
   "metadata": {},
   "outputs": [],
   "source": [
    "df['total_sales'] = df.apply(lambda row: sum(row[['na_sales','eu_sales','jp_sales','other_sales']]),axis =1)"
   ]
  },
  {
   "cell_type": "code",
   "execution_count": 25,
   "metadata": {
    "scrolled": false
   },
   "outputs": [
    {
     "data": {
      "text/html": [
       "<div>\n",
       "<style scoped>\n",
       "    .dataframe tbody tr th:only-of-type {\n",
       "        vertical-align: middle;\n",
       "    }\n",
       "\n",
       "    .dataframe tbody tr th {\n",
       "        vertical-align: top;\n",
       "    }\n",
       "\n",
       "    .dataframe thead th {\n",
       "        text-align: right;\n",
       "    }\n",
       "</style>\n",
       "<table border=\"1\" class=\"dataframe\">\n",
       "  <thead>\n",
       "    <tr style=\"text-align: right;\">\n",
       "      <th></th>\n",
       "      <th>name</th>\n",
       "      <th>platform</th>\n",
       "      <th>year_of_release</th>\n",
       "      <th>genre</th>\n",
       "      <th>na_sales</th>\n",
       "      <th>eu_sales</th>\n",
       "      <th>jp_sales</th>\n",
       "      <th>other_sales</th>\n",
       "      <th>critic_score</th>\n",
       "      <th>user_score</th>\n",
       "      <th>rating</th>\n",
       "      <th>total_sales</th>\n",
       "    </tr>\n",
       "  </thead>\n",
       "  <tbody>\n",
       "    <tr>\n",
       "      <th>0</th>\n",
       "      <td>wii sports</td>\n",
       "      <td>wii</td>\n",
       "      <td>2006</td>\n",
       "      <td>sports</td>\n",
       "      <td>41.36</td>\n",
       "      <td>28.96</td>\n",
       "      <td>3.77</td>\n",
       "      <td>8.45</td>\n",
       "      <td>76.0</td>\n",
       "      <td>8.0</td>\n",
       "      <td>e</td>\n",
       "      <td>82.54</td>\n",
       "    </tr>\n",
       "    <tr>\n",
       "      <th>1</th>\n",
       "      <td>super mario bros.</td>\n",
       "      <td>nes</td>\n",
       "      <td>1985</td>\n",
       "      <td>platform</td>\n",
       "      <td>29.08</td>\n",
       "      <td>3.58</td>\n",
       "      <td>6.81</td>\n",
       "      <td>0.77</td>\n",
       "      <td>71.0</td>\n",
       "      <td>7.5</td>\n",
       "      <td>rp</td>\n",
       "      <td>40.24</td>\n",
       "    </tr>\n",
       "    <tr>\n",
       "      <th>2</th>\n",
       "      <td>mario kart wii</td>\n",
       "      <td>wii</td>\n",
       "      <td>2008</td>\n",
       "      <td>racing</td>\n",
       "      <td>15.68</td>\n",
       "      <td>12.76</td>\n",
       "      <td>3.79</td>\n",
       "      <td>3.29</td>\n",
       "      <td>82.0</td>\n",
       "      <td>8.3</td>\n",
       "      <td>e</td>\n",
       "      <td>35.52</td>\n",
       "    </tr>\n",
       "    <tr>\n",
       "      <th>3</th>\n",
       "      <td>wii sports resort</td>\n",
       "      <td>wii</td>\n",
       "      <td>2009</td>\n",
       "      <td>sports</td>\n",
       "      <td>15.61</td>\n",
       "      <td>10.93</td>\n",
       "      <td>3.28</td>\n",
       "      <td>2.95</td>\n",
       "      <td>80.0</td>\n",
       "      <td>8.0</td>\n",
       "      <td>e</td>\n",
       "      <td>32.77</td>\n",
       "    </tr>\n",
       "    <tr>\n",
       "      <th>4</th>\n",
       "      <td>pokemon red/pokemon blue</td>\n",
       "      <td>gb</td>\n",
       "      <td>1996</td>\n",
       "      <td>role-playing</td>\n",
       "      <td>11.27</td>\n",
       "      <td>8.89</td>\n",
       "      <td>10.22</td>\n",
       "      <td>1.00</td>\n",
       "      <td>71.0</td>\n",
       "      <td>7.5</td>\n",
       "      <td>rp</td>\n",
       "      <td>31.38</td>\n",
       "    </tr>\n",
       "  </tbody>\n",
       "</table>\n",
       "</div>"
      ],
      "text/plain": [
       "                       name platform  year_of_release         genre  na_sales  \\\n",
       "0                wii sports      wii             2006        sports     41.36   \n",
       "1         super mario bros.      nes             1985      platform     29.08   \n",
       "2            mario kart wii      wii             2008        racing     15.68   \n",
       "3         wii sports resort      wii             2009        sports     15.61   \n",
       "4  pokemon red/pokemon blue       gb             1996  role-playing     11.27   \n",
       "\n",
       "   eu_sales  jp_sales  other_sales  critic_score  user_score rating  \\\n",
       "0     28.96      3.77         8.45          76.0         8.0      e   \n",
       "1      3.58      6.81         0.77          71.0         7.5     rp   \n",
       "2     12.76      3.79         3.29          82.0         8.3      e   \n",
       "3     10.93      3.28         2.95          80.0         8.0      e   \n",
       "4      8.89     10.22         1.00          71.0         7.5     rp   \n",
       "\n",
       "   total_sales  \n",
       "0        82.54  \n",
       "1        40.24  \n",
       "2        35.52  \n",
       "3        32.77  \n",
       "4        31.38  "
      ]
     },
     "execution_count": 25,
     "metadata": {},
     "output_type": "execute_result"
    }
   ],
   "source": [
    "df.head()"
   ]
  },
  {
   "cell_type": "markdown",
   "metadata": {},
   "source": [
    "## Проведем исследовательский анализ данных"
   ]
  },
  {
   "cell_type": "markdown",
   "metadata": {},
   "source": [
    "### Посмотрим, сколько игр выпускалось в разные годы."
   ]
  },
  {
   "cell_type": "code",
   "execution_count": 26,
   "metadata": {},
   "outputs": [
    {
     "data": {
      "text/plain": [
       "2008    1427\n",
       "2009    1426\n",
       "2010    1255\n",
       "2007    1197\n",
       "2011    1136\n",
       "2006    1006\n",
       "2005     939\n",
       "2002     829\n",
       "2003     775\n",
       "2004     762\n",
       "2012     653\n",
       "2015     606\n",
       "2014     581\n",
       "2013     544\n",
       "2016     502\n",
       "2001     482\n",
       "1998     379\n",
       "2000     350\n",
       "1999     338\n",
       "1997     289\n",
       "1996     263\n",
       "1995     219\n",
       "1994     121\n",
       "1993      60\n",
       "1981      46\n",
       "1992      43\n",
       "1991      41\n",
       "1982      36\n",
       "1986      21\n",
       "1983      17\n",
       "1989      17\n",
       "1990      16\n",
       "1987      16\n",
       "1988      15\n",
       "1985      14\n",
       "1984      14\n",
       "1980       9\n",
       "Name: year_of_release, dtype: int64"
      ]
     },
     "execution_count": 26,
     "metadata": {},
     "output_type": "execute_result"
    }
   ],
   "source": [
    "df['year_of_release'].value_counts()"
   ]
  },
  {
   "cell_type": "markdown",
   "metadata": {},
   "source": [
    "Сгруппируем данные и построим график начиная с 1994 года, т.к. до этого игр выпускалось слишком мало."
   ]
  },
  {
   "cell_type": "code",
   "execution_count": 27,
   "metadata": {},
   "outputs": [],
   "source": [
    "game_by_years = df.groupby('year_of_release').agg({'name':'count'})"
   ]
  },
  {
   "cell_type": "code",
   "execution_count": 28,
   "metadata": {},
   "outputs": [
    {
     "data": {
      "image/png": "[encoded data removed]",
      "text/plain": [
       "<Figure size 1800x720 with 1 Axes>"
      ]
     },
     "metadata": {
      "needs_background": "light"
     },
     "output_type": "display_data"
    }
   ],
   "source": [
    "with plt.style.context('seaborn-pastel'):\n",
    "    game_by_years.loc[1994:].plot(y = 'name', kind= 'bar', figsize = (25,10))\n",
    "    plt.title('Количество игр по годам')"
   ]
  },
  {
   "cell_type": "markdown",
   "metadata": {},
   "source": [
    "Больше всего игр выпускалось с 2005 по 2011 год."
   ]
  },
  {
   "cell_type": "markdown",
   "metadata": {},
   "source": [
    "### Посмотрим, как менялись продажи по платформам."
   ]
  },
  {
   "cell_type": "markdown",
   "metadata": {},
   "source": [
    "Получим первую 10-ку популярных платформ:"
   ]
  },
  {
   "cell_type": "code",
   "execution_count": 29,
   "metadata": {},
   "outputs": [],
   "source": [
    "platforms10 = df.groupby('platform').agg({'total_sales':'sum'}).sort_values(by = 'total_sales', ascending = False)[:10].index"
   ]
  },
  {
   "cell_type": "code",
   "execution_count": 30,
   "metadata": {
    "scrolled": true
   },
   "outputs": [],
   "source": [
    "platforms10_by_years = df.pivot_table(index=['platform','year_of_release'], values = 'total_sales', aggfunc = 'sum')\n",
    "platforms10_by_years['years'] = platforms10_by_years.index\n",
    "platforms10_by_years['years'] = platforms10_by_years['years'].apply (lambda row: row[1]).astype('int')"
   ]
  },
  {
   "cell_type": "code",
   "execution_count": 31,
   "metadata": {},
   "outputs": [
    {
     "data": {
      "text/html": [
       "<div>\n",
       "<style scoped>\n",
       "    .dataframe tbody tr th:only-of-type {\n",
       "        vertical-align: middle;\n",
       "    }\n",
       "\n",
       "    .dataframe tbody tr th {\n",
       "        vertical-align: top;\n",
       "    }\n",
       "\n",
       "    .dataframe thead th {\n",
       "        text-align: right;\n",
       "    }\n",
       "</style>\n",
       "<table border=\"1\" class=\"dataframe\">\n",
       "  <thead>\n",
       "    <tr style=\"text-align: right;\">\n",
       "      <th></th>\n",
       "      <th></th>\n",
       "      <th>total_sales</th>\n",
       "      <th>years</th>\n",
       "    </tr>\n",
       "    <tr>\n",
       "      <th>platform</th>\n",
       "      <th>year_of_release</th>\n",
       "      <th></th>\n",
       "      <th></th>\n",
       "    </tr>\n",
       "  </thead>\n",
       "  <tbody>\n",
       "    <tr>\n",
       "      <th rowspan=\"5\" valign=\"top\">2600</th>\n",
       "      <th>1980</th>\n",
       "      <td>11.38</td>\n",
       "      <td>1980</td>\n",
       "    </tr>\n",
       "    <tr>\n",
       "      <th>1981</th>\n",
       "      <td>35.68</td>\n",
       "      <td>1981</td>\n",
       "    </tr>\n",
       "    <tr>\n",
       "      <th>1982</th>\n",
       "      <td>28.88</td>\n",
       "      <td>1982</td>\n",
       "    </tr>\n",
       "    <tr>\n",
       "      <th>1983</th>\n",
       "      <td>5.84</td>\n",
       "      <td>1983</td>\n",
       "    </tr>\n",
       "    <tr>\n",
       "      <th>1984</th>\n",
       "      <td>0.27</td>\n",
       "      <td>1984</td>\n",
       "    </tr>\n",
       "    <tr>\n",
       "      <th>...</th>\n",
       "      <th>...</th>\n",
       "      <td>...</td>\n",
       "      <td>...</td>\n",
       "    </tr>\n",
       "    <tr>\n",
       "      <th>xb</th>\n",
       "      <th>2008</th>\n",
       "      <td>0.18</td>\n",
       "      <td>2008</td>\n",
       "    </tr>\n",
       "    <tr>\n",
       "      <th rowspan=\"4\" valign=\"top\">xone</th>\n",
       "      <th>2013</th>\n",
       "      <td>18.96</td>\n",
       "      <td>2013</td>\n",
       "    </tr>\n",
       "    <tr>\n",
       "      <th>2014</th>\n",
       "      <td>54.07</td>\n",
       "      <td>2014</td>\n",
       "    </tr>\n",
       "    <tr>\n",
       "      <th>2015</th>\n",
       "      <td>60.14</td>\n",
       "      <td>2015</td>\n",
       "    </tr>\n",
       "    <tr>\n",
       "      <th>2016</th>\n",
       "      <td>26.15</td>\n",
       "      <td>2016</td>\n",
       "    </tr>\n",
       "  </tbody>\n",
       "</table>\n",
       "<p>238 rows × 2 columns</p>\n",
       "</div>"
      ],
      "text/plain": [
       "                          total_sales  years\n",
       "platform year_of_release                    \n",
       "2600     1980                   11.38   1980\n",
       "         1981                   35.68   1981\n",
       "         1982                   28.88   1982\n",
       "         1983                    5.84   1983\n",
       "         1984                    0.27   1984\n",
       "...                               ...    ...\n",
       "xb       2008                    0.18   2008\n",
       "xone     2013                   18.96   2013\n",
       "         2014                   54.07   2014\n",
       "         2015                   60.14   2015\n",
       "         2016                   26.15   2016\n",
       "\n",
       "[238 rows x 2 columns]"
      ]
     },
     "execution_count": 31,
     "metadata": {},
     "output_type": "execute_result"
    }
   ],
   "source": [
    "platforms10_by_years"
   ]
  },
  {
   "cell_type": "markdown",
   "metadata": {},
   "source": [
    "Построим красивый график:"
   ]
  },
  {
   "cell_type": "code",
   "execution_count": 32,
   "metadata": {},
   "outputs": [
    {
     "data": {
      "image/png": "[encoded data removed]",
      "text/plain": [
       "<Figure size 1440x360 with 1 Axes>"
      ]
     },
     "metadata": {
      "needs_background": "light"
     },
     "output_type": "display_data"
    }
   ],
   "source": [
    "fig, ax = plt.subplots(figsize =(20,5))\n",
    "for platform in platforms10:\n",
    "    platforms10_by_years.loc[platform].plot('years','total_sales', ax=ax)\n",
    "ax.legend(platforms10,prop = {'size':10})\n",
    "ax.set_xlim([2000,2017])\n",
    "ax.set_xticks(np.arange(1994,2017))\n",
    "ax.set_xticklabels(range(1994,2017))\n",
    "plt.title('Продажа игр на разных платформах по годам');"
   ]
  },
  {
   "cell_type": "markdown",
   "metadata": {},
   "source": [
    "* На графике отражено рождение и смерть платформ. \n",
    "* Продолжительность жизни каждой - лет 10.\n",
    "* Для нас актуальным периодом является интервал между 2013 и 2016 годом, т.к. в него входят все новые и актуальные платформы и нет ни одной устаревшей."
   ]
  },
  {
   "cell_type": "markdown",
   "metadata": {},
   "source": [
    "Возьмем данные за актуальный период, для этого выделим их в отдельный датафрейм:"
   ]
  },
  {
   "cell_type": "code",
   "execution_count": 33,
   "metadata": {},
   "outputs": [],
   "source": [
    "df_actual = df.query('2013 <= year_of_release <= 2016') "
   ]
  },
  {
   "cell_type": "markdown",
   "metadata": {},
   "source": [
    "Посмотрим, что получилось:"
   ]
  },
  {
   "cell_type": "code",
   "execution_count": 34,
   "metadata": {
    "scrolled": true
   },
   "outputs": [
    {
     "data": {
      "text/html": [
       "<div>\n",
       "<style scoped>\n",
       "    .dataframe tbody tr th:only-of-type {\n",
       "        vertical-align: middle;\n",
       "    }\n",
       "\n",
       "    .dataframe tbody tr th {\n",
       "        vertical-align: top;\n",
       "    }\n",
       "\n",
       "    .dataframe thead th {\n",
       "        text-align: right;\n",
       "    }\n",
       "</style>\n",
       "<table border=\"1\" class=\"dataframe\">\n",
       "  <thead>\n",
       "    <tr style=\"text-align: right;\">\n",
       "      <th></th>\n",
       "      <th>name</th>\n",
       "      <th>platform</th>\n",
       "      <th>year_of_release</th>\n",
       "      <th>genre</th>\n",
       "      <th>na_sales</th>\n",
       "      <th>eu_sales</th>\n",
       "      <th>jp_sales</th>\n",
       "      <th>other_sales</th>\n",
       "      <th>critic_score</th>\n",
       "      <th>user_score</th>\n",
       "      <th>rating</th>\n",
       "      <th>total_sales</th>\n",
       "    </tr>\n",
       "  </thead>\n",
       "  <tbody>\n",
       "    <tr>\n",
       "      <th>16</th>\n",
       "      <td>grand theft auto v</td>\n",
       "      <td>ps3</td>\n",
       "      <td>2013</td>\n",
       "      <td>action</td>\n",
       "      <td>7.02</td>\n",
       "      <td>9.09</td>\n",
       "      <td>0.98</td>\n",
       "      <td>3.96</td>\n",
       "      <td>97.0</td>\n",
       "      <td>8.2</td>\n",
       "      <td>m</td>\n",
       "      <td>21.05</td>\n",
       "    </tr>\n",
       "    <tr>\n",
       "      <th>23</th>\n",
       "      <td>grand theft auto v</td>\n",
       "      <td>x360</td>\n",
       "      <td>2013</td>\n",
       "      <td>action</td>\n",
       "      <td>9.66</td>\n",
       "      <td>5.14</td>\n",
       "      <td>0.06</td>\n",
       "      <td>1.41</td>\n",
       "      <td>97.0</td>\n",
       "      <td>8.1</td>\n",
       "      <td>m</td>\n",
       "      <td>16.27</td>\n",
       "    </tr>\n",
       "    <tr>\n",
       "      <th>31</th>\n",
       "      <td>call of duty: black ops 3</td>\n",
       "      <td>ps4</td>\n",
       "      <td>2015</td>\n",
       "      <td>shooter</td>\n",
       "      <td>6.03</td>\n",
       "      <td>5.86</td>\n",
       "      <td>0.36</td>\n",
       "      <td>2.38</td>\n",
       "      <td>71.0</td>\n",
       "      <td>7.5</td>\n",
       "      <td>rp</td>\n",
       "      <td>14.63</td>\n",
       "    </tr>\n",
       "    <tr>\n",
       "      <th>33</th>\n",
       "      <td>pokemon x/pokemon y</td>\n",
       "      <td>3ds</td>\n",
       "      <td>2013</td>\n",
       "      <td>role-playing</td>\n",
       "      <td>5.28</td>\n",
       "      <td>4.19</td>\n",
       "      <td>4.35</td>\n",
       "      <td>0.78</td>\n",
       "      <td>71.0</td>\n",
       "      <td>7.5</td>\n",
       "      <td>rp</td>\n",
       "      <td>14.60</td>\n",
       "    </tr>\n",
       "    <tr>\n",
       "      <th>42</th>\n",
       "      <td>grand theft auto v</td>\n",
       "      <td>ps4</td>\n",
       "      <td>2014</td>\n",
       "      <td>action</td>\n",
       "      <td>3.96</td>\n",
       "      <td>6.31</td>\n",
       "      <td>0.38</td>\n",
       "      <td>1.97</td>\n",
       "      <td>97.0</td>\n",
       "      <td>8.3</td>\n",
       "      <td>m</td>\n",
       "      <td>12.62</td>\n",
       "    </tr>\n",
       "  </tbody>\n",
       "</table>\n",
       "</div>"
      ],
      "text/plain": [
       "                         name platform  year_of_release         genre  \\\n",
       "16         grand theft auto v      ps3             2013        action   \n",
       "23         grand theft auto v     x360             2013        action   \n",
       "31  call of duty: black ops 3      ps4             2015       shooter   \n",
       "33        pokemon x/pokemon y      3ds             2013  role-playing   \n",
       "42         grand theft auto v      ps4             2014        action   \n",
       "\n",
       "    na_sales  eu_sales  jp_sales  other_sales  critic_score  user_score  \\\n",
       "16      7.02      9.09      0.98         3.96          97.0         8.2   \n",
       "23      9.66      5.14      0.06         1.41          97.0         8.1   \n",
       "31      6.03      5.86      0.36         2.38          71.0         7.5   \n",
       "33      5.28      4.19      4.35         0.78          71.0         7.5   \n",
       "42      3.96      6.31      0.38         1.97          97.0         8.3   \n",
       "\n",
       "   rating  total_sales  \n",
       "16      m        21.05  \n",
       "23      m        16.27  \n",
       "31     rp        14.63  \n",
       "33     rp        14.60  \n",
       "42      m        12.62  "
      ]
     },
     "execution_count": 34,
     "metadata": {},
     "output_type": "execute_result"
    }
   ],
   "source": [
    "df_actual.head()"
   ]
  },
  {
   "cell_type": "markdown",
   "metadata": {},
   "source": [
    "### Какие платформы лидируют по продажам, растут или падают? Выберем несколько потенциально прибыльных платформ."
   ]
  },
  {
   "cell_type": "code",
   "execution_count": 35,
   "metadata": {},
   "outputs": [],
   "source": [
    "df_actual_ptable = df_actual.pivot_table(index = ['year_of_release','platform'], values = 'total_sales', aggfunc = 'sum')\n",
    "\n",
    "ptable_index = df_actual_ptable.index.to_list()\n",
    "\n",
    "df_actual_ptable[\"years\"] = [year for year, platform in ptable_index]\n",
    "df_actual_ptable.index = [platform for year, platform in ptable_index]"
   ]
  },
  {
   "cell_type": "code",
   "execution_count": 36,
   "metadata": {},
   "outputs": [
    {
     "data": {
      "text/html": [
       "<div>\n",
       "<style scoped>\n",
       "    .dataframe tbody tr th:only-of-type {\n",
       "        vertical-align: middle;\n",
       "    }\n",
       "\n",
       "    .dataframe tbody tr th {\n",
       "        vertical-align: top;\n",
       "    }\n",
       "\n",
       "    .dataframe thead th {\n",
       "        text-align: right;\n",
       "    }\n",
       "</style>\n",
       "<table border=\"1\" class=\"dataframe\">\n",
       "  <thead>\n",
       "    <tr style=\"text-align: right;\">\n",
       "      <th></th>\n",
       "      <th>total_sales</th>\n",
       "      <th>years</th>\n",
       "    </tr>\n",
       "  </thead>\n",
       "  <tbody>\n",
       "    <tr>\n",
       "      <th>3ds</th>\n",
       "      <td>56.57</td>\n",
       "      <td>2013</td>\n",
       "    </tr>\n",
       "    <tr>\n",
       "      <th>ds</th>\n",
       "      <td>1.54</td>\n",
       "      <td>2013</td>\n",
       "    </tr>\n",
       "    <tr>\n",
       "      <th>pc</th>\n",
       "      <td>12.38</td>\n",
       "      <td>2013</td>\n",
       "    </tr>\n",
       "    <tr>\n",
       "      <th>ps3</th>\n",
       "      <td>113.25</td>\n",
       "      <td>2013</td>\n",
       "    </tr>\n",
       "    <tr>\n",
       "      <th>ps4</th>\n",
       "      <td>25.99</td>\n",
       "      <td>2013</td>\n",
       "    </tr>\n",
       "    <tr>\n",
       "      <th>psp</th>\n",
       "      <td>3.14</td>\n",
       "      <td>2013</td>\n",
       "    </tr>\n",
       "    <tr>\n",
       "      <th>psv</th>\n",
       "      <td>10.59</td>\n",
       "      <td>2013</td>\n",
       "    </tr>\n",
       "    <tr>\n",
       "      <th>wii</th>\n",
       "      <td>8.59</td>\n",
       "      <td>2013</td>\n",
       "    </tr>\n",
       "    <tr>\n",
       "      <th>wiiu</th>\n",
       "      <td>21.65</td>\n",
       "      <td>2013</td>\n",
       "    </tr>\n",
       "    <tr>\n",
       "      <th>x360</th>\n",
       "      <td>88.58</td>\n",
       "      <td>2013</td>\n",
       "    </tr>\n",
       "    <tr>\n",
       "      <th>xone</th>\n",
       "      <td>18.96</td>\n",
       "      <td>2013</td>\n",
       "    </tr>\n",
       "    <tr>\n",
       "      <th>3ds</th>\n",
       "      <td>43.76</td>\n",
       "      <td>2014</td>\n",
       "    </tr>\n",
       "    <tr>\n",
       "      <th>pc</th>\n",
       "      <td>13.28</td>\n",
       "      <td>2014</td>\n",
       "    </tr>\n",
       "    <tr>\n",
       "      <th>ps3</th>\n",
       "      <td>47.76</td>\n",
       "      <td>2014</td>\n",
       "    </tr>\n",
       "    <tr>\n",
       "      <th>ps4</th>\n",
       "      <td>100.00</td>\n",
       "      <td>2014</td>\n",
       "    </tr>\n",
       "    <tr>\n",
       "      <th>psp</th>\n",
       "      <td>0.24</td>\n",
       "      <td>2014</td>\n",
       "    </tr>\n",
       "    <tr>\n",
       "      <th>psv</th>\n",
       "      <td>11.90</td>\n",
       "      <td>2014</td>\n",
       "    </tr>\n",
       "    <tr>\n",
       "      <th>wii</th>\n",
       "      <td>3.75</td>\n",
       "      <td>2014</td>\n",
       "    </tr>\n",
       "    <tr>\n",
       "      <th>wiiu</th>\n",
       "      <td>22.03</td>\n",
       "      <td>2014</td>\n",
       "    </tr>\n",
       "    <tr>\n",
       "      <th>x360</th>\n",
       "      <td>34.74</td>\n",
       "      <td>2014</td>\n",
       "    </tr>\n",
       "    <tr>\n",
       "      <th>xone</th>\n",
       "      <td>54.07</td>\n",
       "      <td>2014</td>\n",
       "    </tr>\n",
       "    <tr>\n",
       "      <th>3ds</th>\n",
       "      <td>27.78</td>\n",
       "      <td>2015</td>\n",
       "    </tr>\n",
       "    <tr>\n",
       "      <th>pc</th>\n",
       "      <td>8.52</td>\n",
       "      <td>2015</td>\n",
       "    </tr>\n",
       "    <tr>\n",
       "      <th>ps3</th>\n",
       "      <td>16.82</td>\n",
       "      <td>2015</td>\n",
       "    </tr>\n",
       "    <tr>\n",
       "      <th>ps4</th>\n",
       "      <td>118.90</td>\n",
       "      <td>2015</td>\n",
       "    </tr>\n",
       "    <tr>\n",
       "      <th>psp</th>\n",
       "      <td>0.12</td>\n",
       "      <td>2015</td>\n",
       "    </tr>\n",
       "    <tr>\n",
       "      <th>psv</th>\n",
       "      <td>6.25</td>\n",
       "      <td>2015</td>\n",
       "    </tr>\n",
       "    <tr>\n",
       "      <th>wii</th>\n",
       "      <td>1.14</td>\n",
       "      <td>2015</td>\n",
       "    </tr>\n",
       "    <tr>\n",
       "      <th>wiiu</th>\n",
       "      <td>16.35</td>\n",
       "      <td>2015</td>\n",
       "    </tr>\n",
       "    <tr>\n",
       "      <th>x360</th>\n",
       "      <td>11.96</td>\n",
       "      <td>2015</td>\n",
       "    </tr>\n",
       "    <tr>\n",
       "      <th>xone</th>\n",
       "      <td>60.14</td>\n",
       "      <td>2015</td>\n",
       "    </tr>\n",
       "    <tr>\n",
       "      <th>3ds</th>\n",
       "      <td>15.14</td>\n",
       "      <td>2016</td>\n",
       "    </tr>\n",
       "    <tr>\n",
       "      <th>pc</th>\n",
       "      <td>5.25</td>\n",
       "      <td>2016</td>\n",
       "    </tr>\n",
       "    <tr>\n",
       "      <th>ps3</th>\n",
       "      <td>3.60</td>\n",
       "      <td>2016</td>\n",
       "    </tr>\n",
       "    <tr>\n",
       "      <th>ps4</th>\n",
       "      <td>69.25</td>\n",
       "      <td>2016</td>\n",
       "    </tr>\n",
       "    <tr>\n",
       "      <th>psv</th>\n",
       "      <td>4.25</td>\n",
       "      <td>2016</td>\n",
       "    </tr>\n",
       "    <tr>\n",
       "      <th>wii</th>\n",
       "      <td>0.18</td>\n",
       "      <td>2016</td>\n",
       "    </tr>\n",
       "    <tr>\n",
       "      <th>wiiu</th>\n",
       "      <td>4.60</td>\n",
       "      <td>2016</td>\n",
       "    </tr>\n",
       "    <tr>\n",
       "      <th>x360</th>\n",
       "      <td>1.52</td>\n",
       "      <td>2016</td>\n",
       "    </tr>\n",
       "    <tr>\n",
       "      <th>xone</th>\n",
       "      <td>26.15</td>\n",
       "      <td>2016</td>\n",
       "    </tr>\n",
       "  </tbody>\n",
       "</table>\n",
       "</div>"
      ],
      "text/plain": [
       "      total_sales  years\n",
       "3ds         56.57   2013\n",
       "ds           1.54   2013\n",
       "pc          12.38   2013\n",
       "ps3        113.25   2013\n",
       "ps4         25.99   2013\n",
       "psp          3.14   2013\n",
       "psv         10.59   2013\n",
       "wii          8.59   2013\n",
       "wiiu        21.65   2013\n",
       "x360        88.58   2013\n",
       "xone        18.96   2013\n",
       "3ds         43.76   2014\n",
       "pc          13.28   2014\n",
       "ps3         47.76   2014\n",
       "ps4        100.00   2014\n",
       "psp          0.24   2014\n",
       "psv         11.90   2014\n",
       "wii          3.75   2014\n",
       "wiiu        22.03   2014\n",
       "x360        34.74   2014\n",
       "xone        54.07   2014\n",
       "3ds         27.78   2015\n",
       "pc           8.52   2015\n",
       "ps3         16.82   2015\n",
       "ps4        118.90   2015\n",
       "psp          0.12   2015\n",
       "psv          6.25   2015\n",
       "wii          1.14   2015\n",
       "wiiu        16.35   2015\n",
       "x360        11.96   2015\n",
       "xone        60.14   2015\n",
       "3ds         15.14   2016\n",
       "pc           5.25   2016\n",
       "ps3          3.60   2016\n",
       "ps4         69.25   2016\n",
       "psv          4.25   2016\n",
       "wii          0.18   2016\n",
       "wiiu         4.60   2016\n",
       "x360         1.52   2016\n",
       "xone        26.15   2016"
      ]
     },
     "execution_count": 36,
     "metadata": {},
     "output_type": "execute_result"
    }
   ],
   "source": [
    "df_actual_ptable"
   ]
  },
  {
   "cell_type": "markdown",
   "metadata": {},
   "source": [
    "Построим график:"
   ]
  },
  {
   "cell_type": "code",
   "execution_count": 37,
   "metadata": {},
   "outputs": [
    {
     "data": {
      "image/png": "[encoded data removed]",
      "text/plain": [
       "<Figure size 1080x360 with 1 Axes>"
      ]
     },
     "metadata": {
      "needs_background": "light"
     },
     "output_type": "display_data"
    }
   ],
   "source": [
    "fig, ax = plt.subplots(figsize =(15,5))\n",
    "for platform in df_actual_ptable.index:\n",
    "    ax.plot(df_actual_ptable.loc[platform]['years'],\n",
    "            df_actual_ptable.loc[platform]['total_sales'])\n",
    "ax.legend(df_actual_ptable.index.unique(),prop = {'size':10})\n",
    "plt.title('Продажа игр на разных платформах по годам');"
   ]
  },
  {
   "cell_type": "markdown",
   "metadata": {},
   "source": [
    "* Мы наблюдаем, что к концу актуального периода все платформы или теряют в продажах или стагнируют. \n",
    "* Бодрый рост был лишь у ps4 и x360, но лишь до 2014 года. \n",
    "* Продажи игр для ps5 вызывают вопросы, т.к. эта платформа вышла <a href=\"https://ru.wikipedia.org/wiki/PlayStation_5\">лишь в 2020 году.</a>\n",
    "* Судя по нашим данным - потенциально прибыльными могут стать платформы apple и android, которых тут нет. \n",
    "* А из представленных -  x360, ps4 и pc, как надежную, всегда актуальную платформу."
   ]
  },
  {
   "cell_type": "markdown",
   "metadata": {},
   "source": [
    "### Построим график «ящик с усами» по глобальным продажам игр в разбивке по платформам. Опишим результат."
   ]
  },
  {
   "cell_type": "code",
   "execution_count": 38,
   "metadata": {},
   "outputs": [
    {
     "data": {
      "image/png": "[encoded data removed]",
      "text/plain": [
       "<Figure size 1080x360 with 1 Axes>"
      ]
     },
     "metadata": {
      "needs_background": "light"
     },
     "output_type": "display_data"
    }
   ],
   "source": [
    "top_quartile = df_actual['total_sales'].quantile(0.75)\n",
    "low_quartile = df_actual['total_sales'].quantile(0.25)\n",
    "threshold = top_quartile + 2*low_quartile\n",
    "fig, ax = plt.subplots(figsize =(15,5))\n",
    "sns.boxplot(x = 'platform', y = 'total_sales', data = df_actual.query('total_sales <= @threshold'),ax=ax);"
   ]
  },
  {
   "cell_type": "markdown",
   "metadata": {},
   "source": [
    "У платформ x360, ps4, ps3, wii, pc, psp большая часть значений больше медианного. Наиболее равномерно значения  распределены у платформ xone, ds."
   ]
  },
  {
   "cell_type": "markdown",
   "metadata": {},
   "source": [
    "### Посмотрим, как влияют на продажи внутри одной популярной платформы отзывы пользователей и критиков."
   ]
  },
  {
   "cell_type": "markdown",
   "metadata": {},
   "source": [
    "Для исследования возьмем платформу ps4, как ведущую по продажам.\n"
   ]
  },
  {
   "cell_type": "markdown",
   "metadata": {},
   "source": [
    "Посмотрим диаграмму рассеивания по плафторе ps4 и отзывам пользвателей"
   ]
  },
  {
   "cell_type": "code",
   "execution_count": 39,
   "metadata": {},
   "outputs": [
    {
     "data": {
      "image/png": "[encoded data removed]",
      "text/plain": [
       "<Figure size 1080x504 with 1 Axes>"
      ]
     },
     "metadata": {
      "needs_background": "light"
     },
     "output_type": "display_data"
    }
   ],
   "source": [
    "df_actual[df_actual['platform']=='ps4'].plot(x='user_score', y='total_sales', kind='scatter', alpha=0.5, subplots=True, figsize=(15,7), c='b', s = 15, grid=True)\n",
    "plt.title('Диаграмма рассеивания — Общие продажи — Отзывы пользователей');\n"
   ]
  },
  {
   "cell_type": "markdown",
   "metadata": {},
   "source": [
    "Посмотрим диаграмму рассеивания по плафторе ps4 и отзывам критиков:"
   ]
  },
  {
   "cell_type": "code",
   "execution_count": 40,
   "metadata": {
    "scrolled": true
   },
   "outputs": [
    {
     "data": {
      "image/png": "[encoded data removed]",
      "text/plain": [
       "<Figure size 1080x504 with 1 Axes>"
      ]
     },
     "metadata": {
      "needs_background": "light"
     },
     "output_type": "display_data"
    }
   ],
   "source": [
    "df_actual[df_actual['platform']=='ps4'].plot(x='critic_score', y='total_sales', kind='scatter', alpha=0.5, subplots=True, figsize=(15,7), c='b', s = 15, grid=True)\n",
    "plt.title('Диаграмма рассеивания — Общие продажи — Отзывы критиков');"
   ]
  },
  {
   "cell_type": "markdown",
   "metadata": {},
   "source": [
    "Вычислим корреляцию между отзывами пользователей и общими продажами:"
   ]
  },
  {
   "cell_type": "code",
   "execution_count": 41,
   "metadata": {},
   "outputs": [
    {
     "data": {
      "text/plain": [
       "'Корреляция очень слабо отрицательная: -0.06275557891282788'"
      ]
     },
     "metadata": {},
     "output_type": "display_data"
    }
   ],
   "source": [
    "df_actual_ps4 = df_actual[df_actual['platform']=='ps4']\n",
    "df_actual_ps4_user_cor = df_actual_ps4['user_score'].corr(df_actual_ps4['total_sales'])\n",
    "display('Корреляция очень слабо отрицательная: {}'.format(df_actual_ps4_user_cor))"
   ]
  },
  {
   "cell_type": "markdown",
   "metadata": {},
   "source": [
    "Вычислим корреляцию между отзывами критиков и общими продажами:"
   ]
  },
  {
   "cell_type": "code",
   "execution_count": 42,
   "metadata": {
    "scrolled": true
   },
   "outputs": [
    {
     "data": {
      "text/plain": [
       "'Корреляция слабо положительная: 0.3387064530024634'"
      ]
     },
     "metadata": {},
     "output_type": "display_data"
    }
   ],
   "source": [
    "df_actual_ps4_critic_cor = df_actual_ps4['critic_score'].corr(df_actual_ps4['total_sales'])\n",
    "display('Корреляция слабо положительная: {}'.format(df_actual_ps4_critic_cor))"
   ]
  },
  {
   "cell_type": "markdown",
   "metadata": {},
   "source": [
    "#### Вывод"
   ]
  },
  {
   "cell_type": "markdown",
   "metadata": {},
   "source": [
    "* Оценив соотношение отзывов покупателей, критиков и общими продажами можно сказать, что большую часть составляют высокие оценки. \n",
    "* Мы выяснили, что по данным из диаграммы рассеивания у нас:\n",
    " *  очень слабо отрицательная корреляция: **-** 0.06275557891282788 - по отзывам пользователей. Т.е. отзывы пользователей снижают продажи, даже при в целом хороших оценках. Или это пользователи склонны оставлять отзывы на не самых продаваемых играх.\n",
    " *  слабо положительная корреляция:  0.3387064530024634  - по отзывам критиков. Т.е. критики хорошо знают свою работу и при должном их стимулировании можно добиться повышения продаж."
   ]
  },
  {
   "cell_type": "markdown",
   "metadata": {},
   "source": [
    "### Соотнесем выводы с продажами игр на других платформах:"
   ]
  },
  {
   "cell_type": "code",
   "execution_count": 43,
   "metadata": {
    "scrolled": false
   },
   "outputs": [
    {
     "data": {
      "text/html": [
       "<div>\n",
       "<style scoped>\n",
       "    .dataframe tbody tr th:only-of-type {\n",
       "        vertical-align: middle;\n",
       "    }\n",
       "\n",
       "    .dataframe tbody tr th {\n",
       "        vertical-align: top;\n",
       "    }\n",
       "\n",
       "    .dataframe thead th {\n",
       "        text-align: right;\n",
       "    }\n",
       "</style>\n",
       "<table border=\"1\" class=\"dataframe\">\n",
       "  <thead>\n",
       "    <tr style=\"text-align: right;\">\n",
       "      <th></th>\n",
       "      <th>count</th>\n",
       "      <th>mean</th>\n",
       "      <th>std</th>\n",
       "      <th>min</th>\n",
       "      <th>25%</th>\n",
       "      <th>50%</th>\n",
       "      <th>75%</th>\n",
       "      <th>max</th>\n",
       "    </tr>\n",
       "    <tr>\n",
       "      <th>platform</th>\n",
       "      <th></th>\n",
       "      <th></th>\n",
       "      <th></th>\n",
       "      <th></th>\n",
       "      <th></th>\n",
       "      <th></th>\n",
       "      <th></th>\n",
       "      <th></th>\n",
       "    </tr>\n",
       "  </thead>\n",
       "  <tbody>\n",
       "    <tr>\n",
       "      <th>3ds</th>\n",
       "      <td>303.0</td>\n",
       "      <td>0.472772</td>\n",
       "      <td>1.381347</td>\n",
       "      <td>0.01</td>\n",
       "      <td>0.0400</td>\n",
       "      <td>0.090</td>\n",
       "      <td>0.2800</td>\n",
       "      <td>14.60</td>\n",
       "    </tr>\n",
       "    <tr>\n",
       "      <th>ds</th>\n",
       "      <td>8.0</td>\n",
       "      <td>0.192500</td>\n",
       "      <td>0.172026</td>\n",
       "      <td>0.03</td>\n",
       "      <td>0.0675</td>\n",
       "      <td>0.150</td>\n",
       "      <td>0.2525</td>\n",
       "      <td>0.51</td>\n",
       "    </tr>\n",
       "    <tr>\n",
       "      <th>pc</th>\n",
       "      <td>189.0</td>\n",
       "      <td>0.208624</td>\n",
       "      <td>0.352304</td>\n",
       "      <td>0.01</td>\n",
       "      <td>0.0300</td>\n",
       "      <td>0.080</td>\n",
       "      <td>0.2300</td>\n",
       "      <td>3.05</td>\n",
       "    </tr>\n",
       "    <tr>\n",
       "      <th>ps3</th>\n",
       "      <td>345.0</td>\n",
       "      <td>0.525884</td>\n",
       "      <td>1.451939</td>\n",
       "      <td>0.01</td>\n",
       "      <td>0.0400</td>\n",
       "      <td>0.150</td>\n",
       "      <td>0.5100</td>\n",
       "      <td>21.05</td>\n",
       "    </tr>\n",
       "    <tr>\n",
       "      <th>ps4</th>\n",
       "      <td>392.0</td>\n",
       "      <td>0.801378</td>\n",
       "      <td>1.609456</td>\n",
       "      <td>0.01</td>\n",
       "      <td>0.0600</td>\n",
       "      <td>0.200</td>\n",
       "      <td>0.7300</td>\n",
       "      <td>14.63</td>\n",
       "    </tr>\n",
       "    <tr>\n",
       "      <th>psp</th>\n",
       "      <td>67.0</td>\n",
       "      <td>0.052239</td>\n",
       "      <td>0.059768</td>\n",
       "      <td>0.01</td>\n",
       "      <td>0.0150</td>\n",
       "      <td>0.020</td>\n",
       "      <td>0.0700</td>\n",
       "      <td>0.24</td>\n",
       "    </tr>\n",
       "    <tr>\n",
       "      <th>psv</th>\n",
       "      <td>358.0</td>\n",
       "      <td>0.092151</td>\n",
       "      <td>0.153816</td>\n",
       "      <td>0.01</td>\n",
       "      <td>0.0200</td>\n",
       "      <td>0.040</td>\n",
       "      <td>0.1100</td>\n",
       "      <td>1.96</td>\n",
       "    </tr>\n",
       "    <tr>\n",
       "      <th>wii</th>\n",
       "      <td>23.0</td>\n",
       "      <td>0.593913</td>\n",
       "      <td>0.915432</td>\n",
       "      <td>0.01</td>\n",
       "      <td>0.0450</td>\n",
       "      <td>0.180</td>\n",
       "      <td>0.7550</td>\n",
       "      <td>3.58</td>\n",
       "    </tr>\n",
       "    <tr>\n",
       "      <th>wiiu</th>\n",
       "      <td>115.0</td>\n",
       "      <td>0.562000</td>\n",
       "      <td>1.038778</td>\n",
       "      <td>0.01</td>\n",
       "      <td>0.0600</td>\n",
       "      <td>0.200</td>\n",
       "      <td>0.5950</td>\n",
       "      <td>7.09</td>\n",
       "    </tr>\n",
       "    <tr>\n",
       "      <th>x360</th>\n",
       "      <td>186.0</td>\n",
       "      <td>0.735484</td>\n",
       "      <td>1.663275</td>\n",
       "      <td>0.01</td>\n",
       "      <td>0.0800</td>\n",
       "      <td>0.265</td>\n",
       "      <td>0.7950</td>\n",
       "      <td>16.27</td>\n",
       "    </tr>\n",
       "    <tr>\n",
       "      <th>xone</th>\n",
       "      <td>247.0</td>\n",
       "      <td>0.645020</td>\n",
       "      <td>1.036139</td>\n",
       "      <td>0.01</td>\n",
       "      <td>0.0600</td>\n",
       "      <td>0.220</td>\n",
       "      <td>0.6850</td>\n",
       "      <td>7.39</td>\n",
       "    </tr>\n",
       "  </tbody>\n",
       "</table>\n",
       "</div>"
      ],
      "text/plain": [
       "          count      mean       std   min     25%    50%     75%    max\n",
       "platform                                                               \n",
       "3ds       303.0  0.472772  1.381347  0.01  0.0400  0.090  0.2800  14.60\n",
       "ds          8.0  0.192500  0.172026  0.03  0.0675  0.150  0.2525   0.51\n",
       "pc        189.0  0.208624  0.352304  0.01  0.0300  0.080  0.2300   3.05\n",
       "ps3       345.0  0.525884  1.451939  0.01  0.0400  0.150  0.5100  21.05\n",
       "ps4       392.0  0.801378  1.609456  0.01  0.0600  0.200  0.7300  14.63\n",
       "psp        67.0  0.052239  0.059768  0.01  0.0150  0.020  0.0700   0.24\n",
       "psv       358.0  0.092151  0.153816  0.01  0.0200  0.040  0.1100   1.96\n",
       "wii        23.0  0.593913  0.915432  0.01  0.0450  0.180  0.7550   3.58\n",
       "wiiu      115.0  0.562000  1.038778  0.01  0.0600  0.200  0.5950   7.09\n",
       "x360      186.0  0.735484  1.663275  0.01  0.0800  0.265  0.7950  16.27\n",
       "xone      247.0  0.645020  1.036139  0.01  0.0600  0.220  0.6850   7.39"
      ]
     },
     "execution_count": 43,
     "metadata": {},
     "output_type": "execute_result"
    }
   ],
   "source": [
    "df_actual.groupby('platform')['total_sales'].describe()"
   ]
  },
  {
   "cell_type": "code",
   "execution_count": 44,
   "metadata": {
    "scrolled": false
   },
   "outputs": [
    {
     "data": {
      "image/png": "[encoded data removed]",
      "text/plain": [
       "<Figure size 1080x504 with 1 Axes>"
      ]
     },
     "metadata": {
      "needs_background": "light"
     },
     "output_type": "display_data"
    }
   ],
   "source": [
    "df_actual[df_actual['platform']!='ps4'].plot(x='user_score', y='total_sales', kind='scatter', alpha=0.5, subplots=True, figsize=(15,7), c='b', s = 15, grid=True)\n",
    "plt.title('Диаграмма рассеивания — Общие продажи на других платформах — Отзывы пользователей');\n"
   ]
  },
  {
   "cell_type": "markdown",
   "metadata": {},
   "source": [
    "Посмотрим диаграмму рассеивания на других плафтормах и отзывам пользвателей"
   ]
  },
  {
   "cell_type": "code",
   "execution_count": 45,
   "metadata": {
    "scrolled": true
   },
   "outputs": [
    {
     "data": {
      "image/png": "[encoded data removed]",
      "text/plain": [
       "<Figure size 1080x504 with 1 Axes>"
      ]
     },
     "metadata": {
      "needs_background": "light"
     },
     "output_type": "display_data"
    }
   ],
   "source": [
    "df_actual[df_actual['platform']!='ps4'].plot(x='critic_score', y='total_sales', kind='scatter', alpha=0.5, subplots=True, figsize=(15,7), c='b', s = 15, grid=True)\n",
    "plt.title('Диаграмма рассеивания — Общие продажи на других платформах — Отзывы критиков');"
   ]
  },
  {
   "cell_type": "markdown",
   "metadata": {},
   "source": [
    "Вычислим корреляцию между отзывами пользователей на других платформах и общими продажами:"
   ]
  },
  {
   "cell_type": "code",
   "execution_count": 46,
   "metadata": {},
   "outputs": [
    {
     "data": {
      "text/plain": [
       "'Корреляция очень слабо отрицательная: -0.061861460311476074'"
      ]
     },
     "metadata": {},
     "output_type": "display_data"
    }
   ],
   "source": [
    "df_actual_not_ps4 = df_actual[df_actual['platform']!='ps4']\n",
    "df_actual_not_ps4_user_cor = df_actual_not_ps4['user_score'].corr(df_actual_not_ps4['total_sales'])\n",
    "display('Корреляция очень слабо отрицательная: {}'.format(df_actual_not_ps4_user_cor))"
   ]
  },
  {
   "cell_type": "markdown",
   "metadata": {},
   "source": [
    "Вычислим корреляцию между отзывами критиков на других платформах и общими продажами:"
   ]
  },
  {
   "cell_type": "code",
   "execution_count": 47,
   "metadata": {},
   "outputs": [
    {
     "data": {
      "text/plain": [
       "'Корреляция слабо положительная: 0.22609100395798937'"
      ]
     },
     "metadata": {},
     "output_type": "display_data"
    }
   ],
   "source": [
    "df_actual_not_ps4_critic_cor = df_actual_not_ps4['critic_score'].corr(df_actual_not_ps4['total_sales'])\n",
    "display('Корреляция слабо положительная: {}'.format(df_actual_not_ps4_critic_cor))"
   ]
  },
  {
   "cell_type": "markdown",
   "metadata": {},
   "source": [
    "#### Выводы:"
   ]
  },
  {
   "cell_type": "markdown",
   "metadata": {},
   "source": [
    "* Оценив соотношение отзывов покупателей, критиков и общими продажами игр на других плафторм можно сказать, что большую часть также составляют высокие оценки. \n",
    "* Мы выяснили, что по данным из диаграммы рассеивания у нас:\n",
    " *  очень слабо отирцательная корреляция: **-** 0.061861460311476074 - по отзывам пользователей на всех остальных платформах. Т.е. отзывы пользователей практически не влияют на продажи.\n",
    " *  слабо положительная корреляция: 0.22609100395798937  - по отзывам критиков. На других плафтормах критики по прежнему положительно влияют на продажи, но слабо."
   ]
  },
  {
   "cell_type": "markdown",
   "metadata": {},
   "source": [
    "## Посмотрим на общее распределение игр по жанрам."
   ]
  },
  {
   "cell_type": "markdown",
   "metadata": {},
   "source": [
    "Посмотрим популярность жанров на всех платформах за актуальный интервал:"
   ]
  },
  {
   "cell_type": "code",
   "execution_count": 48,
   "metadata": {},
   "outputs": [
    {
     "data": {
      "image/png": "[encoded data removed]",
      "text/plain": [
       "<Figure size 1152x360 with 1 Axes>"
      ]
     },
     "metadata": {
      "needs_background": "light"
     },
     "output_type": "display_data"
    }
   ],
   "source": [
    "\n",
    "(\n",
    "df_actual.pivot_table(index='genre', values='total_sales', aggfunc='median')\n",
    ".plot(kind='bar', figsize=(16, 5))\n",
    ")\n",
    "plt.title('Самые продаваемые жанры за 2013-2016 годы');"
   ]
  },
  {
   "cell_type": "code",
   "execution_count": 49,
   "metadata": {
    "scrolled": true
   },
   "outputs": [
    {
     "data": {
      "image/png": "[encoded data removed]",
      "text/plain": [
       "<Figure size 1152x360 with 1 Axes>"
      ]
     },
     "metadata": {
      "needs_background": "light"
     },
     "output_type": "display_data"
    }
   ],
   "source": [
    "(\n",
    "df_actual.pivot_table(index='genre', values='total_sales', aggfunc='median')\n",
    ".plot(style='o-', figsize=(16, 5),  c='r')\n",
    ")\n",
    "plt.title('Самые продаваемые жанры за 2013-2016 годы');\n"
   ]
  },
  {
   "cell_type": "markdown",
   "metadata": {},
   "source": [
    "Cамым популярным жанром являются шутеры, спортивные игры, платформеры, а наимении популярными являются квесты - adventure и головоломки."
   ]
  },
  {
   "cell_type": "markdown",
   "metadata": {},
   "source": [
    "##  Составим портрет пользователя каждого региона"
   ]
  },
  {
   "cell_type": "markdown",
   "metadata": {},
   "source": [
    "Построим сводную таблицу по рейтингу для регионов NA, EU, JP"
   ]
  },
  {
   "cell_type": "code",
   "execution_count": 50,
   "metadata": {},
   "outputs": [],
   "source": [
    "rating_ptable = df_actual.pivot_table(index = 'platform', values = ['na_sales','eu_sales', 'jp_sales'], aggfunc = ['sum'])"
   ]
  },
  {
   "cell_type": "code",
   "execution_count": 51,
   "metadata": {},
   "outputs": [],
   "source": [
    "rating_ptable.columns = ['na_sales','eu_sales', 'jp_sales']"
   ]
  },
  {
   "cell_type": "markdown",
   "metadata": {},
   "source": [
    "Составим рейтинг 5-ки самых популярных платформ для каждого региона"
   ]
  },
  {
   "cell_type": "code",
   "execution_count": 52,
   "metadata": {},
   "outputs": [],
   "source": [
    "top5_na = rating_ptable.sort_values(by = 'na_sales', ascending = False).index[:5]\n",
    "top5_eu = rating_ptable.sort_values(by = 'eu_sales', ascending = False).index[:5]\n",
    "top5_jp = rating_ptable.sort_values(by = 'jp_sales', ascending = False).index[:5]"
   ]
  },
  {
   "cell_type": "code",
   "execution_count": 53,
   "metadata": {
    "scrolled": true
   },
   "outputs": [
    {
     "name": "stdout",
     "output_type": "stream",
     "text": [
      "Топ платформ для сверо-американского региона: ps4 ps3 xone x360 3ds\n",
      "\n",
      "Рассмотрим платформу: ps4\n",
      "Доля продаж: 0.5308326122126494\n",
      "\n",
      "Рассмотрим платформу: ps3\n",
      "Доля продаж: 0.43844562265614906\n",
      "\n",
      "Рассмотрим платформу: xone\n",
      "Доля продаж: 0.355670458462599\n",
      "\n",
      "Рассмотрим платформу: x360\n",
      "Доля продаж: 0.3410056941214211\n",
      "\n",
      "Рассмотрим платформу: 3ds\n",
      "Доля продаж: 0.22603489815288028\n",
      "\n",
      "Топ платформ для европейского региона: 3ds ps3 psv ps4 wiiu\n",
      "\n",
      "Рассмотрим платформу: 3ds\n",
      "Доля продаж: 0.4950719135577135\n",
      "\n",
      "Рассмотрим платформу: ps3\n",
      "Доля продаж: 0.15097633518686143\n",
      "\n",
      "Рассмотрим платформу: psv\n",
      "Доля продаж: 0.6252943155062242\n",
      "\n",
      "Рассмотрим платформу: ps4\n",
      "Доля продаж: 0.06004740584672089\n",
      "\n",
      "Рассмотрим платформу: wiiu\n",
      "Доля продаж: 0.18151484818151464\n",
      "\n",
      "Топ платформ для японского региона: ps4 xone x360 ps3 3ds\n",
      "\n",
      "Рассмотрим платформу: ps4\n",
      "Доля продаж: 0.40911998194062954\n",
      "\n",
      "Рассмотрим платформу: xone\n",
      "Доля продаж: 0.6419855222337125\n",
      "\n",
      "Рассмотрим платформу: x360\n",
      "Доля продаж: 0.6549041623225601\n",
      "\n",
      "Рассмотрим платформу: ps3\n",
      "Доля продаж: 0.4105780421569894\n",
      "\n",
      "Рассмотрим платформу: 3ds\n",
      "Доля продаж: 0.27889318828940624\n",
      "\n"
     ]
    }
   ],
   "source": [
    "list_of_top = [top5_na, top5_eu, top5_jp]\n",
    "for count,top in enumerate(list_of_top):\n",
    "    if count == 0: \n",
    "        print('Топ платформ для сверо-американского региона:',*top)\n",
    "    elif count == 1:\n",
    "        print('Топ платформ для европейского региона:',*top)\n",
    "    elif count == 2:\n",
    "        print('Топ платформ для японского региона:',*top)\n",
    "    print()\n",
    "    for platform in top:\n",
    "        data = rating_ptable.loc[platform,['na_sales','eu_sales', 'jp_sales']]\n",
    "        if count == 0: \n",
    "            part = data['na_sales']\n",
    "        elif count == 1:\n",
    "            part = data['eu_sales']\n",
    "        elif count == 2:\n",
    "            part = data['jp_sales']\n",
    "        ratio = part / sum(data)\n",
    "        print('Рассмотрим платформу:', platform)\n",
    "        print('Доля продаж:', ratio)\n",
    "        print()"
   ]
  },
  {
   "cell_type": "markdown",
   "metadata": {},
   "source": [
    "Выделим лидирующий жанр"
   ]
  },
  {
   "cell_type": "code",
   "execution_count": 54,
   "metadata": {},
   "outputs": [
    {
     "name": "stdout",
     "output_type": "stream",
     "text": [
      "Топ 5 самых популярных жанров в европейском регионе: action shooter sports role-playing misc\n",
      "Топ 5 самых популярных жанров в японском регионе: role-playing action misc fighting shooter\n",
      "Топ 5 самых популярных жанров в северо авереканском регионе: action shooter sports role-playing racing\n"
     ]
    }
   ],
   "source": [
    "top_genre_ptable = df_actual.pivot_table(index = ['genre'], values = ['na_sales','jp_sales','eu_sales'], aggfunc = ['sum'])\n",
    "top_genre_ptable.columns = ['na_sales','jp_sales','eu_sales']\n",
    "top5_genres_eu = top_genre_ptable.sort_values(by = 'eu_sales', ascending = False).index[:5]\n",
    "top5_genres_jp = top_genre_ptable.sort_values(by = 'jp_sales', ascending = False).index[:5]\n",
    "top5_genres_na = top_genre_ptable.sort_values(by = 'na_sales', ascending = False).index[:5]\n",
    "\n",
    "print('Топ 5 самых популярных жанров в европейском регионе:',*top5_genres_eu)\n",
    "print('Топ 5 самых популярных жанров в японском регионе:',*top5_genres_jp)\n",
    "print('Топ 5 самых популярных жанров в северо авереканском регионе:',*top5_genres_na)"
   ]
  },
  {
   "cell_type": "markdown",
   "metadata": {},
   "source": [
    "Посмотрим, влияет ли рейтинг ESRB на продажи в отдельном регионе?"
   ]
  },
  {
   "cell_type": "code",
   "execution_count": 55,
   "metadata": {},
   "outputs": [
    {
     "data": {
      "text/html": [
       "<div>\n",
       "<style scoped>\n",
       "    .dataframe tbody tr th:only-of-type {\n",
       "        vertical-align: middle;\n",
       "    }\n",
       "\n",
       "    .dataframe tbody tr th {\n",
       "        vertical-align: top;\n",
       "    }\n",
       "\n",
       "    .dataframe thead tr th {\n",
       "        text-align: left;\n",
       "    }\n",
       "\n",
       "    .dataframe thead tr:last-of-type th {\n",
       "        text-align: right;\n",
       "    }\n",
       "</style>\n",
       "<table border=\"1\" class=\"dataframe\">\n",
       "  <thead>\n",
       "    <tr>\n",
       "      <th></th>\n",
       "      <th colspan=\"3\" halign=\"left\">sum</th>\n",
       "    </tr>\n",
       "    <tr>\n",
       "      <th></th>\n",
       "      <th>eu_sales</th>\n",
       "      <th>jp_sales</th>\n",
       "      <th>na_sales</th>\n",
       "    </tr>\n",
       "    <tr>\n",
       "      <th>rating</th>\n",
       "      <th></th>\n",
       "      <th></th>\n",
       "      <th></th>\n",
       "    </tr>\n",
       "  </thead>\n",
       "  <tbody>\n",
       "    <tr>\n",
       "      <th>e</th>\n",
       "      <td>83.36</td>\n",
       "      <td>15.14</td>\n",
       "      <td>79.05</td>\n",
       "    </tr>\n",
       "    <tr>\n",
       "      <th>e10+</th>\n",
       "      <td>42.69</td>\n",
       "      <td>5.89</td>\n",
       "      <td>54.24</td>\n",
       "    </tr>\n",
       "    <tr>\n",
       "      <th>m</th>\n",
       "      <td>145.32</td>\n",
       "      <td>14.11</td>\n",
       "      <td>165.21</td>\n",
       "    </tr>\n",
       "    <tr>\n",
       "      <th>rp</th>\n",
       "      <td>78.91</td>\n",
       "      <td>85.05</td>\n",
       "      <td>89.42</td>\n",
       "    </tr>\n",
       "    <tr>\n",
       "      <th>t</th>\n",
       "      <td>41.95</td>\n",
       "      <td>20.59</td>\n",
       "      <td>49.79</td>\n",
       "    </tr>\n",
       "  </tbody>\n",
       "</table>\n",
       "</div>"
      ],
      "text/plain": [
       "            sum                  \n",
       "       eu_sales jp_sales na_sales\n",
       "rating                           \n",
       "e         83.36    15.14    79.05\n",
       "e10+      42.69     5.89    54.24\n",
       "m        145.32    14.11   165.21\n",
       "rp        78.91    85.05    89.42\n",
       "t         41.95    20.59    49.79"
      ]
     },
     "execution_count": 55,
     "metadata": {},
     "output_type": "execute_result"
    }
   ],
   "source": [
    "esrb_ptable = df_actual.pivot_table(index = ['rating'], values = ['na_sales','jp_sales','eu_sales'], aggfunc = ['sum'])\n",
    "esrb_ptable"
   ]
  },
  {
   "cell_type": "markdown",
   "metadata": {},
   "source": [
    "* Рейтинг ESRB влияет на продажи в отдельных регионах. \n",
    "* Так у рейтинга 'е' основная доля продаж приходится на европейский регион, а в Японии продажи игры с этим рейтингом в 5 раз меньше.\n",
    "* Игры для детей старше 10 лет в Японии не пользуются особой популярносью.\n",
    "* А в Северной Америке наиболее популярными являются игры для взрослых ( May contain intense violence, blood and gore, sexual content, and strong language.)"
   ]
  },
  {
   "cell_type": "markdown",
   "metadata": {},
   "source": [
    "## Проверка гипотез"
   ]
  },
  {
   "cell_type": "markdown",
   "metadata": {},
   "source": [
    "### Проверим гипотезу \"средние пользовательские рейтинги платформ Xbox One и PC одинаковые\":\n",
    "    "
   ]
  },
  {
   "cell_type": "markdown",
   "metadata": {},
   "source": [
    "\n",
    "* **Н0:** Средние пользовательские рейтинги платформ Xbox One и PC одинаковые\n",
    "* **H1:** Средние пользовательские рейтинги платформ Xbox One и PC отличаются"
   ]
  },
  {
   "cell_type": "code",
   "execution_count": 56,
   "metadata": {},
   "outputs": [
    {
     "name": "stdout",
     "output_type": "stream",
     "text": [
      "Равны ли дисперсии двух совокупностей? True\n"
     ]
    }
   ],
   "source": [
    "xone_var = st.variation(df_actual.query('platform == \"xone\"')['user_score'])\n",
    "pc_var = st.variation(df_actual.query('platform == \"pc\"')['user_score'])\n",
    "print('Равны ли дисперсии двух совокупностей?',(xone_var * 0.05 < abs(xone_var - pc_var)))"
   ]
  },
  {
   "cell_type": "code",
   "execution_count": 57,
   "metadata": {},
   "outputs": [
    {
     "name": "stdout",
     "output_type": "stream",
     "text": [
      "р-значение:  0.03921856828549636\n",
      "Отвергаем нулевую гипотезу\n"
     ]
    }
   ],
   "source": [
    "alpha = 0.05\n",
    "\n",
    "result1 = st.ttest_ind(df_actual.query('platform == \"xone\"')['user_score'], \n",
    "                       df_actual.query('platform == \"pc\"')['user_score'])\n",
    "\n",
    "prob1 = result1.pvalue\n",
    "print('р-значение: ',prob1)\n",
    "if prob1 < alpha:\n",
    "    print(\"Отвергаем нулевую гипотезу\")\n",
    "else:\n",
    "    print(\"Не получилось отвергнуть нулевую гипотезу\")"
   ]
  },
  {
   "cell_type": "markdown",
   "metadata": {},
   "source": [
    "#### Вывод"
   ]
  },
  {
   "cell_type": "markdown",
   "metadata": {},
   "source": [
    "Проверка показала, что нулевая гипотеза не подтвердилась. Следовательно, средние пользовательские рейтинги платформ Xbox One и PC отличаются"
   ]
  },
  {
   "cell_type": "markdown",
   "metadata": {},
   "source": [
    "### Проверим гипотезу \"средние пользовательские рейтинги жанров Action и Sports разные.\""
   ]
  },
  {
   "cell_type": "markdown",
   "metadata": {},
   "source": [
    "* **Н0:** Cредние пользовательские рейтинги жанров Action и Sports одинаковые.\n",
    "* **H1:** Cредние пользовательские рейтинги жанров Action и Sports разные."
   ]
  },
  {
   "cell_type": "code",
   "execution_count": 58,
   "metadata": {},
   "outputs": [
    {
     "name": "stdout",
     "output_type": "stream",
     "text": [
      "Равны ли дисперсии двух совокупностей? True\n"
     ]
    }
   ],
   "source": [
    "action_var = st.variation(df_actual.query('genre == \"action\"')['user_score'])\n",
    "sports_var = st.variation(df_actual.query('genre == \"sports\"')['user_score'])\n",
    "print('Равны ли дисперсии двух совокупностей?',(((action_var * 0.05) < abs(action_var - sports_var))))"
   ]
  },
  {
   "cell_type": "code",
   "execution_count": 62,
   "metadata": {},
   "outputs": [
    {
     "name": "stdout",
     "output_type": "stream",
     "text": [
      "р-значение:  6.739248242461045e-42\n",
      "Отвергаем нулевую гипотезу\n"
     ]
    }
   ],
   "source": [
    "result2 = st.ttest_ind(df_actual.query('genre == \"action\"')['user_score'], \n",
    "                       df_actual.query('genre == \"sports\"')['user_score'])\n",
    "\n",
    "prob2 = result2.pvalue\n",
    "print('р-значение: ', prob2)\n",
    "if prob2 < alpha:\n",
    "    print(\"Отвергаем нулевую гипотезу\")\n",
    "else:\n",
    "    print(\"Не получилось отвергнуть нулевую гипотезу\")"
   ]
  },
  {
   "cell_type": "markdown",
   "metadata": {},
   "source": [
    "#### Вывод"
   ]
  },
  {
   "cell_type": "markdown",
   "metadata": {},
   "source": [
    "Проверка показала, что нулевая гипотеза не подтвердилась. Средние пользовательские рейтинги жанров Action и Sports разные."
   ]
  },
  {
   "cell_type": "markdown",
   "metadata": {},
   "source": [
    "## Вывод"
   ]
  },
  {
   "cell_type": "markdown",
   "metadata": {},
   "source": [
    "Из проведенного анализы мы выяснили:\n",
    "* Cамыми перспективными платформами на 2017 год являются x360, ps4 и pc (а лучше - android и apple).\n",
    "* Cамыми популярными платформами на рынке в мире являются - PS4.\n",
    "* Большинство предпочитает играть в шутеры. \n",
    "* Предпочтение жанров варьируется от региона. \n",
    "* Три самых популярных жанра одинаковы для Европы и США: action, shooter, sports, но отличаются для Японии:  role-playing,  action, misc.\n",
    "* Самые популярные игры и в Европе и США относятся к категории ESRB для взрослых  - материалы игры не подходят для подростков младше 17 лет.\n",
    "* Средние пользовательские рейтинги платформ Xbox One и PC отличаются\n",
    "* Средние пользовательские рейтинги жанров Action и Sports разные.\n"
   ]
  }
 ],
 "metadata": {
  "ExecuteTimeLog": [
   {
    "duration": 1433,
    "start_time": "2022-08-22T14:38:48.303Z"
   },
   {
    "duration": 215,
    "start_time": "2022-08-22T14:39:11.028Z"
   },
   {
    "duration": 24,
    "start_time": "2022-08-22T14:39:33.477Z"
   },
   {
    "duration": 15,
    "start_time": "2022-08-22T14:40:09.333Z"
   },
   {
    "duration": 82,
    "start_time": "2022-08-22T14:41:35.877Z"
   },
   {
    "duration": 3,
    "start_time": "2022-08-22T14:42:02.523Z"
   },
   {
    "duration": 85,
    "start_time": "2022-08-22T14:43:46.262Z"
   },
   {
    "duration": 30,
    "start_time": "2022-08-22T14:46:28.169Z"
   },
   {
    "duration": 78,
    "start_time": "2022-08-22T14:48:46.213Z"
   },
   {
    "duration": 15,
    "start_time": "2022-08-22T14:48:57.062Z"
   },
   {
    "duration": 32,
    "start_time": "2022-08-22T14:49:17.684Z"
   },
   {
    "duration": 114,
    "start_time": "2022-08-22T14:50:04.810Z"
   },
   {
    "duration": 107,
    "start_time": "2022-08-22T14:50:22.560Z"
   },
   {
    "duration": 13,
    "start_time": "2022-08-22T14:50:28.289Z"
   },
   {
    "duration": 6,
    "start_time": "2022-08-22T14:50:36.920Z"
   },
   {
    "duration": 28,
    "start_time": "2022-08-22T14:50:59.262Z"
   },
   {
    "duration": 14,
    "start_time": "2022-08-22T14:51:36.348Z"
   },
   {
    "duration": 6,
    "start_time": "2022-08-22T14:57:11.783Z"
   },
   {
    "duration": 6,
    "start_time": "2022-08-22T14:58:41.506Z"
   },
   {
    "duration": 94,
    "start_time": "2022-08-22T14:59:32.841Z"
   },
   {
    "duration": 16,
    "start_time": "2022-08-22T15:00:11.658Z"
   },
   {
    "duration": 6,
    "start_time": "2022-08-22T15:00:31.083Z"
   },
   {
    "duration": 13,
    "start_time": "2022-08-22T15:00:32.575Z"
   },
   {
    "duration": 5,
    "start_time": "2022-08-22T15:00:44.022Z"
   },
   {
    "duration": 7,
    "start_time": "2022-08-22T15:00:46.682Z"
   },
   {
    "duration": 4,
    "start_time": "2022-08-22T15:00:53.442Z"
   },
   {
    "duration": 15,
    "start_time": "2022-08-22T15:01:02.905Z"
   },
   {
    "duration": 1194,
    "start_time": "2022-08-22T15:01:18.852Z"
   },
   {
    "duration": 65,
    "start_time": "2022-08-22T15:01:20.049Z"
   },
   {
    "duration": 18,
    "start_time": "2022-08-22T15:01:20.116Z"
   },
   {
    "duration": 24,
    "start_time": "2022-08-22T15:01:20.136Z"
   },
   {
    "duration": 4,
    "start_time": "2022-08-22T15:01:20.162Z"
   },
   {
    "duration": 44,
    "start_time": "2022-08-22T15:01:20.167Z"
   },
   {
    "duration": 16,
    "start_time": "2022-08-22T15:01:20.213Z"
   },
   {
    "duration": 15,
    "start_time": "2022-08-22T15:01:20.231Z"
   },
   {
    "duration": 13,
    "start_time": "2022-08-22T15:01:20.248Z"
   },
   {
    "duration": 30,
    "start_time": "2022-08-22T15:01:20.263Z"
   },
   {
    "duration": 9,
    "start_time": "2022-08-22T15:01:20.296Z"
   },
   {
    "duration": 24,
    "start_time": "2022-08-22T15:01:20.307Z"
   },
   {
    "duration": 6,
    "start_time": "2022-08-22T15:03:46.125Z"
   },
   {
    "duration": 17,
    "start_time": "2022-08-22T15:05:45.155Z"
   },
   {
    "duration": 97,
    "start_time": "2022-08-22T15:07:17.794Z"
   },
   {
    "duration": 9,
    "start_time": "2022-08-22T15:10:07.922Z"
   },
   {
    "duration": 7,
    "start_time": "2022-08-22T15:10:21.936Z"
   },
   {
    "duration": 9,
    "start_time": "2022-08-22T15:12:37.917Z"
   },
   {
    "duration": 96,
    "start_time": "2022-08-22T15:15:29.255Z"
   },
   {
    "duration": 23,
    "start_time": "2022-08-22T15:16:02.819Z"
   },
   {
    "duration": 7,
    "start_time": "2022-08-22T15:22:26.555Z"
   },
   {
    "duration": 14,
    "start_time": "2022-08-22T15:22:33.669Z"
   },
   {
    "duration": 107,
    "start_time": "2022-08-22T15:23:22.267Z"
   },
   {
    "duration": 6,
    "start_time": "2022-08-22T15:38:51.814Z"
   },
   {
    "duration": 99,
    "start_time": "2022-08-22T15:40:55.752Z"
   },
   {
    "duration": 12,
    "start_time": "2022-08-22T15:41:33.752Z"
   },
   {
    "duration": 14,
    "start_time": "2022-08-22T15:42:10.236Z"
   },
   {
    "duration": 13,
    "start_time": "2022-08-22T15:44:28.765Z"
   },
   {
    "duration": 14,
    "start_time": "2022-08-22T15:46:29.141Z"
   },
   {
    "duration": 10,
    "start_time": "2022-08-22T15:46:50.498Z"
   },
   {
    "duration": 4,
    "start_time": "2022-08-22T15:47:02.912Z"
   },
   {
    "duration": 5,
    "start_time": "2022-08-22T15:47:51.932Z"
   },
   {
    "duration": 4,
    "start_time": "2022-08-22T15:47:58.502Z"
   },
   {
    "duration": 21,
    "start_time": "2022-08-22T15:48:09.737Z"
   },
   {
    "duration": 10,
    "start_time": "2022-08-22T15:49:31.976Z"
   },
   {
    "duration": 10,
    "start_time": "2022-08-22T15:49:38.910Z"
   },
   {
    "duration": 5,
    "start_time": "2022-08-22T15:51:31.332Z"
   },
   {
    "duration": 14,
    "start_time": "2022-08-22T15:51:38.636Z"
   },
   {
    "duration": 15,
    "start_time": "2022-08-22T15:51:56.279Z"
   },
   {
    "duration": 15,
    "start_time": "2022-08-22T15:52:09.084Z"
   },
   {
    "duration": 9,
    "start_time": "2022-08-22T15:53:02.438Z"
   },
   {
    "duration": 12,
    "start_time": "2022-08-22T15:53:07.786Z"
   },
   {
    "duration": 14,
    "start_time": "2022-08-22T15:53:16.160Z"
   },
   {
    "duration": 1190,
    "start_time": "2022-08-22T15:53:22.917Z"
   },
   {
    "duration": 56,
    "start_time": "2022-08-22T15:53:24.109Z"
   },
   {
    "duration": 19,
    "start_time": "2022-08-22T15:53:24.166Z"
   },
   {
    "duration": 15,
    "start_time": "2022-08-22T15:53:24.187Z"
   },
   {
    "duration": 3,
    "start_time": "2022-08-22T15:53:24.204Z"
   },
   {
    "duration": 28,
    "start_time": "2022-08-22T15:53:24.208Z"
   },
   {
    "duration": 14,
    "start_time": "2022-08-22T15:53:24.237Z"
   },
   {
    "duration": 14,
    "start_time": "2022-08-22T15:53:24.253Z"
   },
   {
    "duration": 28,
    "start_time": "2022-08-22T15:53:24.268Z"
   },
   {
    "duration": 8,
    "start_time": "2022-08-22T15:53:24.298Z"
   },
   {
    "duration": 7,
    "start_time": "2022-08-22T15:53:24.308Z"
   },
   {
    "duration": 23,
    "start_time": "2022-08-22T15:53:24.316Z"
   },
   {
    "duration": 15,
    "start_time": "2022-08-22T15:53:24.341Z"
   },
   {
    "duration": 34,
    "start_time": "2022-08-22T15:53:24.359Z"
   },
   {
    "duration": 7,
    "start_time": "2022-08-22T15:53:24.395Z"
   },
   {
    "duration": 5,
    "start_time": "2022-08-22T15:53:24.404Z"
   },
   {
    "duration": 12,
    "start_time": "2022-08-22T15:53:24.411Z"
   },
   {
    "duration": 17,
    "start_time": "2022-08-22T15:53:24.425Z"
   },
   {
    "duration": 15,
    "start_time": "2022-08-22T15:56:55.129Z"
   },
   {
    "duration": 15,
    "start_time": "2022-08-22T15:56:56.670Z"
   },
   {
    "duration": 1306,
    "start_time": "2022-08-22T15:57:37.072Z"
   },
   {
    "duration": 58,
    "start_time": "2022-08-22T15:57:38.380Z"
   },
   {
    "duration": 18,
    "start_time": "2022-08-22T15:57:38.440Z"
   },
   {
    "duration": 18,
    "start_time": "2022-08-22T15:57:38.460Z"
   },
   {
    "duration": 3,
    "start_time": "2022-08-22T15:57:38.480Z"
   },
   {
    "duration": 28,
    "start_time": "2022-08-22T15:57:38.484Z"
   },
   {
    "duration": 15,
    "start_time": "2022-08-22T15:57:38.514Z"
   },
   {
    "duration": 13,
    "start_time": "2022-08-22T15:57:38.531Z"
   },
   {
    "duration": 15,
    "start_time": "2022-08-22T15:57:38.546Z"
   },
   {
    "duration": 33,
    "start_time": "2022-08-22T15:57:38.563Z"
   },
   {
    "duration": 8,
    "start_time": "2022-08-22T15:57:38.597Z"
   },
   {
    "duration": 17,
    "start_time": "2022-08-22T15:57:38.607Z"
   },
   {
    "duration": 18,
    "start_time": "2022-08-22T15:57:38.626Z"
   },
   {
    "duration": 9,
    "start_time": "2022-08-22T15:57:38.647Z"
   },
   {
    "duration": 40,
    "start_time": "2022-08-22T15:57:38.657Z"
   },
   {
    "duration": 3,
    "start_time": "2022-08-22T15:57:38.699Z"
   },
   {
    "duration": 10,
    "start_time": "2022-08-22T15:57:38.704Z"
   },
   {
    "duration": 14,
    "start_time": "2022-08-22T15:57:38.716Z"
   },
   {
    "duration": 16,
    "start_time": "2022-08-22T15:58:02.282Z"
   },
   {
    "duration": 4,
    "start_time": "2022-08-22T15:58:39.094Z"
   },
   {
    "duration": 7,
    "start_time": "2022-08-22T15:58:40.708Z"
   },
   {
    "duration": 15,
    "start_time": "2022-08-22T15:58:44.486Z"
   },
   {
    "duration": 5,
    "start_time": "2022-08-22T15:59:13.463Z"
   },
   {
    "duration": 15,
    "start_time": "2022-08-22T15:59:17.474Z"
   },
   {
    "duration": 15,
    "start_time": "2022-08-22T15:59:32.467Z"
   },
   {
    "duration": 15,
    "start_time": "2022-08-22T15:59:33.584Z"
   },
   {
    "duration": 5,
    "start_time": "2022-08-22T15:59:41.576Z"
   },
   {
    "duration": 5,
    "start_time": "2022-08-22T15:59:50.681Z"
   },
   {
    "duration": 15,
    "start_time": "2022-08-22T15:59:51.854Z"
   },
   {
    "duration": 46,
    "start_time": "2022-08-23T04:48:19.964Z"
   },
   {
    "duration": 1156,
    "start_time": "2022-08-23T04:48:26.821Z"
   },
   {
    "duration": 195,
    "start_time": "2022-08-23T04:48:27.979Z"
   },
   {
    "duration": 18,
    "start_time": "2022-08-23T04:48:28.176Z"
   },
   {
    "duration": 13,
    "start_time": "2022-08-23T04:48:28.196Z"
   },
   {
    "duration": 3,
    "start_time": "2022-08-23T04:48:28.211Z"
   },
   {
    "duration": 22,
    "start_time": "2022-08-23T04:48:28.215Z"
   },
   {
    "duration": 11,
    "start_time": "2022-08-23T04:48:28.238Z"
   },
   {
    "duration": 11,
    "start_time": "2022-08-23T04:48:28.251Z"
   },
   {
    "duration": 6,
    "start_time": "2022-08-23T04:48:28.263Z"
   },
   {
    "duration": 7,
    "start_time": "2022-08-23T04:48:28.270Z"
   },
   {
    "duration": 6,
    "start_time": "2022-08-23T04:48:28.278Z"
   },
   {
    "duration": 31,
    "start_time": "2022-08-23T04:48:28.286Z"
   },
   {
    "duration": 13,
    "start_time": "2022-08-23T04:48:28.318Z"
   },
   {
    "duration": 8,
    "start_time": "2022-08-23T04:48:28.332Z"
   },
   {
    "duration": 5,
    "start_time": "2022-08-23T04:48:28.341Z"
   },
   {
    "duration": 4,
    "start_time": "2022-08-23T04:48:28.348Z"
   },
   {
    "duration": 9,
    "start_time": "2022-08-23T04:48:28.353Z"
   },
   {
    "duration": 6,
    "start_time": "2022-08-23T04:48:28.363Z"
   },
   {
    "duration": 20,
    "start_time": "2022-08-23T05:01:29.188Z"
   },
   {
    "duration": 13,
    "start_time": "2022-08-23T05:02:25.409Z"
   },
   {
    "duration": 19,
    "start_time": "2022-08-23T05:12:51.207Z"
   },
   {
    "duration": 75,
    "start_time": "2022-08-23T05:13:48.482Z"
   },
   {
    "duration": 1956,
    "start_time": "2022-08-23T05:15:05.566Z"
   },
   {
    "duration": 9,
    "start_time": "2022-08-23T05:15:30.581Z"
   },
   {
    "duration": 3,
    "start_time": "2022-08-23T05:15:45.943Z"
   },
   {
    "duration": 5,
    "start_time": "2022-08-23T05:16:56.802Z"
   },
   {
    "duration": 12,
    "start_time": "2022-08-23T05:20:07.919Z"
   },
   {
    "duration": 22,
    "start_time": "2022-08-23T05:20:19.925Z"
   },
   {
    "duration": 3,
    "start_time": "2022-08-23T05:20:29.540Z"
   },
   {
    "duration": 48,
    "start_time": "2022-08-23T09:27:53.748Z"
   },
   {
    "duration": 1280,
    "start_time": "2022-08-23T09:28:02.516Z"
   },
   {
    "duration": 90,
    "start_time": "2022-08-23T09:28:03.798Z"
   },
   {
    "duration": 28,
    "start_time": "2022-08-23T09:28:03.889Z"
   },
   {
    "duration": 12,
    "start_time": "2022-08-23T09:28:03.919Z"
   },
   {
    "duration": 18,
    "start_time": "2022-08-23T09:28:03.933Z"
   },
   {
    "duration": 31,
    "start_time": "2022-08-23T09:28:03.952Z"
   },
   {
    "duration": 15,
    "start_time": "2022-08-23T09:28:03.984Z"
   },
   {
    "duration": 14,
    "start_time": "2022-08-23T09:28:04.000Z"
   },
   {
    "duration": 29,
    "start_time": "2022-08-23T09:28:04.016Z"
   },
   {
    "duration": 12,
    "start_time": "2022-08-23T09:28:04.047Z"
   },
   {
    "duration": 24,
    "start_time": "2022-08-23T09:28:04.061Z"
   },
   {
    "duration": 29,
    "start_time": "2022-08-23T09:28:04.086Z"
   },
   {
    "duration": 12,
    "start_time": "2022-08-23T09:28:04.117Z"
   },
   {
    "duration": 8,
    "start_time": "2022-08-23T09:28:04.131Z"
   },
   {
    "duration": 23,
    "start_time": "2022-08-23T09:28:04.140Z"
   },
   {
    "duration": 12,
    "start_time": "2022-08-23T09:28:04.165Z"
   },
   {
    "duration": 27,
    "start_time": "2022-08-23T09:28:04.179Z"
   },
   {
    "duration": 8,
    "start_time": "2022-08-23T09:28:04.208Z"
   },
   {
    "duration": 103,
    "start_time": "2022-08-23T09:41:39.926Z"
   },
   {
    "duration": 4,
    "start_time": "2022-08-23T09:41:53.638Z"
   },
   {
    "duration": 5,
    "start_time": "2022-08-23T09:42:06.877Z"
   },
   {
    "duration": 5,
    "start_time": "2022-08-23T09:42:20.595Z"
   },
   {
    "duration": 5,
    "start_time": "2022-08-23T09:42:22.087Z"
   },
   {
    "duration": 5,
    "start_time": "2022-08-23T09:42:39.822Z"
   },
   {
    "duration": 5,
    "start_time": "2022-08-23T09:42:41.301Z"
   },
   {
    "duration": 6,
    "start_time": "2022-08-23T09:43:06.118Z"
   },
   {
    "duration": 5,
    "start_time": "2022-08-23T09:43:07.210Z"
   },
   {
    "duration": 63,
    "start_time": "2022-08-23T09:48:49.938Z"
   },
   {
    "duration": 5,
    "start_time": "2022-08-23T09:50:49.194Z"
   },
   {
    "duration": 4,
    "start_time": "2022-08-23T09:50:50.232Z"
   },
   {
    "duration": 6,
    "start_time": "2022-08-23T09:58:13.809Z"
   },
   {
    "duration": 12,
    "start_time": "2022-08-23T09:58:37.459Z"
   },
   {
    "duration": 8,
    "start_time": "2022-08-23T10:00:49.310Z"
   },
   {
    "duration": 7,
    "start_time": "2022-08-23T10:00:55.085Z"
   },
   {
    "duration": 9,
    "start_time": "2022-08-23T10:03:37.660Z"
   },
   {
    "duration": 14,
    "start_time": "2022-08-23T10:03:43.681Z"
   },
   {
    "duration": 4377,
    "start_time": "2022-08-23T10:09:36.539Z"
   },
   {
    "duration": 13,
    "start_time": "2022-08-23T10:10:32.142Z"
   },
   {
    "duration": 30,
    "start_time": "2022-08-23T10:10:53.266Z"
   },
   {
    "duration": 5,
    "start_time": "2022-08-23T10:12:02.297Z"
   },
   {
    "duration": 5,
    "start_time": "2022-08-23T10:12:36.882Z"
   },
   {
    "duration": 18,
    "start_time": "2022-08-23T10:21:35.133Z"
   },
   {
    "duration": 34,
    "start_time": "2022-08-23T10:21:53.016Z"
   },
   {
    "duration": 8,
    "start_time": "2022-08-23T10:51:24.656Z"
   },
   {
    "duration": 6,
    "start_time": "2022-08-23T10:51:33.224Z"
   },
   {
    "duration": 42,
    "start_time": "2022-08-23T10:52:10.059Z"
   },
   {
    "duration": 4,
    "start_time": "2022-08-23T10:52:35.297Z"
   },
   {
    "duration": 12,
    "start_time": "2022-08-23T10:53:02.246Z"
   },
   {
    "duration": 7,
    "start_time": "2022-08-23T10:53:29.491Z"
   },
   {
    "duration": 334,
    "start_time": "2022-08-23T10:53:37.286Z"
   },
   {
    "duration": 334,
    "start_time": "2022-08-23T10:53:44.010Z"
   },
   {
    "duration": 196,
    "start_time": "2022-08-23T10:53:58.016Z"
   },
   {
    "duration": 326,
    "start_time": "2022-08-23T10:54:18.987Z"
   },
   {
    "duration": 308,
    "start_time": "2022-08-23T10:54:49.690Z"
   },
   {
    "duration": 11,
    "start_time": "2022-08-23T10:55:06.559Z"
   },
   {
    "duration": 7,
    "start_time": "2022-08-23T10:55:14.044Z"
   },
   {
    "duration": 320,
    "start_time": "2022-08-23T10:55:19.086Z"
   },
   {
    "duration": 305,
    "start_time": "2022-08-23T10:55:50.252Z"
   },
   {
    "duration": 399,
    "start_time": "2022-08-23T10:56:04.418Z"
   },
   {
    "duration": 357,
    "start_time": "2022-08-23T10:58:17.662Z"
   },
   {
    "duration": 355,
    "start_time": "2022-08-23T10:59:16.487Z"
   },
   {
    "duration": 10,
    "start_time": "2022-08-23T11:00:31.057Z"
   },
   {
    "duration": 348,
    "start_time": "2022-08-23T11:00:40.675Z"
   },
   {
    "duration": 349,
    "start_time": "2022-08-23T11:01:21.039Z"
   },
   {
    "duration": 453,
    "start_time": "2022-08-23T11:01:41.723Z"
   },
   {
    "duration": 36,
    "start_time": "2022-08-23T11:01:54.427Z"
   },
   {
    "duration": 33,
    "start_time": "2022-08-23T11:02:08.404Z"
   },
   {
    "duration": 335,
    "start_time": "2022-08-23T11:02:25.504Z"
   },
   {
    "duration": 274,
    "start_time": "2022-08-23T11:02:54.874Z"
   },
   {
    "duration": 280,
    "start_time": "2022-08-23T11:03:18.063Z"
   },
   {
    "duration": 5,
    "start_time": "2022-08-23T11:04:27.511Z"
   },
   {
    "duration": 5,
    "start_time": "2022-08-23T11:05:52.225Z"
   },
   {
    "duration": 52,
    "start_time": "2022-08-23T11:07:03.056Z"
   },
   {
    "duration": 13,
    "start_time": "2022-08-23T11:09:06.275Z"
   },
   {
    "duration": 5,
    "start_time": "2022-08-23T11:09:15.822Z"
   },
   {
    "duration": 299,
    "start_time": "2022-08-23T11:09:19.396Z"
   },
   {
    "duration": 79,
    "start_time": "2022-08-23T11:10:35.502Z"
   },
   {
    "duration": 136,
    "start_time": "2022-08-23T11:11:39.321Z"
   },
   {
    "duration": 7,
    "start_time": "2022-08-23T11:13:13.069Z"
   },
   {
    "duration": 7,
    "start_time": "2022-08-23T11:16:36.203Z"
   },
   {
    "duration": 3,
    "start_time": "2022-08-23T11:16:52.955Z"
   },
   {
    "duration": 899,
    "start_time": "2022-08-23T11:19:58.531Z"
   },
   {
    "duration": 6,
    "start_time": "2022-08-23T11:21:06.388Z"
   },
   {
    "duration": 1114,
    "start_time": "2022-08-23T11:21:12.686Z"
   },
   {
    "duration": 18,
    "start_time": "2022-08-23T11:22:08.089Z"
   },
   {
    "duration": 22,
    "start_time": "2022-08-23T11:24:07.077Z"
   },
   {
    "duration": 22,
    "start_time": "2022-08-23T11:24:20.169Z"
   },
   {
    "duration": 21,
    "start_time": "2022-08-23T11:24:34.569Z"
   },
   {
    "duration": 13,
    "start_time": "2022-08-23T11:24:57.358Z"
   },
   {
    "duration": 92,
    "start_time": "2022-08-23T11:25:01.971Z"
   },
   {
    "duration": 13,
    "start_time": "2022-08-23T11:25:06.544Z"
   },
   {
    "duration": 14,
    "start_time": "2022-08-23T11:25:09.768Z"
   },
   {
    "duration": 14,
    "start_time": "2022-08-23T11:26:19.454Z"
   },
   {
    "duration": 12,
    "start_time": "2022-08-23T11:27:40.570Z"
   },
   {
    "duration": 363,
    "start_time": "2022-08-23T11:32:40.232Z"
   },
   {
    "duration": 333,
    "start_time": "2022-08-23T11:33:11.129Z"
   },
   {
    "duration": 421,
    "start_time": "2022-08-23T11:33:21.258Z"
   },
   {
    "duration": 344,
    "start_time": "2022-08-23T11:34:43.935Z"
   },
   {
    "duration": 394,
    "start_time": "2022-08-23T11:35:42.588Z"
   },
   {
    "duration": 151,
    "start_time": "2022-08-23T11:36:22.168Z"
   },
   {
    "duration": 9,
    "start_time": "2022-08-23T11:46:47.416Z"
   },
   {
    "duration": 6,
    "start_time": "2022-08-23T11:46:58.593Z"
   },
   {
    "duration": 73,
    "start_time": "2022-08-23T11:47:30.676Z"
   },
   {
    "duration": 54,
    "start_time": "2022-08-23T11:47:33.132Z"
   },
   {
    "duration": 6,
    "start_time": "2022-08-23T11:48:48.775Z"
   },
   {
    "duration": 12,
    "start_time": "2022-08-23T11:48:58.274Z"
   },
   {
    "duration": 20,
    "start_time": "2022-08-23T11:49:06.605Z"
   },
   {
    "duration": 12,
    "start_time": "2022-08-23T11:49:23.935Z"
   },
   {
    "duration": 12,
    "start_time": "2022-08-23T11:49:36.341Z"
   },
   {
    "duration": 11,
    "start_time": "2022-08-23T11:49:44.893Z"
   },
   {
    "duration": 13,
    "start_time": "2022-08-23T11:49:54.995Z"
   },
   {
    "duration": 11,
    "start_time": "2022-08-23T11:54:55.565Z"
   },
   {
    "duration": 9,
    "start_time": "2022-08-23T11:55:19.328Z"
   },
   {
    "duration": 351,
    "start_time": "2022-08-23T11:57:48.326Z"
   },
   {
    "duration": 333,
    "start_time": "2022-08-23T11:58:10.840Z"
   },
   {
    "duration": 383,
    "start_time": "2022-08-23T11:58:26.096Z"
   },
   {
    "duration": 303,
    "start_time": "2022-08-23T11:58:36.288Z"
   },
   {
    "duration": 345,
    "start_time": "2022-08-23T11:58:44.441Z"
   },
   {
    "duration": 354,
    "start_time": "2022-08-23T11:58:58.068Z"
   },
   {
    "duration": 342,
    "start_time": "2022-08-23T12:00:20.057Z"
   },
   {
    "duration": 335,
    "start_time": "2022-08-23T12:00:27.832Z"
   },
   {
    "duration": 282,
    "start_time": "2022-08-23T12:29:18.123Z"
   },
   {
    "duration": 214,
    "start_time": "2022-08-23T12:29:37.503Z"
   },
   {
    "duration": 12,
    "start_time": "2022-08-23T12:34:38.207Z"
   },
   {
    "duration": 216,
    "start_time": "2022-08-23T14:11:27.403Z"
   },
   {
    "duration": 238,
    "start_time": "2022-08-23T14:12:06.790Z"
   },
   {
    "duration": 222,
    "start_time": "2022-08-23T14:12:14.886Z"
   },
   {
    "duration": 16,
    "start_time": "2022-08-23T14:28:26.615Z"
   },
   {
    "duration": 15,
    "start_time": "2022-08-23T14:29:12.044Z"
   },
   {
    "duration": 12,
    "start_time": "2022-08-23T14:32:01.775Z"
   },
   {
    "duration": 27,
    "start_time": "2022-08-23T14:33:04.476Z"
   },
   {
    "duration": 17,
    "start_time": "2022-08-23T14:33:45.027Z"
   },
   {
    "duration": 26,
    "start_time": "2022-08-23T14:35:22.195Z"
   },
   {
    "duration": 14,
    "start_time": "2022-08-23T14:35:36.672Z"
   },
   {
    "duration": 3,
    "start_time": "2022-08-23T14:36:01.015Z"
   },
   {
    "duration": 23,
    "start_time": "2022-08-23T14:36:20.492Z"
   },
   {
    "duration": 15,
    "start_time": "2022-08-23T14:38:19.224Z"
   },
   {
    "duration": 16,
    "start_time": "2022-08-23T14:38:58.295Z"
   },
   {
    "duration": 9,
    "start_time": "2022-08-23T14:41:59.075Z"
   },
   {
    "duration": 15,
    "start_time": "2022-08-23T14:42:07.008Z"
   },
   {
    "duration": 4,
    "start_time": "2022-08-23T14:44:41.516Z"
   },
   {
    "duration": 18,
    "start_time": "2022-08-23T14:44:53.024Z"
   },
   {
    "duration": 3,
    "start_time": "2022-08-23T14:48:05.356Z"
   },
   {
    "duration": 18,
    "start_time": "2022-08-23T14:48:13.725Z"
   },
   {
    "duration": 21,
    "start_time": "2022-08-23T14:49:13.373Z"
   },
   {
    "duration": 10,
    "start_time": "2022-08-23T14:52:58.054Z"
   },
   {
    "duration": 10,
    "start_time": "2022-08-23T14:53:45.936Z"
   },
   {
    "duration": 5,
    "start_time": "2022-08-23T14:54:22.797Z"
   },
   {
    "duration": 9,
    "start_time": "2022-08-23T14:54:48.205Z"
   },
   {
    "duration": 21,
    "start_time": "2022-08-23T14:55:01.386Z"
   },
   {
    "duration": 15,
    "start_time": "2022-08-23T14:55:48.501Z"
   },
   {
    "duration": 75,
    "start_time": "2022-08-23T14:56:17.276Z"
   },
   {
    "duration": 21,
    "start_time": "2022-08-23T14:56:34.540Z"
   },
   {
    "duration": 815,
    "start_time": "2022-08-23T15:00:54.626Z"
   },
   {
    "duration": 182,
    "start_time": "2022-08-23T15:01:36.240Z"
   },
   {
    "duration": 116,
    "start_time": "2022-08-23T15:01:46.449Z"
   },
   {
    "duration": 1066,
    "start_time": "2022-08-23T15:03:16.223Z"
   },
   {
    "duration": 51,
    "start_time": "2022-08-23T15:03:17.290Z"
   },
   {
    "duration": 28,
    "start_time": "2022-08-23T15:03:17.343Z"
   },
   {
    "duration": 11,
    "start_time": "2022-08-23T15:03:17.373Z"
   },
   {
    "duration": 7,
    "start_time": "2022-08-23T15:03:17.385Z"
   },
   {
    "duration": 43,
    "start_time": "2022-08-23T15:03:17.393Z"
   },
   {
    "duration": 22,
    "start_time": "2022-08-23T15:03:17.438Z"
   },
   {
    "duration": 22,
    "start_time": "2022-08-23T15:03:17.462Z"
   },
   {
    "duration": 13,
    "start_time": "2022-08-23T15:03:17.485Z"
   },
   {
    "duration": 8,
    "start_time": "2022-08-23T15:03:17.500Z"
   },
   {
    "duration": 16,
    "start_time": "2022-08-23T15:03:17.510Z"
   },
   {
    "duration": 12,
    "start_time": "2022-08-23T15:03:17.528Z"
   },
   {
    "duration": 18,
    "start_time": "2022-08-23T15:03:17.542Z"
   },
   {
    "duration": 7,
    "start_time": "2022-08-23T15:03:17.562Z"
   },
   {
    "duration": 9,
    "start_time": "2022-08-23T15:03:17.570Z"
   },
   {
    "duration": 24,
    "start_time": "2022-08-23T15:03:17.580Z"
   },
   {
    "duration": 27,
    "start_time": "2022-08-23T15:03:17.605Z"
   },
   {
    "duration": 4,
    "start_time": "2022-08-23T15:03:17.634Z"
   },
   {
    "duration": 18,
    "start_time": "2022-08-23T15:03:17.640Z"
   },
   {
    "duration": 4,
    "start_time": "2022-08-23T15:03:17.660Z"
   },
   {
    "duration": 20,
    "start_time": "2022-08-23T15:03:17.665Z"
   },
   {
    "duration": 22,
    "start_time": "2022-08-23T15:03:17.686Z"
   },
   {
    "duration": 4154,
    "start_time": "2022-08-23T15:03:17.710Z"
   },
   {
    "duration": 13,
    "start_time": "2022-08-23T15:03:21.866Z"
   },
   {
    "duration": 9,
    "start_time": "2022-08-23T15:03:21.881Z"
   },
   {
    "duration": 7,
    "start_time": "2022-08-23T15:03:21.892Z"
   },
   {
    "duration": 306,
    "start_time": "2022-08-23T15:03:21.911Z"
   },
   {
    "duration": 7,
    "start_time": "2022-08-23T15:03:22.221Z"
   },
   {
    "duration": 14,
    "start_time": "2022-08-23T15:03:22.229Z"
   },
   {
    "duration": 11,
    "start_time": "2022-08-23T15:03:22.244Z"
   },
   {
    "duration": 439,
    "start_time": "2022-08-23T15:03:22.256Z"
   },
   {
    "duration": 9,
    "start_time": "2022-08-23T15:03:22.697Z"
   },
   {
    "duration": 22,
    "start_time": "2022-08-23T15:03:22.708Z"
   },
   {
    "duration": 12,
    "start_time": "2022-08-23T15:03:22.732Z"
   },
   {
    "duration": 9,
    "start_time": "2022-08-23T15:03:22.745Z"
   },
   {
    "duration": 349,
    "start_time": "2022-08-23T15:03:22.756Z"
   },
   {
    "duration": 228,
    "start_time": "2022-08-23T15:03:23.110Z"
   },
   {
    "duration": 186,
    "start_time": "2022-08-23T15:03:23.340Z"
   },
   {
    "duration": 119,
    "start_time": "2022-08-23T15:03:34.834Z"
   },
   {
    "duration": 118,
    "start_time": "2022-08-23T15:04:43.107Z"
   },
   {
    "duration": 120,
    "start_time": "2022-08-23T15:04:57.269Z"
   },
   {
    "duration": 118,
    "start_time": "2022-08-23T15:05:03.997Z"
   },
   {
    "duration": 122,
    "start_time": "2022-08-23T15:05:24.456Z"
   },
   {
    "duration": 127,
    "start_time": "2022-08-23T15:05:36.934Z"
   },
   {
    "duration": 6,
    "start_time": "2022-08-23T15:07:36.606Z"
   },
   {
    "duration": 122,
    "start_time": "2022-08-23T15:17:04.932Z"
   },
   {
    "duration": 154,
    "start_time": "2022-08-23T15:17:33.363Z"
   },
   {
    "duration": 119,
    "start_time": "2022-08-23T15:17:41.140Z"
   },
   {
    "duration": 133,
    "start_time": "2022-08-23T15:18:17.823Z"
   },
   {
    "duration": 169,
    "start_time": "2022-08-23T15:20:11.028Z"
   },
   {
    "duration": 172,
    "start_time": "2022-08-23T15:20:50.359Z"
   },
   {
    "duration": 243,
    "start_time": "2022-08-23T15:21:31.528Z"
   },
   {
    "duration": 182,
    "start_time": "2022-08-23T15:21:41.432Z"
   },
   {
    "duration": 168,
    "start_time": "2022-08-23T15:21:51.192Z"
   },
   {
    "duration": 222,
    "start_time": "2022-08-23T15:22:22.632Z"
   },
   {
    "duration": 165,
    "start_time": "2022-08-23T15:24:20.431Z"
   },
   {
    "duration": 181,
    "start_time": "2022-08-23T15:25:01.450Z"
   },
   {
    "duration": 41,
    "start_time": "2022-08-23T15:26:28.683Z"
   },
   {
    "duration": 163,
    "start_time": "2022-08-23T15:27:36.622Z"
   },
   {
    "duration": 173,
    "start_time": "2022-08-23T15:28:10.323Z"
   },
   {
    "duration": 22,
    "start_time": "2022-08-23T15:31:52.583Z"
   },
   {
    "duration": 16,
    "start_time": "2022-08-23T15:33:59.144Z"
   },
   {
    "duration": 6,
    "start_time": "2022-08-23T15:36:17.658Z"
   },
   {
    "duration": 6,
    "start_time": "2022-08-23T15:37:25.625Z"
   },
   {
    "duration": 6,
    "start_time": "2022-08-23T15:38:31.424Z"
   },
   {
    "duration": 7,
    "start_time": "2022-08-23T15:38:53.690Z"
   },
   {
    "duration": 6,
    "start_time": "2022-08-23T15:39:13.156Z"
   },
   {
    "duration": 173,
    "start_time": "2022-08-23T15:41:45.621Z"
   },
   {
    "duration": 67,
    "start_time": "2022-08-23T15:43:00.191Z"
   },
   {
    "duration": 91,
    "start_time": "2022-08-23T15:43:27.672Z"
   },
   {
    "duration": 224,
    "start_time": "2022-08-23T16:33:02.775Z"
   },
   {
    "duration": 9,
    "start_time": "2022-08-23T16:34:28.215Z"
   },
   {
    "duration": 10,
    "start_time": "2022-08-23T16:34:36.958Z"
   },
   {
    "duration": 4,
    "start_time": "2022-08-23T16:34:45.928Z"
   },
   {
    "duration": 33,
    "start_time": "2022-08-23T16:38:58.952Z"
   },
   {
    "duration": 317,
    "start_time": "2022-08-23T16:40:58.905Z"
   },
   {
    "duration": 220,
    "start_time": "2022-08-23T16:41:25.586Z"
   },
   {
    "duration": 214,
    "start_time": "2022-08-23T16:41:30.145Z"
   },
   {
    "duration": 4,
    "start_time": "2022-08-23T16:47:25.686Z"
   },
   {
    "duration": 101,
    "start_time": "2022-08-23T16:50:59.941Z"
   },
   {
    "duration": 83,
    "start_time": "2022-08-23T17:04:42.982Z"
   },
   {
    "duration": 1532,
    "start_time": "2022-08-23T17:04:51.642Z"
   },
   {
    "duration": 157,
    "start_time": "2022-08-23T17:10:51.465Z"
   },
   {
    "duration": 238,
    "start_time": "2022-08-23T17:13:05.422Z"
   },
   {
    "duration": 157,
    "start_time": "2022-08-23T17:14:07.317Z"
   },
   {
    "duration": 52,
    "start_time": "2022-08-23T17:14:52.188Z"
   },
   {
    "duration": 7,
    "start_time": "2022-08-23T17:16:23.119Z"
   },
   {
    "duration": 7,
    "start_time": "2022-08-23T17:17:19.128Z"
   },
   {
    "duration": 70,
    "start_time": "2022-08-23T17:17:50.297Z"
   },
   {
    "duration": 6,
    "start_time": "2022-08-23T17:19:12.568Z"
   },
   {
    "duration": 6,
    "start_time": "2022-08-23T17:19:21.960Z"
   },
   {
    "duration": 5,
    "start_time": "2022-08-23T17:19:26.537Z"
   },
   {
    "duration": 5,
    "start_time": "2022-08-23T17:20:24.589Z"
   },
   {
    "duration": 52,
    "start_time": "2022-08-23T17:21:15.119Z"
   },
   {
    "duration": 6,
    "start_time": "2022-08-23T17:24:36.879Z"
   },
   {
    "duration": 52,
    "start_time": "2022-08-23T17:26:39.010Z"
   },
   {
    "duration": 46,
    "start_time": "2022-08-23T17:33:03.791Z"
   },
   {
    "duration": 372,
    "start_time": "2022-08-23T17:33:31.448Z"
   },
   {
    "duration": 355,
    "start_time": "2022-08-23T17:33:54.135Z"
   },
   {
    "duration": 128,
    "start_time": "2022-08-23T17:34:17.024Z"
   },
   {
    "duration": 140,
    "start_time": "2022-08-23T17:35:31.878Z"
   },
   {
    "duration": 48,
    "start_time": "2022-08-23T17:36:13.577Z"
   },
   {
    "duration": 158,
    "start_time": "2022-08-23T17:36:27.271Z"
   },
   {
    "duration": 164,
    "start_time": "2022-08-23T18:00:59.419Z"
   },
   {
    "duration": 160,
    "start_time": "2022-08-23T18:01:10.098Z"
   },
   {
    "duration": 2,
    "start_time": "2022-08-23T18:03:03.912Z"
   },
   {
    "duration": 221,
    "start_time": "2022-08-23T18:04:58.046Z"
   },
   {
    "duration": 785,
    "start_time": "2022-08-23T18:05:36.070Z"
   },
   {
    "duration": 5,
    "start_time": "2022-08-23T18:05:50.446Z"
   },
   {
    "duration": 147,
    "start_time": "2022-08-23T18:06:07.732Z"
   },
   {
    "duration": 133,
    "start_time": "2022-08-23T18:07:17.994Z"
   },
   {
    "duration": 322,
    "start_time": "2022-08-23T18:08:01.377Z"
   },
   {
    "duration": 185,
    "start_time": "2022-08-23T18:08:31.495Z"
   },
   {
    "duration": 139,
    "start_time": "2022-08-23T18:08:36.318Z"
   },
   {
    "duration": 53,
    "start_time": "2022-08-23T18:09:30.266Z"
   },
   {
    "duration": 55,
    "start_time": "2022-08-23T18:10:00.939Z"
   },
   {
    "duration": 176,
    "start_time": "2022-08-23T18:10:10.027Z"
   },
   {
    "duration": 11,
    "start_time": "2022-08-23T18:11:13.349Z"
   },
   {
    "duration": 9,
    "start_time": "2022-08-23T18:11:19.917Z"
   },
   {
    "duration": 158,
    "start_time": "2022-08-23T18:11:29.111Z"
   },
   {
    "duration": 142,
    "start_time": "2022-08-23T18:11:36.338Z"
   },
   {
    "duration": 141,
    "start_time": "2022-08-23T18:11:47.935Z"
   },
   {
    "duration": 43,
    "start_time": "2022-08-23T18:13:28.316Z"
   },
   {
    "duration": 3,
    "start_time": "2022-08-23T18:13:38.940Z"
   },
   {
    "duration": 288,
    "start_time": "2022-08-23T18:13:55.680Z"
   },
   {
    "duration": 181,
    "start_time": "2022-08-23T18:14:04.524Z"
   },
   {
    "duration": 4,
    "start_time": "2022-08-23T18:20:15.242Z"
   },
   {
    "duration": 168,
    "start_time": "2022-08-23T18:21:39.878Z"
   },
   {
    "duration": 139,
    "start_time": "2022-08-23T18:21:56.897Z"
   },
   {
    "duration": 147,
    "start_time": "2022-08-23T18:22:09.350Z"
   },
   {
    "duration": 135,
    "start_time": "2022-08-23T18:22:23.328Z"
   },
   {
    "duration": 10,
    "start_time": "2022-08-23T18:27:06.959Z"
   },
   {
    "duration": 3,
    "start_time": "2022-08-23T18:27:29.554Z"
   },
   {
    "duration": 9,
    "start_time": "2022-08-23T18:28:37.840Z"
   },
   {
    "duration": 3,
    "start_time": "2022-08-23T18:28:41.222Z"
   },
   {
    "duration": 10,
    "start_time": "2022-08-23T18:29:19.600Z"
   },
   {
    "duration": 3,
    "start_time": "2022-08-23T18:29:20.617Z"
   },
   {
    "duration": 5,
    "start_time": "2022-08-23T18:29:26.668Z"
   },
   {
    "duration": 20,
    "start_time": "2022-08-23T18:32:55.477Z"
   },
   {
    "duration": 22,
    "start_time": "2022-08-23T18:36:48.413Z"
   },
   {
    "duration": 8,
    "start_time": "2022-08-23T18:38:51.928Z"
   },
   {
    "duration": 9,
    "start_time": "2022-08-23T18:39:06.374Z"
   },
   {
    "duration": 32,
    "start_time": "2022-08-23T18:40:56.306Z"
   },
   {
    "duration": 17,
    "start_time": "2022-08-23T18:41:05.491Z"
   },
   {
    "duration": 17,
    "start_time": "2022-08-23T18:41:39.658Z"
   },
   {
    "duration": 17,
    "start_time": "2022-08-23T18:41:52.051Z"
   },
   {
    "duration": 10,
    "start_time": "2022-08-23T18:41:56.012Z"
   },
   {
    "duration": 3,
    "start_time": "2022-08-23T18:41:56.835Z"
   },
   {
    "duration": 4,
    "start_time": "2022-08-23T18:41:58.337Z"
   },
   {
    "duration": 24,
    "start_time": "2022-08-23T18:41:59.833Z"
   },
   {
    "duration": 17,
    "start_time": "2022-08-23T18:42:20.417Z"
   },
   {
    "duration": 13,
    "start_time": "2022-08-23T18:49:13.658Z"
   },
   {
    "duration": 15,
    "start_time": "2022-08-23T18:50:30.253Z"
   },
   {
    "duration": 4,
    "start_time": "2022-08-23T18:51:23.695Z"
   },
   {
    "duration": 15,
    "start_time": "2022-08-23T18:51:51.918Z"
   },
   {
    "duration": 53,
    "start_time": "2022-08-23T18:58:19.394Z"
   },
   {
    "duration": 73,
    "start_time": "2022-08-23T19:03:40.782Z"
   },
   {
    "duration": 8,
    "start_time": "2022-08-23T19:05:27.391Z"
   },
   {
    "duration": 4,
    "start_time": "2022-08-23T19:11:31.591Z"
   },
   {
    "duration": 3,
    "start_time": "2022-08-23T19:12:04.563Z"
   },
   {
    "duration": 9,
    "start_time": "2022-08-23T19:12:50.692Z"
   },
   {
    "duration": 5,
    "start_time": "2022-08-23T19:21:18.940Z"
   },
   {
    "duration": 8,
    "start_time": "2022-08-23T19:21:48.268Z"
   },
   {
    "duration": 9,
    "start_time": "2022-08-23T19:22:02.701Z"
   },
   {
    "duration": 1075,
    "start_time": "2022-08-23T19:22:10.599Z"
   },
   {
    "duration": 52,
    "start_time": "2022-08-23T19:22:11.675Z"
   },
   {
    "duration": 29,
    "start_time": "2022-08-23T19:22:11.728Z"
   },
   {
    "duration": 13,
    "start_time": "2022-08-23T19:22:11.758Z"
   },
   {
    "duration": 6,
    "start_time": "2022-08-23T19:22:11.773Z"
   },
   {
    "duration": 30,
    "start_time": "2022-08-23T19:22:11.781Z"
   },
   {
    "duration": 11,
    "start_time": "2022-08-23T19:22:11.812Z"
   },
   {
    "duration": 12,
    "start_time": "2022-08-23T19:22:11.825Z"
   },
   {
    "duration": 6,
    "start_time": "2022-08-23T19:22:11.839Z"
   },
   {
    "duration": 5,
    "start_time": "2022-08-23T19:22:11.847Z"
   },
   {
    "duration": 6,
    "start_time": "2022-08-23T19:22:11.854Z"
   },
   {
    "duration": 12,
    "start_time": "2022-08-23T19:22:11.862Z"
   },
   {
    "duration": 47,
    "start_time": "2022-08-23T19:22:11.876Z"
   },
   {
    "duration": 7,
    "start_time": "2022-08-23T19:22:11.926Z"
   },
   {
    "duration": 5,
    "start_time": "2022-08-23T19:22:11.934Z"
   },
   {
    "duration": 4,
    "start_time": "2022-08-23T19:22:11.941Z"
   },
   {
    "duration": 21,
    "start_time": "2022-08-23T19:22:11.946Z"
   },
   {
    "duration": 9,
    "start_time": "2022-08-23T19:22:11.968Z"
   },
   {
    "duration": 4,
    "start_time": "2022-08-23T19:22:12.012Z"
   },
   {
    "duration": 18,
    "start_time": "2022-08-23T19:22:12.018Z"
   },
   {
    "duration": 9,
    "start_time": "2022-08-23T19:22:12.038Z"
   },
   {
    "duration": 19,
    "start_time": "2022-08-23T19:22:12.048Z"
   },
   {
    "duration": 31,
    "start_time": "2022-08-23T19:22:12.069Z"
   },
   {
    "duration": 18,
    "start_time": "2022-08-23T19:22:12.101Z"
   },
   {
    "duration": 47,
    "start_time": "2022-08-23T19:22:12.121Z"
   },
   {
    "duration": 4157,
    "start_time": "2022-08-23T19:22:12.170Z"
   },
   {
    "duration": 13,
    "start_time": "2022-08-23T19:22:16.329Z"
   },
   {
    "duration": 11,
    "start_time": "2022-08-23T19:22:16.343Z"
   },
   {
    "duration": 9,
    "start_time": "2022-08-23T19:22:16.356Z"
   },
   {
    "duration": 300,
    "start_time": "2022-08-23T19:22:16.367Z"
   },
   {
    "duration": 8,
    "start_time": "2022-08-23T19:22:16.669Z"
   },
   {
    "duration": 13,
    "start_time": "2022-08-23T19:22:16.679Z"
   },
   {
    "duration": 11,
    "start_time": "2022-08-23T19:22:16.711Z"
   },
   {
    "duration": 376,
    "start_time": "2022-08-23T19:22:16.723Z"
   },
   {
    "duration": 7,
    "start_time": "2022-08-23T19:22:17.100Z"
   },
   {
    "duration": 14,
    "start_time": "2022-08-23T19:22:17.109Z"
   },
   {
    "duration": 17,
    "start_time": "2022-08-23T19:22:17.124Z"
   },
   {
    "duration": 14,
    "start_time": "2022-08-23T19:22:17.142Z"
   },
   {
    "duration": 343,
    "start_time": "2022-08-23T19:22:17.157Z"
   },
   {
    "duration": 229,
    "start_time": "2022-08-23T19:22:17.502Z"
   },
   {
    "duration": 223,
    "start_time": "2022-08-23T19:22:17.735Z"
   },
   {
    "duration": 167,
    "start_time": "2022-08-23T19:22:17.960Z"
   },
   {
    "duration": 6,
    "start_time": "2022-08-23T19:22:18.129Z"
   },
   {
    "duration": 6,
    "start_time": "2022-08-23T19:22:18.136Z"
   },
   {
    "duration": 34,
    "start_time": "2022-08-23T19:22:18.143Z"
   },
   {
    "duration": 166,
    "start_time": "2022-08-23T19:22:18.178Z"
   },
   {
    "duration": 156,
    "start_time": "2022-08-23T19:22:18.346Z"
   },
   {
    "duration": 12,
    "start_time": "2022-08-23T19:22:18.504Z"
   },
   {
    "duration": 9,
    "start_time": "2022-08-23T19:22:18.518Z"
   },
   {
    "duration": 191,
    "start_time": "2022-08-23T19:22:18.529Z"
   },
   {
    "duration": 148,
    "start_time": "2022-08-23T19:22:18.722Z"
   },
   {
    "duration": 9,
    "start_time": "2022-08-23T19:22:18.872Z"
   },
   {
    "duration": 6,
    "start_time": "2022-08-23T19:22:18.882Z"
   },
   {
    "duration": 6,
    "start_time": "2022-08-23T19:22:18.890Z"
   },
   {
    "duration": 31,
    "start_time": "2022-08-23T19:22:18.897Z"
   },
   {
    "duration": 13,
    "start_time": "2022-08-23T19:22:18.930Z"
   },
   {
    "duration": 14,
    "start_time": "2022-08-23T19:22:18.944Z"
   },
   {
    "duration": 8,
    "start_time": "2022-08-23T19:22:18.959Z"
   },
   {
    "duration": 42,
    "start_time": "2022-08-23T19:22:18.969Z"
   },
   {
    "duration": 42,
    "start_time": "2022-08-23T19:22:19.013Z"
   },
   {
    "duration": 5,
    "start_time": "2022-08-23T19:25:38.031Z"
   },
   {
    "duration": 5,
    "start_time": "2022-08-23T19:26:17.628Z"
   },
   {
    "duration": 1084,
    "start_time": "2022-08-23T19:26:27.197Z"
   },
   {
    "duration": 51,
    "start_time": "2022-08-23T19:26:28.282Z"
   },
   {
    "duration": 30,
    "start_time": "2022-08-23T19:26:28.335Z"
   },
   {
    "duration": 12,
    "start_time": "2022-08-23T19:26:28.366Z"
   },
   {
    "duration": 3,
    "start_time": "2022-08-23T19:26:28.380Z"
   },
   {
    "duration": 34,
    "start_time": "2022-08-23T19:26:28.384Z"
   },
   {
    "duration": 12,
    "start_time": "2022-08-23T19:26:28.419Z"
   },
   {
    "duration": 12,
    "start_time": "2022-08-23T19:26:28.432Z"
   },
   {
    "duration": 10,
    "start_time": "2022-08-23T19:26:28.446Z"
   },
   {
    "duration": 7,
    "start_time": "2022-08-23T19:26:28.458Z"
   },
   {
    "duration": 9,
    "start_time": "2022-08-23T19:26:28.467Z"
   },
   {
    "duration": 33,
    "start_time": "2022-08-23T19:26:28.478Z"
   },
   {
    "duration": 13,
    "start_time": "2022-08-23T19:26:28.513Z"
   },
   {
    "duration": 7,
    "start_time": "2022-08-23T19:26:28.529Z"
   },
   {
    "duration": 5,
    "start_time": "2022-08-23T19:26:28.538Z"
   },
   {
    "duration": 4,
    "start_time": "2022-08-23T19:26:28.544Z"
   },
   {
    "duration": 21,
    "start_time": "2022-08-23T19:26:28.549Z"
   },
   {
    "duration": 5,
    "start_time": "2022-08-23T19:26:28.571Z"
   },
   {
    "duration": 35,
    "start_time": "2022-08-23T19:26:28.577Z"
   },
   {
    "duration": 7,
    "start_time": "2022-08-23T19:26:28.614Z"
   },
   {
    "duration": 4,
    "start_time": "2022-08-23T19:26:28.623Z"
   },
   {
    "duration": 13,
    "start_time": "2022-08-23T19:26:28.628Z"
   },
   {
    "duration": 18,
    "start_time": "2022-08-23T19:26:28.642Z"
   },
   {
    "duration": 4391,
    "start_time": "2022-08-23T19:26:28.661Z"
   },
   {
    "duration": 11,
    "start_time": "2022-08-23T19:26:33.054Z"
   },
   {
    "duration": 15,
    "start_time": "2022-08-23T19:26:33.066Z"
   },
   {
    "duration": 10,
    "start_time": "2022-08-23T19:26:33.083Z"
   },
   {
    "duration": 297,
    "start_time": "2022-08-23T19:26:33.094Z"
   },
   {
    "duration": 6,
    "start_time": "2022-08-23T19:26:33.393Z"
   },
   {
    "duration": 25,
    "start_time": "2022-08-23T19:26:33.401Z"
   },
   {
    "duration": 13,
    "start_time": "2022-08-23T19:26:33.427Z"
   },
   {
    "duration": 382,
    "start_time": "2022-08-23T19:26:33.441Z"
   },
   {
    "duration": 7,
    "start_time": "2022-08-23T19:26:33.824Z"
   },
   {
    "duration": 12,
    "start_time": "2022-08-23T19:26:33.833Z"
   },
   {
    "duration": 9,
    "start_time": "2022-08-23T19:26:33.847Z"
   },
   {
    "duration": 8,
    "start_time": "2022-08-23T19:26:33.858Z"
   },
   {
    "duration": 362,
    "start_time": "2022-08-23T19:26:33.868Z"
   },
   {
    "duration": 226,
    "start_time": "2022-08-23T19:26:34.231Z"
   },
   {
    "duration": 242,
    "start_time": "2022-08-23T19:26:34.459Z"
   },
   {
    "duration": 198,
    "start_time": "2022-08-23T19:26:34.703Z"
   },
   {
    "duration": 6,
    "start_time": "2022-08-23T19:26:34.910Z"
   },
   {
    "duration": 7,
    "start_time": "2022-08-23T19:26:34.918Z"
   },
   {
    "duration": 39,
    "start_time": "2022-08-23T19:26:34.927Z"
   },
   {
    "duration": 161,
    "start_time": "2022-08-23T19:26:34.968Z"
   },
   {
    "duration": 157,
    "start_time": "2022-08-23T19:26:35.131Z"
   },
   {
    "duration": 7,
    "start_time": "2022-08-23T19:26:35.289Z"
   },
   {
    "duration": 4,
    "start_time": "2022-08-23T19:26:35.310Z"
   },
   {
    "duration": 187,
    "start_time": "2022-08-23T19:26:35.316Z"
   },
   {
    "duration": 153,
    "start_time": "2022-08-23T19:26:35.504Z"
   },
   {
    "duration": 9,
    "start_time": "2022-08-23T19:26:35.659Z"
   },
   {
    "duration": 12,
    "start_time": "2022-08-23T19:26:35.670Z"
   },
   {
    "duration": 6,
    "start_time": "2022-08-23T19:26:35.683Z"
   },
   {
    "duration": 27,
    "start_time": "2022-08-23T19:26:35.690Z"
   },
   {
    "duration": 13,
    "start_time": "2022-08-23T19:26:35.718Z"
   },
   {
    "duration": 14,
    "start_time": "2022-08-23T19:26:35.732Z"
   },
   {
    "duration": 8,
    "start_time": "2022-08-23T19:26:35.747Z"
   },
   {
    "duration": 10,
    "start_time": "2022-08-23T19:26:35.756Z"
   },
   {
    "duration": 47,
    "start_time": "2022-08-23T19:26:35.767Z"
   },
   {
    "duration": 6,
    "start_time": "2022-08-23T19:29:41.244Z"
   },
   {
    "duration": 7,
    "start_time": "2022-08-23T19:30:15.040Z"
   },
   {
    "duration": 102,
    "start_time": "2022-08-23T19:34:46.021Z"
   },
   {
    "duration": 77,
    "start_time": "2022-08-23T19:36:12.708Z"
   },
   {
    "duration": 50,
    "start_time": "2022-08-23T19:37:09.823Z"
   },
   {
    "duration": 10,
    "start_time": "2022-08-23T19:38:20.755Z"
   },
   {
    "duration": 9,
    "start_time": "2022-08-23T19:40:57.531Z"
   },
   {
    "duration": 9,
    "start_time": "2022-08-23T19:52:15.855Z"
   },
   {
    "duration": 78,
    "start_time": "2022-08-23T20:02:51.672Z"
   },
   {
    "duration": 50,
    "start_time": "2022-08-23T20:03:29.145Z"
   },
   {
    "duration": 70,
    "start_time": "2022-08-24T03:05:11.864Z"
   },
   {
    "duration": 60,
    "start_time": "2022-08-24T03:06:45.140Z"
   },
   {
    "duration": 57,
    "start_time": "2022-08-24T03:14:58.981Z"
   },
   {
    "duration": 10,
    "start_time": "2022-08-24T03:18:35.051Z"
   },
   {
    "duration": 1216,
    "start_time": "2022-08-24T12:17:30.566Z"
   },
   {
    "duration": 200,
    "start_time": "2022-08-24T12:17:31.784Z"
   },
   {
    "duration": 36,
    "start_time": "2022-08-24T12:17:31.986Z"
   },
   {
    "duration": 13,
    "start_time": "2022-08-24T12:17:32.024Z"
   },
   {
    "duration": 4,
    "start_time": "2022-08-24T12:17:32.040Z"
   },
   {
    "duration": 26,
    "start_time": "2022-08-24T12:17:32.045Z"
   },
   {
    "duration": 38,
    "start_time": "2022-08-24T12:17:32.073Z"
   },
   {
    "duration": 14,
    "start_time": "2022-08-24T12:17:32.116Z"
   },
   {
    "duration": 9,
    "start_time": "2022-08-24T12:17:32.132Z"
   },
   {
    "duration": 9,
    "start_time": "2022-08-24T12:17:32.143Z"
   },
   {
    "duration": 8,
    "start_time": "2022-08-24T12:17:32.153Z"
   },
   {
    "duration": 33,
    "start_time": "2022-08-24T12:17:32.163Z"
   },
   {
    "duration": 23,
    "start_time": "2022-08-24T12:17:32.198Z"
   },
   {
    "duration": 19,
    "start_time": "2022-08-24T12:17:32.223Z"
   },
   {
    "duration": 26,
    "start_time": "2022-08-24T12:17:32.243Z"
   },
   {
    "duration": 23,
    "start_time": "2022-08-24T12:17:32.271Z"
   },
   {
    "duration": 42,
    "start_time": "2022-08-24T12:17:32.296Z"
   },
   {
    "duration": 5,
    "start_time": "2022-08-24T12:17:32.340Z"
   },
   {
    "duration": 30,
    "start_time": "2022-08-24T12:17:32.347Z"
   },
   {
    "duration": 22,
    "start_time": "2022-08-24T12:17:32.378Z"
   },
   {
    "duration": 40,
    "start_time": "2022-08-24T12:17:32.401Z"
   },
   {
    "duration": 19,
    "start_time": "2022-08-24T12:17:32.443Z"
   },
   {
    "duration": 41,
    "start_time": "2022-08-24T12:17:32.464Z"
   },
   {
    "duration": 4519,
    "start_time": "2022-08-24T12:17:32.509Z"
   },
   {
    "duration": 15,
    "start_time": "2022-08-24T12:17:37.029Z"
   },
   {
    "duration": 15,
    "start_time": "2022-08-24T12:17:37.045Z"
   },
   {
    "duration": 8,
    "start_time": "2022-08-24T12:17:37.061Z"
   },
   {
    "duration": 315,
    "start_time": "2022-08-24T12:17:37.070Z"
   },
   {
    "duration": 6,
    "start_time": "2022-08-24T12:17:37.387Z"
   },
   {
    "duration": 24,
    "start_time": "2022-08-24T12:17:37.395Z"
   },
   {
    "duration": 15,
    "start_time": "2022-08-24T12:17:37.421Z"
   },
   {
    "duration": 418,
    "start_time": "2022-08-24T12:17:37.438Z"
   },
   {
    "duration": 6,
    "start_time": "2022-08-24T12:17:37.858Z"
   },
   {
    "duration": 14,
    "start_time": "2022-08-24T12:17:37.866Z"
   },
   {
    "duration": 12,
    "start_time": "2022-08-24T12:17:37.882Z"
   },
   {
    "duration": 21,
    "start_time": "2022-08-24T12:17:37.896Z"
   },
   {
    "duration": 378,
    "start_time": "2022-08-24T12:17:37.918Z"
   },
   {
    "duration": 322,
    "start_time": "2022-08-24T12:17:38.297Z"
   },
   {
    "duration": 175,
    "start_time": "2022-08-24T12:17:38.621Z"
   },
   {
    "duration": 180,
    "start_time": "2022-08-24T12:17:38.798Z"
   },
   {
    "duration": 7,
    "start_time": "2022-08-24T12:17:38.982Z"
   },
   {
    "duration": 28,
    "start_time": "2022-08-24T12:17:38.990Z"
   },
   {
    "duration": 38,
    "start_time": "2022-08-24T12:17:39.020Z"
   },
   {
    "duration": 163,
    "start_time": "2022-08-24T12:17:39.059Z"
   },
   {
    "duration": 158,
    "start_time": "2022-08-24T12:17:39.224Z"
   },
   {
    "duration": 8,
    "start_time": "2022-08-24T12:17:39.384Z"
   },
   {
    "duration": 22,
    "start_time": "2022-08-24T12:17:39.393Z"
   },
   {
    "duration": 197,
    "start_time": "2022-08-24T12:17:39.420Z"
   },
   {
    "duration": 147,
    "start_time": "2022-08-24T12:17:39.618Z"
   },
   {
    "duration": 12,
    "start_time": "2022-08-24T12:17:39.766Z"
   },
   {
    "duration": 12,
    "start_time": "2022-08-24T12:17:39.780Z"
   },
   {
    "duration": 11,
    "start_time": "2022-08-24T12:17:39.794Z"
   },
   {
    "duration": 34,
    "start_time": "2022-08-24T12:17:39.809Z"
   },
   {
    "duration": 15,
    "start_time": "2022-08-24T12:17:39.845Z"
   },
   {
    "duration": 15,
    "start_time": "2022-08-24T12:17:39.862Z"
   },
   {
    "duration": 8,
    "start_time": "2022-08-24T12:17:39.878Z"
   },
   {
    "duration": 10,
    "start_time": "2022-08-24T12:17:39.911Z"
   },
   {
    "duration": 9,
    "start_time": "2022-08-24T12:17:39.923Z"
   },
   {
    "duration": 8,
    "start_time": "2022-08-24T12:17:39.933Z"
   },
   {
    "duration": 117,
    "start_time": "2022-08-24T12:31:48.304Z"
   },
   {
    "duration": 3,
    "start_time": "2022-08-24T12:41:44.628Z"
   },
   {
    "duration": 9,
    "start_time": "2022-08-24T12:56:07.113Z"
   }
  ],
  "kernelspec": {
   "display_name": "Python 3 (ipykernel)",
   "language": "python",
   "name": "python3"
  },
  "language_info": {
   "codemirror_mode": {
    "name": "ipython",
    "version": 3
   },
   "file_extension": ".py",
   "mimetype": "text/x-python",
   "name": "python",
   "nbconvert_exporter": "python",
   "pygments_lexer": "ipython3",
   "version": "3.9.7"
  },
  "toc": {
   "base_numbering": 1,
   "nav_menu": {},
   "number_sections": true,
   "sideBar": true,
   "skip_h1_title": true,
   "title_cell": "Table of Contents",
   "title_sidebar": "Contents",
   "toc_cell": false,
   "toc_position": {},
   "toc_section_display": true,
   "toc_window_display": false
  }
 },
 "nbformat": 4,
 "nbformat_minor": 2
}
